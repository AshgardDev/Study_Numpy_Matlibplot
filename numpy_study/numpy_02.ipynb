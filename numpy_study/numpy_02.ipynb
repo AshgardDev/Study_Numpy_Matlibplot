{
 "cells": [
  {
   "cell_type": "code",
   "id": "initial_id",
   "metadata": {
    "collapsed": true,
    "jupyter": {
     "outputs_hidden": true
    },
    "ExecuteTime": {
     "end_time": "2025-03-31T14:27:20.648832Z",
     "start_time": "2025-03-31T14:27:20.576670Z"
    }
   },
   "source": [
    "import numpy as np\n",
    "from numpy.ma.core import reshape\n",
    "\n",
    "ary = np.arange(12).reshape(3, 4)"
   ],
   "outputs": [],
   "execution_count": 2
  },
  {
   "cell_type": "code",
   "id": "63a0e5e30668bb8f",
   "metadata": {
    "ExecuteTime": {
     "end_time": "2025-03-31T14:27:20.678499Z",
     "start_time": "2025-03-31T14:27:20.665292Z"
    }
   },
   "source": [
    "ary.ndim, ary.shape, ary.size, len(ary)"
   ],
   "outputs": [
    {
     "data": {
      "text/plain": [
       "(2, (3, 4), 12, 3)"
      ]
     },
     "execution_count": 3,
     "metadata": {},
     "output_type": "execute_result"
    }
   ],
   "execution_count": 3
  },
  {
   "cell_type": "code",
   "id": "826fd13616315da3",
   "metadata": {
    "ExecuteTime": {
     "end_time": "2025-03-31T14:27:20.743309Z",
     "start_time": "2025-03-31T14:27:20.731278Z"
    }
   },
   "source": [
    "\n",
    "ary = np.arange(24).reshape(2, 3, 4)\n",
    "print(ary)\n",
    "print(ary[1])\n",
    "print(ary[1, 2])\n",
    "print(ary[1, 2, 3])\n",
    "print(ary[1][2])\n",
    "print(ary[1][2][3])"
   ],
   "outputs": [
    {
     "name": "stdout",
     "output_type": "stream",
     "text": [
      "[[[ 0  1  2  3]\n",
      "  [ 4  5  6  7]\n",
      "  [ 8  9 10 11]]\n",
      "\n",
      " [[12 13 14 15]\n",
      "  [16 17 18 19]\n",
      "  [20 21 22 23]]]\n",
      "[[12 13 14 15]\n",
      " [16 17 18 19]\n",
      " [20 21 22 23]]\n",
      "[20 21 22 23]\n",
      "23\n",
      "[20 21 22 23]\n",
      "23\n"
     ]
    }
   ],
   "execution_count": 4
  },
  {
   "cell_type": "code",
   "id": "458797d5c44914d8",
   "metadata": {
    "ExecuteTime": {
     "end_time": "2025-03-31T14:27:20.753323Z",
     "start_time": "2025-03-31T14:27:20.750338Z"
    }
   },
   "source": [
    "for i in range(ary.shape[0]):\n",
    "    for j in range(ary.shape[1]):\n",
    "        for k in range(ary.shape[2]):\n",
    "            print(ary[i, j, k])"
   ],
   "outputs": [
    {
     "name": "stdout",
     "output_type": "stream",
     "text": [
      "0\n",
      "1\n",
      "2\n",
      "3\n",
      "4\n",
      "5\n",
      "6\n",
      "7\n",
      "8\n",
      "9\n",
      "10\n",
      "11\n",
      "12\n",
      "13\n",
      "14\n",
      "15\n",
      "16\n",
      "17\n",
      "18\n",
      "19\n",
      "20\n",
      "21\n",
      "22\n",
      "23\n"
     ]
    }
   ],
   "execution_count": 5
  },
  {
   "cell_type": "markdown",
   "id": "8b814482d2fe18ca",
   "metadata": {},
   "source": [
    "### numpy的数据类型 和 缩写\n",
    "https://cloud.tencent.com/developer/article/1755021\n",
    "\n",
    "\n"
   ]
  },
  {
   "cell_type": "code",
   "id": "b58a7ee19919c47",
   "metadata": {
    "ExecuteTime": {
     "end_time": "2025-03-31T14:27:20.764809Z",
     "start_time": "2025-03-31T14:27:20.761359Z"
    }
   },
   "source": [
    "var = np.dtype(np.float64)\n",
    "print(var, type(var))"
   ],
   "outputs": [
    {
     "name": "stdout",
     "output_type": "stream",
     "text": [
      "float64 <class 'numpy.dtypes.Float64DType'>\n"
     ]
    }
   ],
   "execution_count": 6
  },
  {
   "cell_type": "code",
   "id": "dd8fc1253e17688b",
   "metadata": {
    "ExecuteTime": {
     "end_time": "2025-03-31T14:27:20.800370Z",
     "start_time": "2025-03-31T14:27:20.793453Z"
    }
   },
   "source": [
    "### 自定义复合类型--类\n",
    "\n",
    "data = [\n",
    "    ('zhangsan', [98, 80, 85], 15),\n",
    "    ('lisi', [92, 81, 83], 16),\n",
    "    ('wangwu', [95, 85, 95], 14),\n",
    "]\n",
    "\n",
    "# scores = np.array(data)\n",
    "## U在基础数据类型时,会自动推断长度\n",
    "data2 = np.array(['aa', 'bbb', 'cccc', 'ddddd'], dtype='U')\n",
    "print(data2, data2.dtype)\n",
    "\n",
    "## 这里不能直接写U,不会自动推断结构化数据的长度,解决办法,要么用object,要么用一个大长度(不推荐,浪费空间)\n",
    "scores = np.array(data, dtype='U, 3i4, i4')\n",
    "print(scores, scores.dtype)\n",
    "scores = np.array(data, dtype='O, 3i4, i4')\n",
    "print(scores, scores.dtype)\n",
    "### 结构化数据怎么访问 f1, f2代表field1 field2\n",
    "print('read:', scores[0]['f1'][0])\n",
    "print('--'*30)\n",
    "score2 = np.array(data, dtype=[('name', 'str', 2), ('scores', 'int32', 3), ('age', 'int32', 1)])\n",
    "## 这个时候就没有f0,f1了,已经有明确的字段名字了\n",
    "print('read:', score2[0]['scores'][0])\n",
    "print(score2, score2.dtype)\n",
    "print('--'*30)\n",
    "score3 = np.array(data, dtype={'names':['name', 'scores', 'age'], 'formats':[\n",
    "    'U10', '3int32', 'int32'\n",
    "]})\n",
    "print('read:', score3[0]['scores'][0])\n",
    "print(score3, score3.dtype, scores.itemsize)\n",
    "print('--'*30)\n",
    "\n",
    "### 不推荐,要控制字节数, 知道就好了\n",
    "# score4 = np.array(data, dtype={'name': ('U10', 0), 'scores':('3int32', 16), 'age':('int32', 28)})\n",
    "# print('read:', score4[0]['scores'][0])\n",
    "\n",
    "## 第一种设置dtype的方式\n",
    "# scores = np.array(data, dtype='U3, 3i4, i4')\n",
    "# scores = np.array(data, dtype='<U10, 3i4, i4')\n",
    "# scores = np.array(data, dtype='O, 3i4, i4')\n",
    "\n",
    "## 第二种设置dtype的方式\n",
    "# score2 = np.array(data, dtype=[('name', 'str', 2), ('scores', 'int32', 3), ('age', 'int32', 1)])\n",
    "\n",
    "## 第三种设置dtype的方式\n",
    "# score3 = np.array(data, dtype={'names':['name', 'scores', 'age'], 'formats':[\n",
    "#     'U10', '3int32', 'int32'\n",
    "# ]})\n"
   ],
   "outputs": [
    {
     "name": "stdout",
     "output_type": "stream",
     "text": [
      "['aa' 'bbb' 'cccc' 'ddddd'] <U5\n",
      "[('', [98, 80, 85], 15) ('', [92, 81, 83], 16) ('', [95, 85, 95], 14)] [('f0', '<U'), ('f1', '<i4', (3,)), ('f2', '<i4')]\n",
      "[('zhangsan', [98, 80, 85], 15) ('lisi', [92, 81, 83], 16)\n",
      " ('wangwu', [95, 85, 95], 14)] [('f0', 'O'), ('f1', '<i4', (3,)), ('f2', '<i4')]\n",
      "read: 98\n",
      "------------------------------------------------------------\n",
      "read: 98\n",
      "[('zh', [98, 80, 85], [15]) ('li', [92, 81, 83], [16])\n",
      " ('wa', [95, 85, 95], [14])] [('name', '<U2'), ('scores', '<i4', (3,)), ('age', '<i4', (1,))]\n",
      "------------------------------------------------------------\n",
      "read: 98\n",
      "[('zhangsan', [98, 80, 85], 15) ('lisi', [92, 81, 83], 16)\n",
      " ('wangwu', [95, 85, 95], 14)] [('name', '<U10'), ('scores', '<i4', (3,)), ('age', '<i4')] 24\n",
      "------------------------------------------------------------\n"
     ]
    }
   ],
   "execution_count": 7
  },
  {
   "metadata": {
    "ExecuteTime": {
     "end_time": "2025-03-31T14:27:20.816224Z",
     "start_time": "2025-03-31T14:27:20.811735Z"
    }
   },
   "cell_type": "code",
   "source": [
    "## 测试日期类型的数据 datetime64\n",
    "from datetime import datetime\n",
    "\n",
    "data = ['2025', '2025-01-12', '2025-12', '2025-12-20 12:23:23']\n",
    "date_arr  = np.array(data)\n",
    "print(date_arr, date_arr.dtype)\n",
    "date_arr = np.array(data, dtype='datetime64[D]')\n",
    "print(date_arr, date_arr.dtype)\n",
    "date_arr = np.array(data, dtype='M8[s]')\n",
    "print(date_arr, date_arr.dtype)\n",
    "### 两个是完全不同的日期类型\n",
    "print(date_arr[0], type(date_arr[0]), datetime.now(), type(datetime.now()))\n",
    "\n",
    "## 日期差\n",
    "dis = date_arr[1] - date_arr[2]\n",
    "print(dis, type(dis))\n",
    "\n",
    "date_arr = date_arr.astype('M8[D]')\n",
    "dis = date_arr[1] - date_arr[2]\n",
    "print(dis, type(dis))"
   ],
   "id": "48543924a757a9ff",
   "outputs": [
    {
     "name": "stdout",
     "output_type": "stream",
     "text": [
      "['2025' '2025-01-12' '2025-12' '2025-12-20 12:23:23'] <U19\n",
      "['2025-01-01' '2025-01-12' '2025-12-01' '2025-12-20'] datetime64[D]\n",
      "['2025-01-01T00:00:00' '2025-01-12T00:00:00' '2025-12-01T00:00:00'\n",
      " '2025-12-20T12:23:23'] datetime64[s]\n",
      "2025-01-01T00:00:00 <class 'numpy.datetime64'> 2025-03-31 22:27:20.814448 <class 'datetime.datetime'>\n",
      "-27907200 seconds <class 'numpy.timedelta64'>\n",
      "-323 days <class 'numpy.timedelta64'>\n"
     ]
    }
   ],
   "execution_count": 8
  },
  {
   "metadata": {
    "ExecuteTime": {
     "end_time": "2025-03-31T14:27:20.837982Z",
     "start_time": "2025-03-31T14:27:20.833717Z"
    }
   },
   "cell_type": "code",
   "source": [
    "\n",
    "### 视图维度变更\n",
    "a = np.arange(12)\n",
    "print(a, a.shape)\n",
    "b = a.reshape(3, 4)\n",
    "print(b, b.shape)\n",
    "c = a.ravel()\n",
    "print(c, c.shape)\n",
    "d = a.repeat(3, axis=0)\n",
    "print(d, d.shape)\n",
    "e = a.reshape(3, 4).repeat(3, axis=0)\n",
    "print(e, e.shape)\n",
    "f = a.reshape(3, 4).repeat(3, axis=1)\n",
    "print(f, f.shape)"
   ],
   "id": "f9286f2278547258",
   "outputs": [
    {
     "name": "stdout",
     "output_type": "stream",
     "text": [
      "[ 0  1  2  3  4  5  6  7  8  9 10 11] (12,)\n",
      "[[ 0  1  2  3]\n",
      " [ 4  5  6  7]\n",
      " [ 8  9 10 11]] (3, 4)\n",
      "[ 0  1  2  3  4  5  6  7  8  9 10 11] (12,)\n",
      "[ 0  0  0  1  1  1  2  2  2  3  3  3  4  4  4  5  5  5  6  6  6  7  7  7\n",
      "  8  8  8  9  9  9 10 10 10 11 11 11] (36,)\n",
      "[[ 0  1  2  3]\n",
      " [ 0  1  2  3]\n",
      " [ 0  1  2  3]\n",
      " [ 4  5  6  7]\n",
      " [ 4  5  6  7]\n",
      " [ 4  5  6  7]\n",
      " [ 8  9 10 11]\n",
      " [ 8  9 10 11]\n",
      " [ 8  9 10 11]] (9, 4)\n",
      "[[ 0  0  0  1  1  1  2  2  2  3  3  3]\n",
      " [ 4  4  4  5  5  5  6  6  6  7  7  7]\n",
      " [ 8  8  8  9  9  9 10 10 10 11 11 11]] (3, 12)\n"
     ]
    }
   ],
   "execution_count": 9
  },
  {
   "metadata": {
    "ExecuteTime": {
     "end_time": "2025-03-31T14:27:20.863083Z",
     "start_time": "2025-03-31T14:27:20.857376Z"
    }
   },
   "cell_type": "code",
   "source": [
    "## 一维变更\n",
    "aa = np.arange(12)\n",
    "bb = aa.ravel() ## 浅拷贝\n",
    "bb[0] = 100\n",
    "print(bb, aa)\n",
    "cc = aa.flatten() ## 深拷贝\n",
    "cc[1] = 10000\n",
    "print(cc, aa)\n",
    "\n",
    "## 就地变维 -- 直接更改原对象\n",
    "aa.shape = (3, 4)\n",
    "print(aa.shape, aa)\n",
    "print('----------')\n",
    "aa.resize((4, 3))\n",
    "print(aa, aa.shape)\n",
    "print('----------')\n",
    "aa.resize((6, 2)) ## 不能写-1, 这个和reshape有本质区别\n",
    "print(aa, aa.shape)\n"
   ],
   "id": "13a2584e87cb03d2",
   "outputs": [
    {
     "name": "stdout",
     "output_type": "stream",
     "text": [
      "[100   1   2   3   4   5   6   7   8   9  10  11] [100   1   2   3   4   5   6   7   8   9  10  11]\n",
      "[  100 10000     2     3     4     5     6     7     8     9    10    11] [100   1   2   3   4   5   6   7   8   9  10  11]\n",
      "(3, 4) [[100   1   2   3]\n",
      " [  4   5   6   7]\n",
      " [  8   9  10  11]]\n",
      "----------\n",
      "[[100   1   2]\n",
      " [  3   4   5]\n",
      " [  6   7   8]\n",
      " [  9  10  11]] (4, 3)\n",
      "----------\n",
      "[[100   1]\n",
      " [  2   3]\n",
      " [  4   5]\n",
      " [  6   7]\n",
      " [  8   9]\n",
      " [ 10  11]] (6, 2)\n"
     ]
    }
   ],
   "execution_count": 10
  },
  {
   "metadata": {
    "ExecuteTime": {
     "end_time": "2025-03-31T14:27:20.871274Z",
     "start_time": "2025-03-31T14:27:20.868793Z"
    }
   },
   "cell_type": "code",
   "source": [
    "a = np.arange(12)\n",
    "print(a)\n",
    "print(a[:3])\n",
    "print(a[3:6])\n",
    "print(a[6:])\n",
    "print(a[:-1])\n",
    "print(a[:-4:-1])\n",
    "print(a[-4:-7:-1])\n",
    "print(a[::])\n",
    "print(a[:])\n",
    "print(a[::2])\n",
    "print(a[1::3])\n",
    "print(a[4::4])\n",
    "\n",
    "\n",
    "b = a[2:6] ##浅拷贝 -- 这个是数组\n",
    "print(b)\n",
    "b[3] = 99999\n",
    "print(b, a)\n",
    "\n",
    "xx = [i for i in range(12)]\n",
    "yy = xx[2:6] ##深拷贝 -- 这个是列表\n",
    "yy[3] = 888888\n",
    "print(xx, yy)\n"
   ],
   "id": "770efe5fdcb077b",
   "outputs": [
    {
     "name": "stdout",
     "output_type": "stream",
     "text": [
      "[ 0  1  2  3  4  5  6  7  8  9 10 11]\n",
      "[0 1 2]\n",
      "[3 4 5]\n",
      "[ 6  7  8  9 10 11]\n",
      "[ 0  1  2  3  4  5  6  7  8  9 10]\n",
      "[11 10  9]\n",
      "[8 7 6]\n",
      "[ 0  1  2  3  4  5  6  7  8  9 10 11]\n",
      "[ 0  1  2  3  4  5  6  7  8  9 10 11]\n",
      "[ 0  2  4  6  8 10]\n",
      "[ 1  4  7 10]\n",
      "[4 8]\n",
      "[2 3 4 5]\n",
      "[    2     3     4 99999] [    0     1     2     3     4 99999     6     7     8     9    10    11]\n",
      "[0, 1, 2, 3, 4, 5, 6, 7, 8, 9, 10, 11] [2, 3, 4, 888888]\n"
     ]
    }
   ],
   "execution_count": 11
  },
  {
   "metadata": {
    "ExecuteTime": {
     "end_time": "2025-03-31T14:27:20.879168Z",
     "start_time": "2025-03-31T14:27:20.877305Z"
    }
   },
   "cell_type": "code",
   "source": [
    "## 多位数组切片\n",
    "a = np.arange(1, 28).reshape(3, 3, 3)\n",
    "print(a[1,1,1])\n",
    "print(a[1,:,:])\n",
    "print(a[1,:, 1])"
   ],
   "id": "16eee371382353d8",
   "outputs": [
    {
     "name": "stdout",
     "output_type": "stream",
     "text": [
      "14\n",
      "[[10 11 12]\n",
      " [13 14 15]\n",
      " [16 17 18]]\n",
      "[11 14 17]\n"
     ]
    }
   ],
   "execution_count": 12
  },
  {
   "metadata": {
    "ExecuteTime": {
     "end_time": "2025-03-31T14:27:20.889753Z",
     "start_time": "2025-03-31T14:27:20.887200Z"
    }
   },
   "cell_type": "code",
   "source": [
    "### 掩码运算\n",
    "c = np.array([[1, 100], [200, 2]])\n",
    "mask = c > 50\n",
    "print(mask)\n",
    "c[mask] = 999999 ## 掩码的为true的位置进行赋值\n",
    "print(c)\n",
    "print(c[mask]) ## 经过掩码后,变成一维数组\n",
    "\n",
    "print('------------------------------')\n",
    "a = np.arange(0, 100).reshape(10, 10)\n",
    "print(a[(a % 3 == 0) & (a % 5 == 0)])\n",
    "print(a[(a % 3 == 0) | (a % 5 == 0)])\n",
    "\n",
    "\n",
    "cc = np.array(['A', 'B', 'C', 'D'])\n",
    "mask = [3, 0 , 2, 0 , 0 , 1, 3, 0 , 1] ##掩码赋值\n",
    "print(cc[mask])"
   ],
   "id": "50b60e7294773c51",
   "outputs": [
    {
     "name": "stdout",
     "output_type": "stream",
     "text": [
      "[[False  True]\n",
      " [ True False]]\n",
      "[[     1 999999]\n",
      " [999999      2]]\n",
      "[999999 999999]\n",
      "------------------------------\n",
      "[ 0 15 30 45 60 75 90]\n",
      "[ 0  3  5  6  9 10 12 15 18 20 21 24 25 27 30 33 35 36 39 40 42 45 48 50\n",
      " 51 54 55 57 60 63 65 66 69 70 72 75 78 80 81 84 85 87 90 93 95 96 99]\n",
      "['D' 'A' 'C' 'A' 'A' 'B' 'D' 'A' 'B']\n"
     ]
    }
   ],
   "execution_count": 13
  },
  {
   "metadata": {
    "ExecuteTime": {
     "end_time": "2025-03-31T14:27:20.901352Z",
     "start_time": "2025-03-31T14:27:20.899110Z"
    }
   },
   "cell_type": "code",
   "source": [
    "\n",
    "## 多维度数组组合拆分\n",
    "\n",
    "a = np.arange(0, 6).reshape(2, 3)\n",
    "b = np.arange(7, 13).reshape(2, 3)\n",
    "\n",
    "c = np.vstack((a, b))\n",
    "print(c)\n",
    "\n",
    "d = np.hstack((a, b))\n",
    "print(d)\n",
    "\n",
    "e, f = np.vsplit(c, 2)\n",
    "print(e, f)\n",
    "\n",
    "h, i = np.hsplit(d, 2)\n",
    "print(h, i)\n",
    "\n",
    "aa = np.dstack((a, b))\n",
    "print(aa)\n"
   ],
   "id": "281a134781721524",
   "outputs": [
    {
     "name": "stdout",
     "output_type": "stream",
     "text": [
      "[[ 0  1  2]\n",
      " [ 3  4  5]\n",
      " [ 7  8  9]\n",
      " [10 11 12]]\n",
      "[[ 0  1  2  7  8  9]\n",
      " [ 3  4  5 10 11 12]]\n",
      "[[0 1 2]\n",
      " [3 4 5]] [[ 7  8  9]\n",
      " [10 11 12]]\n",
      "[[0 1 2]\n",
      " [3 4 5]] [[ 7  8  9]\n",
      " [10 11 12]]\n",
      "[[[ 0  7]\n",
      "  [ 1  8]\n",
      "  [ 2  9]]\n",
      "\n",
      " [[ 3 10]\n",
      "  [ 4 11]\n",
      "  [ 5 12]]]\n"
     ]
    }
   ],
   "execution_count": 14
  },
  {
   "metadata": {
    "ExecuteTime": {
     "end_time": "2025-03-31T14:27:20.910179Z",
     "start_time": "2025-03-31T14:27:20.908209Z"
    }
   },
   "cell_type": "code",
   "source": [
    "## pad操作\n",
    "\n",
    "x = np.array([1, 2, 3, 4]).reshape(2, 2)\n",
    "y = np.array([4, 5])\n",
    "## pad_width的意思:before, after, 前面插入几个,后面插入几个\n",
    "z = np.pad(y, pad_width=(1, 2), mode='constant', constant_values=0)\n",
    "print(z)\n",
    "## pad_width是数组时, 第一个代表一维方向,第二个代表二维方向,也是before和after的意思\n",
    "m = np.pad(x, pad_width=[(1, 2),(3, 4)], mode='constant', constant_values=0)\n",
    "print(m)"
   ],
   "id": "ce49d0578840ad20",
   "outputs": [
    {
     "name": "stdout",
     "output_type": "stream",
     "text": [
      "[0 4 5 0 0]\n",
      "[[0 0 0 0 0 0 0 0 0]\n",
      " [0 0 0 1 2 0 0 0 0]\n",
      " [0 0 0 3 4 0 0 0 0]\n",
      " [0 0 0 0 0 0 0 0 0]\n",
      " [0 0 0 0 0 0 0 0 0]]\n"
     ]
    }
   ],
   "execution_count": 15
  },
  {
   "metadata": {
    "ExecuteTime": {
     "end_time": "2025-03-31T14:27:20.918290Z",
     "start_time": "2025-03-31T14:27:20.916148Z"
    }
   },
   "cell_type": "code",
   "source": [
    "## 组合和拆分的终极大招\n",
    "m = np.arange(1, 10).reshape(3, 3)\n",
    "n = np.arange(11, 20).reshape(3, 3)\n",
    "x = np.concatenate([m, n], axis=0)\n",
    "print(x)\n",
    "y = np.concatenate([m, n], axis=1)\n",
    "print(y)\n",
    "x0, x1 = np.split(x, 2, axis=0)\n",
    "print(x0, x1)\n",
    "y0, y1 = np.split(y, 2, axis=1)\n",
    "print(y0, y1)\n"
   ],
   "id": "c240dc55eaf98db1",
   "outputs": [
    {
     "name": "stdout",
     "output_type": "stream",
     "text": [
      "[[ 1  2  3]\n",
      " [ 4  5  6]\n",
      " [ 7  8  9]\n",
      " [11 12 13]\n",
      " [14 15 16]\n",
      " [17 18 19]]\n",
      "[[ 1  2  3 11 12 13]\n",
      " [ 4  5  6 14 15 16]\n",
      " [ 7  8  9 17 18 19]]\n",
      "[[1 2 3]\n",
      " [4 5 6]\n",
      " [7 8 9]] [[11 12 13]\n",
      " [14 15 16]\n",
      " [17 18 19]]\n",
      "[[1 2 3]\n",
      " [4 5 6]\n",
      " [7 8 9]] [[11 12 13]\n",
      " [14 15 16]\n",
      " [17 18 19]]\n"
     ]
    }
   ],
   "execution_count": 16
  },
  {
   "metadata": {
    "ExecuteTime": {
     "end_time": "2025-03-31T14:27:20.924267Z",
     "start_time": "2025-03-31T14:27:20.922570Z"
    }
   },
   "cell_type": "code",
   "source": [
    "## ndarray其他属性\n",
    "\n",
    "a = np.arange(10).reshape(2, 5)\n",
    "## int64-8字节 总共占用8*10=80字节\n",
    "print(a.itemsize, a.nbytes, a.T)\n",
    "\n",
    "## a.flat扁平迭代器\n",
    "for x in a.flat:\n",
    "    print(x)"
   ],
   "id": "70e067e9073c9e39",
   "outputs": [
    {
     "name": "stdout",
     "output_type": "stream",
     "text": [
      "8 80 [[0 5]\n",
      " [1 6]\n",
      " [2 7]\n",
      " [3 8]\n",
      " [4 9]]\n",
      "0\n",
      "1\n",
      "2\n",
      "3\n",
      "4\n",
      "5\n",
      "6\n",
      "7\n",
      "8\n",
      "9\n"
     ]
    }
   ],
   "execution_count": 17
  },
  {
   "cell_type": "markdown",
   "id": "b44eb2004ee618bd",
   "metadata": {},
   "source": [
    "NumPy 提供了丰富的基础数据类型（`dtype`），这些类型用于定义数组中元素的性质。它们主要基于 C 语言的数据类型，但 NumPy 对其进行了扩展和封装，使其更灵活且与 Python 无缝集成。以下是 NumPy 的基础数据类型的分类和详细说明：\n",
    "\n",
    "---\n",
    "\n",
    "### 1. **整数类型（Integer Types）**\n",
    "NumPy 支持多种位宽的有符号和无符号整数类型：\n",
    "- **有符号整数**：\n",
    "  - `int8`：8 位整数（-128 到 127）\n",
    "  - `int16`：16 位整数（-32,768 到 32,767）\n",
    "  - `int32`：32 位整数（-2,147,483,648 到 2,147,483,647）\n",
    "  - `int64`：64 位整数（-9,223,372,036,854,775,808 到 9,223,372,036,854,775,807）\n",
    "- **无符号整数**：\n",
    "  - `uint8`：8 位无符号整数（0 到 255）\n",
    "  - `uint16`：16 位无符号整数（0 到 65,535）\n",
    "  - `uint32`：32 位无符号整数（0 到 4,294,967,295）\n",
    "  - `uint64`：64 位无符号整数（0 到 18,446,744,073,709,551,615）\n",
    "- **默认整数**：\n",
    "  - `int_`：平台相关的默认整数类型（通常是 `int64` 或 `int32`，取决于系统）。\n",
    "\n",
    "---\n",
    "\n",
    "### 2. **浮点数类型（Floating-Point Types）**\n",
    "用于表示小数，支持不同的精度：\n",
    "- `float16`：16 位半精度浮点数（较小的范围和精度）。\n",
    "- `float32`：32 位单精度浮点数（约 7 位十进制精度）。\n",
    "- `float64`：64 位双精度浮点数（约 15-17 位十进制精度）。\n",
    "- `float128`：128 位扩展精度浮点数（依赖于平台支持，可能不可用）。\n",
    "- **默认浮点数**：\n",
    "  - `float_`：默认是 `float64`。\n",
    "\n",
    "---\n",
    "\n",
    "### 3. **复数类型（Complex Types）**\n",
    "用于表示复数，包含实部和虚部：\n",
    "- `complex64`：由两个 `float32` 组成（实部和虚部各 32 位）。\n",
    "- `complex128`：由两个 `float64` 组成（实部和虚部各 64 位）。\n",
    "- `complex256`：由两个 `float128` 组成（依赖平台支持）。\n",
    "- **默认复数**：\n",
    "  - `complex_`：默认是 `complex128`。\n",
    "\n",
    "---\n",
    "\n",
    "### 4. **布尔类型（Boolean Type）**\n",
    "- `bool`：布尔值（`True` 或 `False`），占用 8 位（1 字节）。\n",
    "- **注意**：与 Python 的 `bool` 类型兼容，但固定为 1 字节存储。\n",
    "\n",
    "---\n",
    "\n",
    "### 5. **字符串类型（String Types）**\n",
    "用于存储固定长度的字符串：\n",
    "- `string_` 或 `S`：固定长度的字节字符串（如 `S10` 表示长度为 10 的字节字符串）。\n",
    "- **示例**：`np.array(['abc', 'def'], dtype='S3')` 会创建长度为 3 的字节字符串数组。\n",
    "- **注意**：默认编码是字节形式（`bytes`），而不是 Unicode。\n",
    "\n",
    "---\n",
    "\n",
    "### 6. **Unicode 字符串类型（Unicode String Types）**\n",
    "用于存储固定长度的 Unicode 字符串：\n",
    "- `unicode_` 或 `U`：固定长度的 Unicode 字符串（如 `U10` 表示长度为 10 的 Unicode 字符串）。\n",
    "- **示例**：`np.array(['你好', '世界'], dtype='U2')`。\n",
    "\n",
    "---\n",
    "\n",
    "### 7. **时间类型（Datetime and Timedelta Types）**\n",
    "用于处理日期、时间和时间间隔：\n",
    "- `datetime64`：日期时间类型，支持多种单位（如 `datetime64[ns]` 表示纳秒精度）。\n",
    "- `timedelta64`：时间差类型，同样支持多种单位（如 `timedelta64[ms]` 表示毫秒）。\n",
    "- **示例**：\n",
    "  ```python\n",
    "  np.array(['2025-03-20', '2025-03-21'], dtype='datetime64[D]')  # 按天存储\n",
    "  ```\n",
    "\n",
    "---\n",
    "\n",
    "### 8. **对象类型（Object Type）**\n",
    "- `object` 或 `O`：允许存储任意 Python 对象（灵活但性能较低）。\n",
    "- **示例**：`np.array([1, \"string\", [1, 2, 3]], dtype=object)`。\n",
    "\n",
    "---\n",
    "\n",
    "### 9. **字节顺序（Byte Order）**\n",
    "NumPy 数据类型可以指定字节顺序（大端或小端）：\n",
    "- `<`：小端（little-endian，如 `<i4` 表示小端 32 位整数）。\n",
    "- `>`：大端（big-endian，如 `>f8` 表示大端 64 位浮点数）。\n",
    "- 默认通常是系统原生字节顺序。\n",
    "\n",
    "---\n",
    "\n",
    "### 示例代码\n",
    "```python\n",
    "import numpy as np\n",
    "\n",
    "# 不同数据类型的数组\n",
    "int_arr = np.array([1, 2, 3], dtype=np.int32)\n",
    "float_arr = np.array([1.5, 2.5], dtype=np.float64)\n",
    "complex_arr = np.array([1+2j, 3+4j], dtype=np.complex128)\n",
    "bool_arr = np.array([True, False], dtype=np.bool_)\n",
    "string_arr = np.array(['abc', 'def'], dtype='S3')\n",
    "unicode_arr = np.array(['你好', '世界'], dtype='U2')\n",
    "datetime_arr = np.array(['2025-03-20'], dtype='datetime64[D]')\n",
    "\n",
    "# 打印类型\n",
    "print(int_arr.dtype)        # int32\n",
    "print(float_arr.dtype)      # float64\n",
    "print(complex_arr.dtype)    # complex128\n",
    "print(bool_arr.dtype)       # bool\n",
    "print(string_arr.dtype)     # |S3\n",
    "print(unicode_arr.dtype)    # <U2\n",
    "print(datetime_arr.dtype)   # datetime64[D]\n",
    "```\n",
    "\n",
    "---\n",
    "\n",
    "### 如何指定数据类型\n",
    "- 在创建数组时通过 `dtype` 参数指定：`np.array([1, 2, 3], dtype=np.float32)`。\n",
    "- 使用简写：`np.array([1, 2, 3], dtype='f4')`（`f4` 表示 `float32`）。\n",
    "- 转换类型：`arr.astype(np.int16)`。\n",
    "\n",
    "---\n",
    "\n",
    "### 总结\n",
    "NumPy 的基础数据类型非常丰富，涵盖整数、浮点数、复数、布尔值、字符串、时间等，适用于各种科学计算场景。这些类型的选择会影响内存使用和计算性能，因此在实际应用中需要根据需求权衡精度和效率。"
   ]
  },
  {
   "cell_type": "code",
   "id": "35e1b09b391f32ca",
   "metadata": {
    "ExecuteTime": {
     "end_time": "2025-03-31T14:27:20.929479Z",
     "start_time": "2025-03-31T14:27:20.928375Z"
    }
   },
   "source": [],
   "outputs": [],
   "execution_count": null
  },
  {
   "cell_type": "markdown",
   "id": "40df09dca63ccd92",
   "metadata": {},
   "source": [
    "NumPy 的基础数据类型可以用简写（简洁的字符串表示）来指定，这些简写通常用于 `dtype` 参数。以下是 NumPy 基础数据类型的简写及其对应的类型说明：\n",
    "\n",
    "---\n",
    "\n",
    "### 1. **整数类型（Integer Types）**\n",
    "- **有符号整数**：\n",
    "  - `i1`：`int8`（8 位）\n",
    "  - `i2`：`int16`（16 位）\n",
    "  - `i4`：`int32`（32 位）\n",
    "  - `i8`：`int64`（64 位）\n",
    "  - `i`：默认整数类型（`int_`，通常是 `i8` 或 `i4`，取决于平台）\n",
    "- **无符号整数**：\n",
    "  - `u1`：`uint8`（8 位）\n",
    "  - `u2`：`uint16`（16 位）\n",
    "  - `u4`：`uint32`（32 位）\n",
    "  - `u8`：`uint64`（64 位）\n",
    "  - `u`：默认无符号整数类型（`uint_`，通常是 `u8` 或 `u4`）\n",
    "\n",
    "---\n",
    "\n",
    "### 2. **浮点数类型（Floating-Point Types）**\n",
    "- `f2`：`float16`（16 位半精度）\n",
    "- `f4`：`float32`（32 位单精度）\n",
    "- `f8`：`float64`（64 位双精度）\n",
    "- `f16` 或 `f`：`float128`（128 位，平台相关，若不支持则可能是 `float64`）\n",
    "- 默认：`f` 通常表示 `float64`\n",
    "\n",
    "---\n",
    "\n",
    "### 3. **复数类型（Complex Types）**\n",
    "- `c8`：`complex64`（由两个 `float32` 组成）\n",
    "- `c16`：`complex128`（由两个 `float64` 组成）\n",
    "- `c32`：`complex256`（由两个 `float128` 组成，平台相关）\n",
    "- 默认：`c` 通常表示 `complex128`\n",
    "\n",
    "---\n",
    "\n",
    "### 4. **布尔类型（Boolean Type）**\n",
    "- `b`：`bool`（8 位布尔值）\n",
    "\n",
    "---\n",
    "\n",
    "### 5. **字符串类型（String Types）**\n",
    "- `S#`：字节字符串，`#` 表示长度（如 `S10` 表示长度为 10 的字节字符串）\n",
    "- 默认：`S`（无长度指定时，通常由数据推断）\n",
    "\n",
    "---\n",
    "\n",
    "### 6. **Unicode 字符串类型（Unicode String Types）**\n",
    "- `U#`：Unicode 字符串，`#` 表示长度（如 `U10` 表示长度为 10 的 Unicode 字符串）\n",
    "- 默认：`U`（无长度指定时，通常由数据推断）\n",
    "\n",
    "---\n",
    "\n",
    "### 7. **时间类型（Datetime and Timedelta Types）**\n",
    "- `M8[unit]`：`datetime64`，`unit` 指定时间单位（如 `M8[D]` 表示按天，`M8[ns]` 表示按纳秒）\n",
    "- `m8[unit]`：`timedelta64`，`unit` 指定时间单位（如 `m8[s]` 表示按秒）\n",
    "- 常用单位简写：\n",
    "  - `Y`：年\n",
    "  - `M`：月\n",
    "  - `D`：日\n",
    "  - `h`：小时\n",
    "  - `m`：分钟\n",
    "  - `s`：秒\n",
    "  - `ms`：毫秒\n",
    "  - `us`：微秒\n",
    "  - `ns`：纳秒\n",
    "\n",
    "---\n",
    "\n",
    "### 8. **对象类型（Object Type）**\n",
    "- `O`：`object`（任意 Python 对象）\n",
    "\n",
    "---\n",
    "\n",
    "### 9. **字节顺序（Byte Order）**\n",
    "- `<`：小端（little-endian，如 `<i4` 表示小端 32 位整数）\n",
    "- `>`：大端（big-endian，如 `>f8` 表示大端 64 位浮点数）\n",
    "- `|`：无关字节顺序（通常用于 `bool` 或 `S`/`U`，如 `|S10`）\n",
    "- 默认：不写字节顺序时，使用系统原生顺序\n",
    "\n",
    "---\n",
    "\n",
    "### 示例代码\n",
    "```python\n",
    "import numpy as np\n",
    "\n",
    "# 使用简写创建数组\n",
    "int_arr = np.array([1, 2, 3], dtype='i4')         # int32\n",
    "uint_arr = np.array([1, 2, 3], dtype='u2')        # uint16\n",
    "float_arr = np.array([1.5, 2.5], dtype='f4')      # float32\n",
    "complex_arr = np.array([1+2j], dtype='c16')       # complex128\n",
    "bool_arr = np.array([True, False], dtype='b')     # bool\n",
    "string_arr = np.array(['abc', 'def'], dtype='S3') # 长度为 3 的字节字符串\n",
    "unicode_arr = np.array(['你好'], dtype='U2')      # 长度为 2 的 Unicode 字符串\n",
    "datetime_arr = np.array(['2025-03-20'], dtype='M8[D]')  # 按天存储的 datetime64\n",
    "\n",
    "# 打印类型\n",
    "print(int_arr.dtype)        # int32\n",
    "print(uint_arr.dtype)       # uint16\n",
    "print(float_arr.dtype)      # float32\n",
    "print(complex_arr.dtype)    # complex128\n",
    "print(bool_arr.dtype)       # bool\n",
    "print(string_arr.dtype)     # |S3\n",
    "print(unicode_arr.dtype)    # <U2\n",
    "print(datetime_arr.dtype)   # datetime64[D]\n",
    "```\n",
    "\n",
    "---\n",
    "\n",
    "### 注意事项\n",
    "1. **长度指定**：对于 `S` 和 `U`，长度是可选的。如果不指定长度，NumPy 会根据输入数据的最大长度自动推断。\n",
    "2. **默认类型**：不指定 `dtype` 时，NumPy 会根据输入数据推断类型（如整数默认 `int_`，浮点数默认 `float_`）。\n",
    "3. **字节顺序**：通常不需要显式指定，除非处理跨平台数据或特定需求。\n",
    "\n",
    "这些简写是 NumPy 的强大特性之一，简洁且直观，方便在代码中快速指定数据类型."
   ]
  },
  {
   "cell_type": "markdown",
   "id": "e70220060a69343c",
   "metadata": {},
   "source": [
    "`timedelta64` 是 NumPy 中用于表示**时间差**（时间间隔）的数据类型，而不是表示某个具体的时间点。它属于 NumPy 的时间相关数据类型家族，与 `datetime64`（表示具体日期和时间）一起使用，广泛应用于时间序列计算。\n",
    "\n",
    "以下是对 `timedelta64` 时间格式的详细说明：\n",
    "\n",
    "---\n",
    "\n",
    "### 1. **基本定义**\n",
    "- `timedelta64` 表示两个时间点之间的差值，可以是正值（未来时间减去过去时间）或负值（过去时间减去未来时间）。\n",
    "- 它的值由两部分组成：\n",
    "  - **数值**：表示时间差的大小。\n",
    "  - **单位**：指定时间差的计量单位（如秒、分钟、天等）。\n",
    "\n",
    "---\n",
    "\n",
    "### 2. **时间单位**\n",
    "`timedelta64` 的时间格式通过单位来定义，单位在 `dtype` 中以 `[unit]` 的形式指定。支持的单位包括：\n",
    "- `Y`：年\n",
    "- `M`：月\n",
    "- `W`：周\n",
    "- `D`：天\n",
    "- `h`：小时\n",
    "- `m`：分钟\n",
    "- `s`：秒\n",
    "- `ms`：毫秒\n",
    "- `us`：微秒（μs）\n",
    "- `ns`：纳秒\n",
    "- `ps`：皮秒\n",
    "- `fs`：飞秒\n",
    "- `as`：阿秒\n",
    "\n",
    "例如：\n",
    "- `timedelta64[D]` 表示时间差以天为单位。\n",
    "- `timedelta64[ms]` 表示时间差以毫秒为单位。\n",
    "\n",
    "---\n",
    "\n",
    "### 3. **创建方式**\n",
    "可以通过以下方式创建 `timedelta64` 对象：\n",
    "- **直接指定**：\n",
    "  ```python\n",
    "  import numpy as np\n",
    "  td = np.timedelta64(1, 'D')  # 1 天\n",
    "  print(td)  # 1 days\n",
    "  ```\n",
    "- **时间差计算**（从 `datetime64` 相减）：\n",
    "  ```python\n",
    "  t1 = np.datetime64('2025-03-20')\n",
    "  t2 = np.datetime64('2025-03-22')\n",
    "  td = t2 - t1  # 计算时间差\n",
    "  print(td)  # 2 days\n",
    "  print(td.dtype)  # timedelta64[ns]（默认以纳秒为单位）\n",
    "  ```\n",
    "\n",
    "---\n",
    "\n",
    "### 4. **默认格式和精度**\n",
    "- 当两个 `datetime64` 对象相减时，生成的 `timedelta64` 默认精度取决于输入的 `datetime64` 精度，通常是**纳秒（`ns`）**。\n",
    "- 你可以通过显式转换来调整单位：\n",
    "  ```python\n",
    "  td = np.timedelta64(3600, 's')  # 3600 秒\n",
    "  td_in_hours = td.astype('timedelta64[h]')  # 转换为小时\n",
    "  print(td_in_hours)  # 1 hours\n",
    "  ```\n",
    "\n",
    "---\n",
    "\n",
    "### 5. **存储和表示**\n",
    "- **存储**：`timedelta64` 在内存中存储为 64 位整数，单位决定了这个整数的含义。例如，`timedelta64[D]` 的值 2 表示 2 天。\n",
    "- **表示**：在输出时，NumPy 会以人类可读的形式显示（如 `2 days`、`3600 seconds`），但底层仍是一个数值和单位的组合。\n",
    "\n",
    "---\n",
    "\n",
    "### 6. **与 Python 的 `timedelta` 对比**\n",
    "- Python 标准库中的 `datetime.timedelta` 只支持天、秒和微秒的组合，精度和单位范围较窄。\n",
    "- NumPy 的 `timedelta64` 支持更广泛的单位（从阿秒到年），并且与 `datetime64` 无缝集成，适合高性能数组计算。\n",
    "\n",
    "---\n",
    "\n",
    "### 示例代码\n",
    "```python\n",
    "import numpy as np\n",
    "\n",
    "# 创建不同单位的 timedelta64\n",
    "td1 = np.timedelta64(2, 'D')    # 2 天\n",
    "td2 = np.timedelta64(3600, 's') # 3600 秒\n",
    "td3 = np.timedelta64(500, 'ms') # 500 毫秒\n",
    "\n",
    "print(td1)  # 2 days\n",
    "print(td2)  # 3600 seconds\n",
    "print(td3)  # 500 milliseconds\n",
    "\n",
    "# 时间差计算\n",
    "t1 = np.datetime64('2025-03-20 10:00')\n",
    "t2 = np.datetime64('2025-03-20 12:30')\n",
    "diff = t2 - t1\n",
    "print(diff)  # 9000000000000 nanoseconds (2.5小时转换为纳秒)\n",
    "\n",
    "# 转换为其他单位\n",
    "diff_in_minutes = diff.astype('timedelta64[m]')\n",
    "print(diff_in_minutes)  # 150 minutes\n",
    "```\n",
    "\n",
    "---\n",
    "\n",
    "### 7. **实际应用**\n",
    "- **时间序列分析**：计算时间间隔，如每日销售额的差值。\n",
    "- **数据对齐**：调整时间戳之间的偏移。\n",
    "- **批量计算**：对数组中的时间差进行矢量化操作。\n",
    "\n",
    "---\n",
    "\n",
    "### 总结\n",
    "`timedelta64` 不是传统意义上的“时间格式”（如 `YYYY-MM-DD`），而是一种**时间差的表示方式**，由数值和单位共同定义。它的灵活性在于支持多种时间单位（从阿秒到年），并且可以与 `datetime64` 配合使用。具体的“格式”取决于你指定的单位（如 `timedelta64[D]` 表示以天为单位的时间差）。"
   ]
  },
  {
   "cell_type": "code",
   "id": "ebf35a09fb2a3fc0",
   "metadata": {
    "ExecuteTime": {
     "end_time": "2025-03-31T14:27:20.936914Z",
     "start_time": "2025-03-31T14:27:20.935720Z"
    }
   },
   "source": [],
   "outputs": [],
   "execution_count": null
  },
  {
   "metadata": {},
   "cell_type": "markdown",
   "source": [
    "以下是用表格形式整理的 NumPy 基础数据类型及其简写、字节大小、范围等信息的详细描述。表格按类型分类，便于直观理解。\n",
    "\n",
    "---\n",
    "\n",
    "### 表格：NumPy 基础数据类型、简写及其他信息\n",
    "\n",
    "#### 1. 整数类型（Integer Types）\n",
    "| **类型**     | **简写** | **字节大小** | **范围**                                      | **说明**                  |\n",
    "|--------------|----------|--------------|-----------------------------------------------|---------------------------|\n",
    "| `int8`       | `i1`     | 1 (8 位)    | -128 到 127                                   | 8 位有符号整数            |\n",
    "| `int16`      | `i2`     | 2 (16 位)   | -32,768 到 32,767                            | 16 位有符号整数           |\n",
    "| `int32`      | `i4`     | 4 (32 位)   | -2,147,483,648 到 2,147,483,647              | 32 位有符号整数           |\n",
    "| `int64`      | `i8`     | 8 (64 位)   | -9,223,372,036,854,775,808 到 9,223,372,036,854,775,807 | 64 位有符号整数           |\n",
    "| `uint8`      | `u1`     | 1 (8 位)    | 0 到 255                                      | 8 位无符号整数            |\n",
    "| `uint16`     | `u2`     | 2 (16 位)   | 0 到 65,535                                   | 16 位无符号整数           |\n",
    "| `uint32`     | `u4`     | 4 (32 位)   | 0 到 4,294,967,295                            | 32 位无符号整数           |\n",
    "| `uint64`     | `u8`     | 8 (64 位)   | 0 到 18,446,744,073,709,551,615               | 64 位无符号整数           |\n",
    "| `int_`       | `i`      | 平台相关    | 通常等同于 `int64` 或 `int32`                 | 默认有符号整数            |\n",
    "| `uint_`      | `u`      | 平台相关    | 通常等同于 `uint64` 或 `uint32`               | 默认无符号整数            |\n",
    "\n",
    "#### 2. 浮点数类型（Floating-Point Types）\n",
    "| **类型**     | **简写** | **字节大小** | **范围（近似）**                              | **说明**                  |\n",
    "|--------------|----------|--------------|-----------------------------------------------|---------------------------|\n",
    "| `float16`    | `f2`     | 2 (16 位)   | ±6.10e-5 到 ±6.55e4 (半精度)                 | 16 位半精度浮点数         |\n",
    "| `float32`    | `f4`     | 4 (32 位)   | ±1.18e-38 到 ±3.4e38 (约 7 位十进制精度)     | 32 位单精度浮点数         |\n",
    "| `float64`    | `f8`     | 8 (64 位)   | ±2.23e-308 到 ±1.80e308 (约 15-17 位精度)    | 64 位双精度浮点数         |\n",
    "| `float128`   | `f16`    | 16 (128 位) | 依赖平台，可能不可用                          | 128 位扩展精度浮点数      |\n",
    "| `float_`     | `f`      | 8 (64 位)   | 等同于 `float64`                              | 默认浮点数类型            |\n",
    "\n",
    "#### 3. 复数类型（Complex Types）\n",
    "| **类型**     | **简写** | **字节大小** | **组成**                | **说明**                  |\n",
    "|--------------|----------|--------------|-------------------------|---------------------------|\n",
    "| `complex64`  | `c8`     | 8 (64 位)   | 2 个 `float32` (实部+虚部) | 64 位复数                |\n",
    "| `complex128` | `c16`    | 16 (128 位) | 2 个 `float64` (实部+虚部) | 128 位复数               |\n",
    "| `complex256` | `c32`    | 32 (256 位) | 2 个 `float128` (实部+虚部)| 256 位复数（平台相关）    |\n",
    "| `complex_`   | `c`      | 16 (128 位) | 等同于 `complex128`       | 默认复数类型              |\n",
    "\n",
    "#### 4. 布尔类型（Boolean Type）\n",
    "| **类型**     | **简写** | **字节大小** | **范围**                | **说明**                  |\n",
    "|--------------|----------|--------------|-------------------------|---------------------------|\n",
    "| `bool`       | `b`      | 1 (8 位)    | `True` 或 `False`       | 8 位布尔值                |\n",
    "\n",
    "#### 5. 字符串类型（String Types）\n",
    "| **类型**     | **简写** | **字节大小** | **范围**                | **说明**                  |\n",
    "|--------------|----------|--------------|-------------------------|---------------------------|\n",
    "| `string_`    | `S#`     | 可变        | 固定长度字节字符串      | `#` 表示长度，如 `S10`    |\n",
    "\n",
    "#### 6. Unicode 字符串类型（Unicode String Types）\n",
    "| **类型**     | **简写** | **字节大小** | **范围**                | **说明**                  |\n",
    "|--------------|----------|--------------|-------------------------|---------------------------|\n",
    "| `unicode_`   | `U#`     | 可变        | 固定长度 Unicode 字符串 | `#` 表示长度，如 `U10`    |\n",
    "\n",
    "#### 7. 时间类型（Datetime and Timedelta Types）\n",
    "| **类型**     | **简写** | **字节大小** | **单位支持**            | **说明**                  |\n",
    "|--------------|----------|--------------|-------------------------|---------------------------|\n",
    "| `datetime64` | `M8[#]`  | 8 (64 位)   | `Y, M, W, D, h, m, s, ms, us, ns, ps, fs, as` | 日期时间，`#` 指定单位，如 `M8[D]` |\n",
    "| `timedelta64`| `m8[#]`  | 8 (64 位)   | 同上                    | 时间差，`#` 指定单位，如 `m8[s]`   |\n",
    "\n",
    "#### 8. 对象类型（Object Type）\n",
    "| **类型**     | **简写** | **字节大小** | **范围**                | **说明**                  |\n",
    "|--------------|----------|--------------|-------------------------|---------------------------|\n",
    "| `object`     | `O`      | 平台相关    | 任意 Python 对象        | 用于存储复杂对象，性能较低 |\n",
    "\n",
    "#### 9. 字节顺序修饰符\n",
    "| **修饰符**   | **说明**                  | **示例**         |\n",
    "|--------------|---------------------------|------------------|\n",
    "| `<`          | 小端（little-endian）     | `<i4` (小端 int32) |\n",
    "| `>`          | 大端（big-endian）        | `>f8` (大端 float64) |\n",
    "| `|`          | 无关字节顺序             | `|S10` (字符串)   |\n",
    "\n",
    "---\n",
    "\n",
    "### 示例代码\n",
    "```python\n",
    "import numpy as np\n",
    "\n",
    "# 创建不同类型的数组并查看 dtype\n",
    "types = [\n",
    "    ('int32', 'i4'), ('uint16', 'u2'), ('float64', 'f8'),\n",
    "    ('complex128', 'c16'), ('bool', 'b'), ('string', 'S5'),\n",
    "    ('unicode', 'U5'), ('datetime64[D]', 'M8[D]'), ('timedelta64[s]', 'm8[s]')\n",
    "]\n",
    "\n",
    "for name, shorthand in types:\n",
    "    arr = np.array([], dtype=shorthand)\n",
    "    print(f\"{name}: {arr.dtype}\")\n",
    "```\n",
    "\n",
    "**输出**：\n",
    "```\n",
    "int32: int32\n",
    "uint16: uint16\n",
    "float64: float64\n",
    "complex128: complex128\n",
    "bool: bool\n",
    "string: |S5\n",
    "unicode: <U5\n",
    "datetime64[D]: datetime64[D]\n",
    "timedelta64[s]: timedelta64[s]\n",
    "```\n",
    "\n",
    "---\n",
    "\n",
    "### 补充说明\n",
    "1. **字节大小**：表示单个元素占用的内存空间，影响数组的内存使用。\n",
    "2. **范围**：对于数值类型，范围由位数和符号决定；字符串和时间类型则由长度或单位定义。\n",
    "3. **默认类型**：未指定 `dtype` 时，NumPy 根据输入推断（如 `int_`、`float_`）。\n",
    "4. **时间单位**：`datetime64` 和 `timedelta64` 的单位可以是年 (`Y`) 到阿秒 (`as`)，非常灵活。\n",
    "\n",
    "这个表格涵盖了 NumPy 基础数据类型的核心信息。如果你需要更详细的某部分说明或具体应用示例，请告诉我！"
   ],
   "id": "31ae608f982ae05e"
  },
  {
   "metadata": {
    "ExecuteTime": {
     "end_time": "2025-03-31T14:27:20.946009Z",
     "start_time": "2025-03-31T14:27:20.944789Z"
    }
   },
   "cell_type": "code",
   "source": "",
   "id": "811bbcafcd1b1685",
   "outputs": [],
   "execution_count": null
  }
 ],
 "metadata": {
  "kernelspec": {
   "display_name": "Python 3 (ipykernel)",
   "language": "python",
   "name": "python3"
  },
  "language_info": {
   "codemirror_mode": {
    "name": "ipython",
    "version": 3
   },
   "file_extension": ".py",
   "mimetype": "text/x-python",
   "name": "python",
   "nbconvert_exporter": "python",
   "pygments_lexer": "ipython3",
   "version": "3.12.9"
  }
 },
 "nbformat": 4,
 "nbformat_minor": 5
}
