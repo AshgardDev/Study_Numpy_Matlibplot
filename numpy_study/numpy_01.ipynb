{
 "cells": [
  {
   "cell_type": "code",
   "execution_count": 1,
   "id": "initial_id",
   "metadata": {
    "ExecuteTime": {
     "end_time": "2025-03-20T02:11:25.071808Z",
     "start_time": "2025-03-20T02:11:24.862600Z"
    },
    "collapsed": true,
    "jupyter": {
     "outputs_hidden": true
    }
   },
   "outputs": [],
   "source": [
    "import numpy as np\n",
    "import matplotlib.pyplot as plt"
   ]
  },
  {
   "cell_type": "markdown",
   "id": "4571b90a502f6141",
   "metadata": {},
   "source": [
    "#numpy基础\n",
    "\n",
    "ndarray数组, np.ndarray类的对象表示n维数组。"
   ]
  },
  {
   "cell_type": "code",
   "execution_count": 2,
   "id": "ab419ca90f6a73ee",
   "metadata": {
    "ExecuteTime": {
     "end_time": "2025-03-20T02:11:25.109102Z",
     "start_time": "2025-03-20T02:11:25.107010Z"
    }
   },
   "outputs": [
    {
     "name": "stdout",
     "output_type": "stream",
     "text": [
      "<class 'numpy.ndarray'>\n"
     ]
    }
   ],
   "source": [
    "ary = np.array([1, 2, 3])\n",
    "print(type(ary))"
   ]
  },
  {
   "cell_type": "markdown",
   "id": "6f1eb74539d4016b",
   "metadata": {},
   "source": [
    "#内存中的ndarray对象    \n",
    "元数据(metadata)    \n",
    "dim, dimensions, dtype, data      \n",
    "![结构](../images/numpy_meta.png)\n",
    "\n"
   ]
  },
  {
   "cell_type": "code",
   "execution_count": null,
   "id": "5edbb1650d1bfa22",
   "metadata": {},
   "outputs": [],
   "source": [
    "print(ary * 10)\n",
    "print(ary + ary)\n",
    "print(ary.ndim, ary.size, ary.shape, ary.dtype, ary.data)"
   ]
  },
  {
   "cell_type": "markdown",
   "id": "b0448d2ca6256ff4",
   "metadata": {},
   "source": []
  },
  {
   "metadata": {
    "ExecuteTime": {
     "end_time": "2025-03-20T02:35:32.465423Z",
     "start_time": "2025-03-20T02:35:32.461267Z"
    }
   },
   "cell_type": "code",
   "source": [
    "## [开始值,结束值),步长\n",
    "np.arange(0, 5, 1)"
   ],
   "id": "6327550d3117c3af",
   "outputs": [
    {
     "data": {
      "text/plain": [
       "array([0, 1, 2, 3, 4])"
      ]
     },
     "execution_count": 5,
     "metadata": {},
     "output_type": "execute_result"
    }
   ],
   "execution_count": 5
  },
  {
   "metadata": {
    "ExecuteTime": {
     "end_time": "2025-03-20T02:39:31.269596Z",
     "start_time": "2025-03-20T02:39:31.267012Z"
    }
   },
   "cell_type": "code",
   "source": [
    "# [开始值start, 结束值end], 划分个数num\n",
    "# 步长: (end - start) / (num - 1)\n",
    "np.linspace(0, 5, 5)\n",
    "np.linspace(0, 5, 9)\n",
    "np.linspace(5, 10, 6)"
   ],
   "id": "4c54cb9ea3e0a963",
   "outputs": [
    {
     "data": {
      "text/plain": [
       "array([ 5.,  6.,  7.,  8.,  9., 10.])"
      ]
     },
     "execution_count": 12,
     "metadata": {},
     "output_type": "execute_result"
    }
   ],
   "execution_count": 12
  },
  {
   "metadata": {
    "ExecuteTime": {
     "end_time": "2025-03-20T02:41:17.700403Z",
     "start_time": "2025-03-20T02:41:17.698085Z"
    }
   },
   "cell_type": "code",
   "source": [
    "np.zeros(10)\n",
    "np.zeros(3, dtype=int)\n",
    "val = np.zeros((5, 5), dtype=int)\n",
    "val[0, 0] = 1\n",
    "print(val)"
   ],
   "id": "f37c1ea3299abac",
   "outputs": [
    {
     "name": "stdout",
     "output_type": "stream",
     "text": [
      "[[1 0 0 0 0]\n",
      " [0 0 0 0 0]\n",
      " [0 0 0 0 0]\n",
      " [0 0 0 0 0]\n",
      " [0 0 0 0 0]]\n"
     ]
    }
   ],
   "execution_count": 20
  },
  {
   "metadata": {
    "ExecuteTime": {
     "end_time": "2025-03-20T03:17:36.726796Z",
     "start_time": "2025-03-20T03:17:36.723405Z"
    }
   },
   "cell_type": "code",
   "source": [
    "ones = np.ones((5, 5), dtype=int)\n",
    "print(ones)\n",
    "np.zeros(10, dtype=np.float32)\n",
    "np.zeros(4, dtype=np.bool)\n",
    "np.ones(5, dtype=np.bool)"
   ],
   "id": "902c0b4738899b9c",
   "outputs": [
    {
     "name": "stdout",
     "output_type": "stream",
     "text": [
      "[[1 1 1 1 1]\n",
      " [1 1 1 1 1]\n",
      " [1 1 1 1 1]\n",
      " [1 1 1 1 1]\n",
      " [1 1 1 1 1]]\n"
     ]
    },
    {
     "data": {
      "text/plain": [
       "array([ True,  True,  True,  True,  True])"
      ]
     },
     "execution_count": 28,
     "metadata": {},
     "output_type": "execute_result"
    }
   ],
   "execution_count": 28
  },
  {
   "metadata": {
    "ExecuteTime": {
     "end_time": "2025-03-20T03:15:10.075151Z",
     "start_time": "2025-03-20T03:15:10.072014Z"
    }
   },
   "cell_type": "code",
   "source": [
    "like = np.zeros_like(ones)\n",
    "print(like)\n",
    "print(np.ones_like(like))\n"
   ],
   "id": "239cde18ca899c9e",
   "outputs": [
    {
     "name": "stdout",
     "output_type": "stream",
     "text": [
      "[[0 0 0 0 0]\n",
      " [0 0 0 0 0]\n",
      " [0 0 0 0 0]\n",
      " [0 0 0 0 0]\n",
      " [0 0 0 0 0]]\n",
      "[[1 1 1 1 1]\n",
      " [1 1 1 1 1]\n",
      " [1 1 1 1 1]\n",
      " [1 1 1 1 1]\n",
      " [1 1 1 1 1]]\n"
     ]
    }
   ],
   "execution_count": 24
  },
  {
   "metadata": {
    "ExecuteTime": {
     "end_time": "2025-03-20T03:25:41.355888Z",
     "start_time": "2025-03-20T03:25:41.352580Z"
    }
   },
   "cell_type": "code",
   "source": [
    "arr = np.arange(0, 5, 1)\n",
    "arr.shape\n",
    "arr2 = np.array([[1, 10, 3], [4, 0, 6]])\n",
    "arr2.shape\n",
    "print(arr2.shape, arr2.shape[0], len(arr2), arr2.size)\n",
    "\n"
   ],
   "id": "e781067d3aca2c5c",
   "outputs": [
    {
     "name": "stdout",
     "output_type": "stream",
     "text": [
      "(2, 3) 2 2 6\n",
      "(8,)\n",
      "(2, 4) [[1 2 3 4]\n",
      " [5 6 7 8]]\n"
     ]
    }
   ],
   "execution_count": 48
  },
  {
   "metadata": {},
   "cell_type": "code",
   "outputs": [],
   "execution_count": null,
   "source": "",
   "id": "dd5f3ce795411275"
  },
  {
   "metadata": {
    "ExecuteTime": {
     "end_time": "2025-03-20T03:23:22.673960Z",
     "start_time": "2025-03-20T03:23:22.670540Z"
    }
   },
   "cell_type": "code",
   "source": [
    "print(np.reshape(arr2, (1, 6)))\n",
    "print(np.reshape(arr2, (1, 6), order='F'))\n",
    "print(np.reshape(arr2, (1, 6), order='C'))\n",
    "\n",
    "print(np.reshape(arr2, (1, -1)))\n",
    "print(np.reshape(arr2, (2, -1)))\n",
    "print(np.reshape(arr2, (3, -1)))"
   ],
   "id": "d3b4b9f237758d15",
   "outputs": [
    {
     "name": "stdout",
     "output_type": "stream",
     "text": [
      "[[ 1 10  3  4  0  6]]\n",
      "[[ 1  4 10  0  3  6]]\n",
      "[[ 1 10  3  4  0  6]]\n",
      "[[ 1 10  3  4  0  6]]\n",
      "[[ 1 10  3]\n",
      " [ 4  0  6]]\n",
      "[[ 1 10]\n",
      " [ 3  4]\n",
      " [ 0  6]]\n"
     ]
    }
   ],
   "execution_count": 44
  },
  {
   "metadata": {
    "ExecuteTime": {
     "end_time": "2025-03-20T03:27:37.984443Z",
     "start_time": "2025-03-20T03:27:37.981505Z"
    }
   },
   "cell_type": "code",
   "source": [
    "## 元数据修改\n",
    "\n",
    "\n",
    "a1 = np.array([1, 2, 3, 4, 5, 6, 7 ,8])\n",
    "print(a1.shape)\n",
    "a1.shape = (2, 4)\n",
    "print(a1.shape, a1)\n",
    "print(a1.ndim, a1.size, a1.shape, a1.dtype)"
   ],
   "id": "f037e050457af49e",
   "outputs": [
    {
     "name": "stdout",
     "output_type": "stream",
     "text": [
      "(8,)\n",
      "(2, 4) [[1 2 3 4]\n",
      " [5 6 7 8]]\n",
      "2 8 (2, 4) int64\n",
      "float64 [[4.9e-324 9.9e-324 1.5e-323 2.0e-323]\n",
      " [2.5e-323 3.0e-323 3.5e-323 4.0e-323]]\n"
     ]
    }
   ],
   "execution_count": 51
  },
  {
   "metadata": {
    "ExecuteTime": {
     "end_time": "2025-03-20T03:38:04.344361Z",
     "start_time": "2025-03-20T03:38:04.340392Z"
    }
   },
   "cell_type": "code",
   "source": [
    "a2 = np.arange(10)\n",
    "print('a2', a2, a2.dtype)\n",
    "## 可以改,但最好不要,会导致数据错乱,因为读取的数据字节变化了, 要改使用astype方法\n",
    "a2.dtype = np.int32\n",
    "print('a2 modify:', a2, a2.dtype)\n",
    "\n",
    "\n",
    "### astype 会新建一个数组对象, 不会修改原始对象\n",
    "a3 = np.arange(10)\n",
    "print('a3 :', a3, a3.dtype)\n",
    "a3_1 = a3.astype(np.int8)\n",
    "print('a3_1 :', a3_1, a3_1.dtype)\n",
    "a3_2 = a3.astype(np.float64)\n",
    "print('a3_2 :', a3_2, a3_2.dtype)"
   ],
   "id": "8d842810bdb0e256",
   "outputs": [
    {
     "name": "stdout",
     "output_type": "stream",
     "text": [
      "a2 [0 1 2 3 4 5 6 7 8 9] int64\n",
      "a2 modify: [0 0 1 0 2 0 3 0 4 0 5 0 6 0 7 0 8 0 9 0] int32\n",
      "a3 : [0 1 2 3 4 5 6 7 8 9] int64\n",
      "a3_1 : [0 1 2 3 4 5 6 7 8 9] int8\n",
      "a3_2 : [0. 1. 2. 3. 4. 5. 6. 7. 8. 9.] float64\n"
     ]
    }
   ],
   "execution_count": 73
  },
  {
   "metadata": {},
   "cell_type": "markdown",
   "source": [
    "在NumPy中，元数据（metadata）通常不是以某种特定的“元数据格式”单独存储，而是通过数组对象的属性和结构来体现。NumPy数组（`numpy.ndarray`）本身包含了一些关键的元数据，这些信息描述了数组的特性。以下是NumPy元数据的核心组成部分及其格式的说明：\n",
    "\n",
    "### 1. **形状（Shape）**\n",
    "   - 通过属性 `.shape` 表示，是一个元组（tuple），描述数组的每个维度的大小。\n",
    "   - 示例：对于一个 3x4 的二维数组，`.shape` 返回 `(3, 4)`。\n",
    "\n",
    "### 2. **数据类型（Dtype）**\n",
    "   - 通过属性 `.dtype` 表示，定义了数组中每个元素的数据类型（如 `int32`, `float64`, `uint8` 等）。\n",
    "   - NumPy 支持多种内置数据类型，还可以通过自定义 `dtype` 来描述复杂的结构化数据。\n",
    "   - 示例：`np.array([1, 2, 3]).dtype` 可能返回 `int64`。\n",
    "\n",
    "### 3. **维度（Ndim）**\n",
    "   - 通过属性 `.ndim` 表示，是一个整数，表示数组的维度数量。\n",
    "   - 示例：一个标量数组的 `.ndim` 为 0，一维数组为 1，二维数组为 2。\n",
    "\n",
    "### 4. **大小（Size）**\n",
    "   - 通过属性 `.size` 表示，是数组中元素的总数（所有维度大小的乘积）。\n",
    "   - 示例：对于形状为 `(3, 4)` 的数组，`.size` 返回 12。\n",
    "\n",
    "### 5. **步幅（Strides）**\n",
    "   - 通过属性 `.strides` 表示，是一个元组，描述在内存中沿每个维度移动到下一个元素所需的字节数。\n",
    "   - 这与数组的内存布局（C顺序或Fortran顺序）密切相关。\n",
    "   - 示例：对于一个 `(3, 4)` 的 `int32` 数组（每个元素 4 字节），C顺序的 `.strides` 可能是 `(16, 4)`。\n",
    "\n",
    "### 6. **内存布局（Flags）**\n",
    "   - 通过属性 `.flags` 查看，包含关于数组内存布局的信息，比如是否是 C 连续（`C_CONTIGUOUS`）、Fortran 连续（`F_CONTIGUOUS`）或只读（`WRITEABLE`）等。\n",
    "\n",
    "### 7. **数据缓冲区（Data Buffer）**\n",
    "   - 实际数据存储在底层的缓冲区中，可以通过 `.data` 属性访问（返回一个 `memoryview` 对象）。\n",
    "   - 这部分不是传统意义上的元数据，而是数组内容的载体。\n",
    "\n",
    "### 示例代码\n",
    "```python\n",
    "import numpy as np\n",
    "\n",
    "# 创建一个简单的二维数组\n",
    "arr = np.array([[1, 2, 3], [4, 5, 6]])\n",
    "\n",
    "# 查看元数据\n",
    "print(\"Shape:\", arr.shape)        # (2, 3)\n",
    "print(\"Dtype:\", arr.dtype)       # int64（具体取决于系统）\n",
    "print(\"Ndim:\", arr.ndim)         # 2\n",
    "print(\"Size:\", arr.size)         # 6\n",
    "print(\"Strides:\", arr.strides)   # (24, 8)（假设 int64，每个元素 8 字节）\n",
    "print(\"Flags:\", arr.flags)       # 显示内存布局信息\n",
    "```\n",
    "\n",
    "### 文件中的元数据（`.npy` 格式）\n",
    "如果你指的是NumPy保存到磁盘上的文件格式（如 `.npy` 文件），它的元数据存储在文件头部：\n",
    "- **头部结构**：以文本形式存储，包含一个 Python 字典，描述数组的 `shape`、`dtype` 和 `order`（C 或 Fortran）。\n",
    "- **示例头部**：`{'descr': '<f8', 'fortran_order': False, 'shape': (3, 4)}`。\n",
    "- 头部后面跟着二进制数据。\n",
    "\n",
    "可以用 `np.load()` 加载 `.npy` 文件时查看这些元数据：\n",
    "```python\n",
    "arr = np.load(\"example.npy\")\n",
    "print(arr.shape, arr.dtype)\n",
    "```\n",
    "\n",
    "### 总结\n",
    "NumPy 的“元数据”主要通过数组对象的属性（如 `shape`、`dtype` 等）体现，而在文件存储时（如 `.npy`），则以头部字典的形式记录。"
   ],
   "id": "3bf4179f36540ff4"
  },
  {
   "metadata": {},
   "cell_type": "code",
   "outputs": [],
   "execution_count": null,
   "source": "",
   "id": "6bfb6a43a12cf6f0"
  }
 ],
 "metadata": {
  "kernelspec": {
   "display_name": "Python 3 (ipykernel)",
   "language": "python",
   "name": "python3"
  },
  "language_info": {
   "codemirror_mode": {
    "name": "ipython",
    "version": 3
   },
   "file_extension": ".py",
   "mimetype": "text/x-python",
   "name": "python",
   "nbconvert_exporter": "python",
   "pygments_lexer": "ipython3",
   "version": "3.12.9"
  }
 },
 "nbformat": 4,
 "nbformat_minor": 5
}
