{
 "cells": [
  {
   "cell_type": "code",
   "id": "initial_id",
   "metadata": {
    "collapsed": true,
    "ExecuteTime": {
     "end_time": "2025-04-03T08:17:47.954898Z",
     "start_time": "2025-04-03T08:17:47.824290Z"
    }
   },
   "source": [
    "## https://www.geeksforgeeks.org/implementation-of-neural-network-from-scratch-using-numpy/\n",
    "\n",
    "import numpy as np\n",
    "import matplotlib.pyplot as plt\n",
    "\n",
    "# Creating data set\n",
    "\n",
    "# A\n",
    "a = [\n",
    "    0, 0, 1, 1, 0, 0,\n",
    "    0, 1, 0, 0, 1, 0,\n",
    "    1, 1, 1, 1, 1, 1,\n",
    "    1, 0, 0, 0, 0, 1,\n",
    "    1, 0, 0, 0, 0, 1\n",
    "]\n",
    "# B\n",
    "b = [\n",
    "    0, 1, 1, 1, 0, 0,\n",
    "    0, 1, 0, 0, 1, 0,\n",
    "    0, 1, 1, 1, 0, 0,\n",
    "    0, 1, 0, 0, 1, 0,\n",
    "    0, 1, 1, 1, 0, 0\n",
    "]\n",
    "# C\n",
    "c = [\n",
    "    0, 1, 1, 1, 1, 0,\n",
    "    0, 1, 0, 0, 0, 0,\n",
    "    0, 1, 0, 0, 0, 0,\n",
    "    0, 1, 0, 0, 0, 0,\n",
    "    0, 1, 1, 1, 1, 0\n",
    "]\n",
    "\n",
    "# Creating labels\n",
    "y =[[1, 0, 0],\n",
    "[0, 1, 0],\n",
    "[0, 0, 1]]\n",
    "\n",
    "import numpy as np\n",
    "import matplotlib.pyplot as plt\n",
    "# visualizing the data, plotting A.\n",
    "plt.imshow(np.array(a).reshape(5, 6))\n",
    "plt.show()\n",
    "plt.imshow(np.array(b).reshape(5, 6))\n",
    "plt.show()\n",
    "plt.imshow(np.array(c).reshape(5, 6))\n",
    "plt.show()\n"
   ],
   "outputs": [
    {
     "data": {
      "text/plain": [
       "<Figure size 640x480 with 1 Axes>"
      ],
      "image/png": "[encoded data removed]"
     },
     "metadata": {},
     "output_type": "display_data"
    },
    {
     "data": {
      "text/plain": [
       "<Figure size 640x480 with 1 Axes>"
      ],
      "image/png": "[encoded data removed]"
     },
     "metadata": {},
     "output_type": "display_data"
    },
    {
     "data": {
      "text/plain": [
       "<Figure size 640x480 with 1 Axes>"
      ],
      "image/png": "[encoded data removed]"
     },
     "metadata": {},
     "output_type": "display_data"
    }
   ],
   "execution_count": 17
  },
  {
   "metadata": {
    "ExecuteTime": {
     "end_time": "2025-04-03T08:12:39.096452Z",
     "start_time": "2025-04-03T08:12:39.093472Z"
    }
   },
   "cell_type": "code",
   "source": [
    "x = [\n",
    "    np.array(a).reshape(1, 30),\n",
    "    np.array(b).reshape(1, 30),\n",
    "    np.array(c).reshape(1, 30),\n",
    "]\n",
    "y = np.array(y)"
   ],
   "id": "ca8de392fbceaa67",
   "outputs": [
    {
     "name": "stdout",
     "output_type": "stream",
     "text": [
      "[[1 0 0]\n",
      " [0 1 0]\n",
      " [0 0 1]]\n"
     ]
    }
   ],
   "execution_count": 7
  },
  {
   "metadata": {
    "ExecuteTime": {
     "end_time": "2025-04-03T08:16:04.214658Z",
     "start_time": "2025-04-03T08:16:04.205782Z"
    }
   },
   "cell_type": "code",
   "source": [
    "# activation function\n",
    "\n",
    "def sigmoid(x):\n",
    "\treturn(1/(1 + np.exp(-x)))\n",
    "\n",
    "# Creating the Feed forward neural network\n",
    "# 1 Input layer(1, 30)\n",
    "# 1 hidden layer (1, 5)\n",
    "# 1 output layer(3, 3)\n",
    "\n",
    "def f_forward(x, w1, w2):\n",
    "\t# hidden\n",
    "\tz1 = x.dot(w1)# input from layer 1\n",
    "\ta1 = sigmoid(z1)# out put of layer 2\n",
    "\n",
    "\t# Output layer\n",
    "\tz2 = a1.dot(w2)# input of out layer\n",
    "\ta2 = sigmoid(z2)# output of out layer\n",
    "\treturn(a2)\n",
    "\n",
    "# initializing the weights randomly\n",
    "def generate_wt(x, y):\n",
    "\tl =[]\n",
    "\tfor i in range(x * y):\n",
    "\t\tl.append(np.random.randn())\n",
    "\treturn(np.array(l).reshape(x, y))\n",
    "\n",
    "# for loss we will be using mean square error(MSE)\n",
    "def loss(out, Y):\n",
    "\ts =(np.square(out-Y))\n",
    "\ts = np.sum(s)/len(y)\n",
    "\treturn(s)\n",
    "\n",
    "# Back propagation of error\n",
    "def back_prop(x, y, w1, w2, alpha):\n",
    "\n",
    "\t# hidden layer\n",
    "\tz1 = x.dot(w1)# input from layer 1\n",
    "\ta1 = sigmoid(z1)# output of layer 2\n",
    "\n",
    "\t# Output layer\n",
    "\tz2 = a1.dot(w2)# input of out layer\n",
    "\ta2 = sigmoid(z2)# output of out layer\n",
    "\t# error in output layer\n",
    "\td2 =(a2-y)\n",
    "\td1 = np.multiply((w2.dot((d2.transpose()))).transpose(),\n",
    "\t\t\t\t\t\t\t\t(np.multiply(a1, 1-a1)))\n",
    "\n",
    "\t# Gradient for w1 and w2\n",
    "\tw1_adj = x.transpose().dot(d1)\n",
    "\tw2_adj = a1.transpose().dot(d2)\n",
    "\n",
    "\t# Updating parameters\n",
    "\tw1 = w1-(alpha*(w1_adj))\n",
    "\tw2 = w2-(alpha*(w2_adj))\n",
    "\n",
    "\treturn(w1, w2)\n",
    "\n",
    "def train(x, Y, w1, w2, alpha = 0.01, epoch = 10):\n",
    "\tacc =[]\n",
    "\tlosss =[]\n",
    "\tfor j in range(epoch):\n",
    "\t\tl =[]\n",
    "\t\tfor i in range(len(x)):\n",
    "\t\t\tout = f_forward(x[i], w1, w2)\n",
    "\t\t\tl.append((loss(out, Y[i])))\n",
    "\t\t\tw1, w2 = back_prop(x[i], y[i], w1, w2, alpha)\n",
    "\t\tprint(\"epochs:\", j + 1, \"======== acc:\", (1-(sum(l)/len(x)))*100)\n",
    "\t\tacc.append((1-(sum(l)/len(x)))*100)\n",
    "\t\tlosss.append(sum(l)/len(x))\n",
    "\treturn(acc, losss, w1, w2)\n",
    "\n",
    "def predict(x, w1, w2):\n",
    "\tOut = f_forward(x, w1, w2)\n",
    "\tmaxm = 0\n",
    "\tk = 0\n",
    "\tfor i in range(len(Out[0])):\n",
    "\t\tif(maxm<Out[0][i]):\n",
    "\t\t\tmaxm = Out[0][i]\n",
    "\t\t\tk = i\n",
    "\tif(k == 0):\n",
    "\t\tprint(\"Image is of letter A.\")\n",
    "\telif(k == 1):\n",
    "\t\tprint(\"Image is of letter B.\")\n",
    "\telse:\n",
    "\t\tprint(\"Image is of letter C.\")\n",
    "\tplt.imshow(x.reshape(5, 6))\n",
    "\tplt.show()\n",
    "\n",
    "\n"
   ],
   "id": "737c1b88485d91e5",
   "outputs": [],
   "execution_count": 8
  },
  {
   "metadata": {
    "ExecuteTime": {
     "end_time": "2025-04-03T08:16:08.037175Z",
     "start_time": "2025-04-03T08:16:08.018127Z"
    }
   },
   "cell_type": "code",
   "source": [
    "w1 = generate_wt(30, 5)\n",
    "w2 = generate_wt(5, 3)\n",
    "print(w1, \"\\n\\n\", w2)\n"
   ],
   "id": "97e26c7f0f081d92",
   "outputs": [
    {
     "name": "stdout",
     "output_type": "stream",
     "text": [
      "[[-1.82917534e+00  6.98933943e-01  6.31990490e-01  8.73487755e-01\n",
      "  -6.35033730e-01]\n",
      " [-2.23343220e-01 -1.66817044e+00  1.44127420e+00 -8.35076623e-01\n",
      "   4.40654431e-01]\n",
      " [-3.23633080e-02 -6.63915003e-01  1.21897800e+00 -6.36874817e-01\n",
      "  -4.89092142e-02]\n",
      " [ 6.70179801e-01 -4.26553697e-01  3.96708283e-01 -1.07787485e+00\n",
      "  -5.06709655e-01]\n",
      " [ 5.79520182e-01  1.26984093e+00  1.27385943e-02 -7.42845572e-01\n",
      "   2.11687409e+00]\n",
      " [ 1.43999154e+00 -6.00473661e-01  1.19243003e+00  9.65682837e-01\n",
      "  -8.99971193e-01]\n",
      " [-5.58888622e-01 -3.66689594e-01 -2.82418960e-01 -6.49984130e-01\n",
      "   4.56334201e-01]\n",
      " [ 6.12039234e-01 -2.55115815e-01  6.01390969e-01  2.74987284e+00\n",
      "   1.12750671e+00]\n",
      " [-1.49173452e+00 -1.08504731e+00 -4.72779756e-01 -1.36884414e+00\n",
      "   1.68700969e-01]\n",
      " [-5.88728358e-04 -4.73940711e-01 -6.27868325e-01  2.97748174e-01\n",
      "  -9.57583667e-01]\n",
      " [ 3.02207725e-01  1.13377049e-01 -1.22586072e+00  3.29383425e-01\n",
      "   4.53776260e-01]\n",
      " [ 5.77509561e-01  1.92485193e+00  7.32465893e-01 -6.20589049e-01\n",
      "   4.15744500e-01]\n",
      " [ 1.13862029e+00 -3.86063032e-02  7.11086310e-01 -3.98066034e-01\n",
      "   7.06400259e-01]\n",
      " [-8.31233912e-01  5.69194466e-01 -2.32580120e+00 -1.73377066e-01\n",
      "  -2.75757474e-01]\n",
      " [ 7.78250047e-01 -7.93955269e-02  1.24778895e+00 -1.07794424e+00\n",
      "   9.81720920e-01]\n",
      " [ 9.60987020e-01 -8.67003526e-01 -5.95715292e-01 -1.39391003e+00\n",
      "   8.37614032e-01]\n",
      " [ 7.91851571e-01 -4.37070282e-01 -8.95450749e-01 -1.03530260e+00\n",
      "   2.18017511e+00]\n",
      " [-2.58301464e-01 -9.76132993e-02  3.83061693e-01 -3.32633963e-03\n",
      "   9.43743036e-01]\n",
      " [ 8.16436374e-01  1.56149668e+00 -7.85109508e-02 -2.16892328e+00\n",
      "  -1.63350283e-01]\n",
      " [-7.34863716e-01  1.69997625e-01 -1.04181986e+00 -1.61509385e+00\n",
      "   9.22004277e-01]\n",
      " [ 1.74291299e+00 -1.16666830e+00  7.42255832e-01 -4.17517261e-01\n",
      "   4.04389782e-01]\n",
      " [-4.67937430e-01 -4.99628007e-01  1.52002409e+00 -2.68842755e-01\n",
      "   1.70129313e+00]\n",
      " [ 1.26848402e+00  9.75487359e-02 -5.54030172e-01 -9.72314257e-01\n",
      "   1.62725045e+00]\n",
      " [-1.28661324e+00  6.91498279e-02  2.98572447e-01 -8.97499712e-01\n",
      "  -5.36089611e-01]\n",
      " [ 1.31314180e-01  9.76038600e-01 -5.12254786e-01 -8.49077147e-01\n",
      "  -1.52982637e+00]\n",
      " [-4.24610444e-01  7.74971065e-01  3.83678311e-01 -1.87312814e+00\n",
      "  -2.26375392e-01]\n",
      " [-1.46833620e+00  1.00662791e+00 -5.95590467e-01 -1.29228302e+00\n",
      "  -3.65207552e-01]\n",
      " [-5.78255485e-01  1.20305967e+00 -7.41924374e-01 -2.28055149e-01\n",
      "   1.06199714e+00]\n",
      " [-1.33145600e+00 -3.99754746e-01  1.05607618e+00 -9.62797516e-02\n",
      "  -1.00572592e+00]\n",
      " [-6.63621188e-01  2.02083084e-01 -9.00477453e-02  1.22098129e-01\n",
      "   5.82688226e-01]] \n",
      "\n",
      " [[ 0.39575887  0.78329672 -1.01759452]\n",
      " [ 0.25668914 -1.64581046  1.37337121]\n",
      " [-0.87399918  1.05551185  0.87404019]\n",
      " [-1.4877962   1.64418537 -0.43978951]\n",
      " [ 0.48662017  0.6733663   0.17644147]]\n"
     ]
    }
   ],
   "execution_count": 9
  },
  {
   "metadata": {
    "ExecuteTime": {
     "end_time": "2025-04-03T08:16:22.765708Z",
     "start_time": "2025-04-03T08:16:22.751669Z"
    }
   },
   "cell_type": "code",
   "source": [
    "\"\"\"The arguments of train function are data set list x,\n",
    "correct labels y, weights w1, w2, learning rate = 0.1,\n",
    "no of epochs or iteration.The function will return the\n",
    "matrix of accuracy and loss and also the matrix of\n",
    "trained weights w1, w2\"\"\"\n",
    "\n",
    "acc, losss, w1, w2 = train(x, y, w1, w2, 0.1, 100)\n"
   ],
   "id": "e2bdce04ba4c7e40",
   "outputs": [
    {
     "name": "stdout",
     "output_type": "stream",
     "text": [
      "epochs: 1 ======== acc: 73.14081612039398\n",
      "epochs: 2 ======== acc: 76.5857278687159\n",
      "epochs: 3 ======== acc: 79.08931561799561\n",
      "epochs: 4 ======== acc: 80.98246755733211\n",
      "epochs: 5 ======== acc: 82.47138957832844\n",
      "epochs: 6 ======== acc: 83.67589645221074\n",
      "epochs: 7 ======== acc: 84.67156795343118\n",
      "epochs: 8 ======== acc: 85.51096595778311\n",
      "epochs: 9 ======== acc: 86.23294060408534\n",
      "epochs: 10 ======== acc: 86.8670048615862\n",
      "epochs: 11 ======== acc: 87.43580249703137\n",
      "epochs: 12 ======== acc: 87.95674312326125\n",
      "epochs: 13 ======== acc: 88.44314713574167\n",
      "epochs: 14 ======== acc: 88.90501624918316\n",
      "epochs: 15 ======== acc: 89.34949915969348\n",
      "epochs: 16 ======== acc: 89.78114511167755\n",
      "epochs: 17 ======== acc: 90.20209117854547\n",
      "epochs: 18 ======== acc: 90.6123686739034\n",
      "epochs: 19 ======== acc: 91.01047328044339\n",
      "epochs: 20 ======== acc: 91.3941834722604\n",
      "epochs: 21 ======== acc: 91.76141022789349\n",
      "epochs: 22 ======== acc: 92.11079061228762\n",
      "epochs: 23 ======== acc: 92.44187803249588\n",
      "epochs: 24 ======== acc: 92.75500242236704\n",
      "epochs: 25 ======== acc: 93.050988662563\n",
      "epochs: 26 ======== acc: 93.33089090402315\n",
      "epochs: 27 ======== acc: 93.59581088408893\n",
      "epochs: 28 ======== acc: 93.84680060624065\n",
      "epochs: 29 ======== acc: 94.0848234237707\n",
      "epochs: 30 ======== acc: 94.31074730382032\n",
      "epochs: 31 ======== acc: 94.52535239335639\n",
      "epochs: 32 ======== acc: 94.72934303722369\n",
      "epochs: 33 ======== acc: 94.92335970200372\n",
      "epochs: 34 ======== acc: 95.10798914829459\n",
      "epochs: 35 ======== acc: 95.28377254920143\n",
      "epochs: 36 ======== acc: 95.45121178590041\n",
      "epochs: 37 ======== acc: 95.61077429599514\n",
      "epochs: 38 ======== acc: 95.76289683559432\n",
      "epochs: 39 ======== acc: 95.90798844973725\n",
      "epochs: 40 ======== acc: 96.04643287373395\n",
      "epochs: 41 ======== acc: 96.17859052642623\n",
      "epochs: 42 ======== acc: 96.30480020885021\n",
      "epochs: 43 ======== acc: 96.42538058701511\n",
      "epochs: 44 ======== acc: 96.54063151288922\n",
      "epochs: 45 ======== acc: 96.650835220605\n",
      "epochs: 46 ======== acc: 96.75625742321631\n",
      "epochs: 47 ======== acc: 96.85714832744033\n",
      "epochs: 48 ======== acc: 96.95374357851416\n",
      "epochs: 49 ======== acc: 97.04626514376424\n",
      "epochs: 50 ======== acc: 97.13492214114501\n",
      "epochs: 51 ======== acc: 97.21991161746186\n",
      "epochs: 52 ======== acc: 97.30141927998045\n",
      "epochs: 53 ======== acc: 97.37962018446036\n",
      "epochs: 54 ======== acc: 97.45467938221495\n",
      "epochs: 55 ======== acc: 97.52675252850855\n",
      "epochs: 56 ======== acc: 97.59598645440543\n",
      "epochs: 57 ======== acc: 97.6625197040445\n",
      "epochs: 58 ======== acc: 97.72648303920931\n",
      "epochs: 59 ======== acc: 97.78799991297795\n",
      "epochs: 60 ======== acc: 97.84718691416393\n",
      "epochs: 61 ======== acc: 97.90415418419113\n",
      "epochs: 62 ======== acc: 97.95900580798038\n",
      "epochs: 63 ======== acc: 98.01184018036052\n",
      "epochs: 64 ======== acc: 98.06275034945166\n",
      "epochs: 65 ======== acc: 98.1118243384038\n",
      "epochs: 66 ======== acc: 98.15914544680862\n",
      "epochs: 67 ======== acc: 98.20479253303705\n",
      "epochs: 68 ======== acc: 98.24884027869214\n",
      "epochs: 69 ======== acc: 98.29135943630195\n",
      "epochs: 70 ======== acc: 98.33241706131678\n",
      "epochs: 71 ======== acc: 98.37207672941388\n",
      "epochs: 72 ======== acc: 98.41039874005482\n",
      "epochs: 73 ======== acc: 98.44744030718459\n",
      "epochs: 74 ======== acc: 98.48325573790753\n",
      "epochs: 75 ======== acc: 98.51789659992357\n",
      "epochs: 76 ======== acc: 98.55141187845928\n",
      "epochs: 77 ======== acc: 98.58384812338153\n",
      "epochs: 78 ======== acc: 98.61524958713753\n",
      "epochs: 79 ======== acc: 98.64565835412297\n",
      "epochs: 80 ======== acc: 98.67511446204094\n",
      "epochs: 81 ======== acc: 98.70365601577686\n",
      "epochs: 82 ======== acc: 98.73131929428041\n",
      "epochs: 83 ======== acc: 98.75813885091182\n",
      "epochs: 84 ======== acc: 98.78414760768021\n",
      "epochs: 85 ======== acc: 98.80937694377236\n",
      "epochs: 86 ======== acc: 98.83385677874358\n",
      "epochs: 87 ======== acc: 98.85761565071745\n",
      "epochs: 88 ======== acc: 98.88068078991749\n",
      "epochs: 89 ======== acc: 98.90307818783229\n",
      "epochs: 90 ======== acc: 98.92483266229497\n",
      "epochs: 91 ======== acc: 98.94596791873897\n",
      "epochs: 92 ======== acc: 98.96650660787442\n",
      "epochs: 93 ======== acc: 98.98647038001305\n",
      "epochs: 94 ======== acc: 99.00587993625388\n",
      "epochs: 95 ======== acc: 99.02475507672786\n",
      "epochs: 96 ======== acc: 99.04311474608647\n",
      "epochs: 97 ======== acc: 99.0609770764065\n",
      "epochs: 98 ======== acc: 99.07835942767196\n",
      "epochs: 99 ======== acc: 99.09527842598355\n",
      "epochs: 100 ======== acc: 99.11174999963568\n"
     ]
    }
   ],
   "execution_count": 10
  },
  {
   "metadata": {
    "ExecuteTime": {
     "end_time": "2025-04-03T08:16:31.837661Z",
     "start_time": "2025-04-03T08:16:31.782809Z"
    }
   },
   "cell_type": "code",
   "source": [
    "import matplotlib.pyplot as plt1\n",
    "\n",
    "# plotting accuracy\n",
    "plt1.plot(acc)\n",
    "plt1.ylabel('Accuracy')\n",
    "plt1.xlabel(\"Epochs:\")\n",
    "plt1.show()\n",
    "\n",
    "# plotting Loss\n",
    "plt1.plot(losss)\n",
    "plt1.ylabel('Loss')\n",
    "plt1.xlabel(\"Epochs:\")\n",
    "plt1.show()\n"
   ],
   "id": "1457a7366398e5be",
   "outputs": [
    {
     "data": {
      "text/plain": [
       "<Figure size 640x480 with 1 Axes>"
      ],
      "image/png": "[encoded data removed]"
     },
     "metadata": {},
     "output_type": "display_data"
    },
    {
     "data": {
      "text/plain": [
       "<Figure size 640x480 with 1 Axes>"
      ],
      "image/png": "[encoded data removed]"
     },
     "metadata": {},
     "output_type": "display_data"
    }
   ],
   "execution_count": 11
  },
  {
   "metadata": {
    "ExecuteTime": {
     "end_time": "2025-04-03T08:16:44.932038Z",
     "start_time": "2025-04-03T08:16:44.915444Z"
    }
   },
   "cell_type": "code",
   "source": [
    "# the trained weights are\n",
    "print(w1, \"\\n\", w2)\n"
   ],
   "id": "cec0d8dca91eb87c",
   "outputs": [
    {
     "name": "stdout",
     "output_type": "stream",
     "text": [
      "[[-1.82917534e+00  6.98933943e-01  6.31990490e-01  8.73487755e-01\n",
      "  -6.35033730e-01]\n",
      " [-1.42102296e-01 -1.91951940e+00  2.14874385e+00 -8.35894701e-01\n",
      "   3.91575209e-01]\n",
      " [ 9.16120546e-02 -4.63169142e-01  1.39654510e+00 -6.46964481e-01\n",
      "  -1.01109360e-01]\n",
      " [ 7.94155163e-01 -2.25807836e-01  5.74275377e-01 -1.08796452e+00\n",
      "  -5.58909801e-01]\n",
      " [ 3.05794873e-01  1.99685242e+00  1.59896471e-01 -7.46112412e-01\n",
      "   2.06374533e+00]\n",
      " [ 1.43999154e+00 -6.00473661e-01  1.19243003e+00  9.65682837e-01\n",
      "  -8.99971193e-01]\n",
      " [-5.58888622e-01 -3.66689594e-01 -2.82418960e-01 -6.49984130e-01\n",
      "   4.56334201e-01]\n",
      " [ 7.36014597e-01 -5.43699541e-02  7.78958064e-01  2.73978318e+00\n",
      "   1.07530657e+00]\n",
      " [-1.49173452e+00 -1.08504731e+00 -4.72779756e-01 -1.36884414e+00\n",
      "   1.68700969e-01]\n",
      " [-5.88728358e-04 -4.73940711e-01 -6.27868325e-01  2.97748174e-01\n",
      "  -9.57583667e-01]\n",
      " [ 6.99908397e-01 -4.12888587e-01 -1.19545150e+00  3.22560601e-01\n",
      "   4.54704872e-01]\n",
      " [ 5.77509561e-01  1.92485193e+00  7.32465893e-01 -6.20589049e-01\n",
      "   4.15744500e-01]\n",
      " [ 1.18135473e+00  4.13488512e-01  1.81183752e-01 -4.07337620e-01\n",
      "   7.03279336e-01]\n",
      " [-7.07258550e-01  7.69940327e-01 -2.14823410e+00 -1.83466730e-01\n",
      "  -3.27957620e-01]\n",
      " [ 1.17595072e+00 -6.05661162e-01  1.27819817e+00 -1.08476707e+00\n",
      "   9.82649532e-01]\n",
      " [ 1.35868769e+00 -1.39326916e+00 -5.65306074e-01 -1.40073285e+00\n",
      "   8.38542644e-01]\n",
      " [ 8.34586010e-01  1.50245327e-02 -1.42535331e+00 -1.04457419e+00\n",
      "   2.17705418e+00]\n",
      " [-2.15567025e-01  3.54481516e-01 -1.46840865e-01 -1.25979255e-02\n",
      "   9.40622113e-01]\n",
      " [ 8.59170813e-01  2.01359149e+00 -6.08413509e-01 -2.17819487e+00\n",
      "  -1.66471206e-01]\n",
      " [-6.53622792e-01 -8.13513291e-02 -3.34350212e-01 -1.61591193e+00\n",
      "   8.72925054e-01]\n",
      " [ 1.74291299e+00 -1.16666830e+00  7.42255832e-01 -4.17517261e-01\n",
      "   4.04389782e-01]\n",
      " [-4.67937430e-01 -4.99628007e-01  1.52002409e+00 -2.68842755e-01\n",
      "   1.70129313e+00]\n",
      " [ 1.62345026e+00 -8.80811715e-01  6.28160409e-03 -9.69865495e-01\n",
      "   1.63129999e+00]\n",
      " [-1.24387881e+00  5.21244643e-01 -2.31330112e-01 -9.06771298e-01\n",
      "  -5.39210534e-01]\n",
      " [ 1.74048619e-01  1.42813341e+00 -1.04215734e+00 -8.58348733e-01\n",
      "  -1.53294729e+00]\n",
      " [-3.43369521e-01  5.23622111e-01  1.09114796e+00 -1.87394622e+00\n",
      "  -2.75454614e-01]\n",
      " [-1.38709528e+00  7.55278956e-01  1.11879185e-01 -1.29310110e+00\n",
      "  -4.14286774e-01]\n",
      " [-4.97014561e-01  9.51710715e-01 -3.44547212e-02 -2.28873227e-01\n",
      "   1.01291791e+00]\n",
      " [-1.60518131e+00  3.27256750e-01  1.20323406e+00 -9.95465919e-02\n",
      "  -1.05885467e+00]\n",
      " [-6.20886749e-01  6.54177899e-01 -6.19950304e-01  1.12826543e-01\n",
      "   5.79567303e-01]] \n",
      " [[ 1.24268362  1.18903587 -3.4876453 ]\n",
      " [ 1.0858039  -3.99046927  1.58902833]\n",
      " [-3.32632408  1.12628296  1.55426002]\n",
      " [-1.48873429  1.6379225  -0.43698568]\n",
      " [-0.39697443 -0.05128802 -0.88882255]]\n"
     ]
    }
   ],
   "execution_count": 12
  },
  {
   "metadata": {
    "ExecuteTime": {
     "end_time": "2025-04-03T08:17:15.565990Z",
     "start_time": "2025-04-03T08:17:15.539319Z"
    }
   },
   "cell_type": "code",
   "source": [
    "\"\"\"\n",
    "The predict function will take the following arguments:\n",
    "1) image matrix\n",
    "2) w1 trained weights\n",
    "3) w2 trained weights\n",
    "\"\"\"\n",
    "predict(x[1], w1, w2)\n"
   ],
   "id": "e54da11742aa582b",
   "outputs": [
    {
     "name": "stdout",
     "output_type": "stream",
     "text": [
      "Image is of letter B.\n"
     ]
    },
    {
     "data": {
      "text/plain": [
       "<Figure size 640x480 with 1 Axes>"
      ],
      "image/png": "[encoded data removed]"
     },
     "metadata": {},
     "output_type": "display_data"
    }
   ],
   "execution_count": 16
  },
  {
   "metadata": {},
   "cell_type": "code",
   "outputs": [],
   "execution_count": null,
   "source": "",
   "id": "e58349ebdecd34ec"
  }
 ],
 "metadata": {
  "kernelspec": {
   "display_name": "Python 3",
   "language": "python",
   "name": "python3"
  },
  "language_info": {
   "codemirror_mode": {
    "name": "ipython",
    "version": 2
   },
   "file_extension": ".py",
   "mimetype": "text/x-python",
   "name": "python",
   "nbconvert_exporter": "python",
   "pygments_lexer": "ipython2",
   "version": "2.7.6"
  }
 },
 "nbformat": 4,
 "nbformat_minor": 5
}
