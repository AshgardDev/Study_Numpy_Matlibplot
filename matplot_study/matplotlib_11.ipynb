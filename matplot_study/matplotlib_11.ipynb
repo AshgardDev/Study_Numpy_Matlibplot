{
 "cells": [
  {
   "cell_type": "code",
   "id": "initial_id",
   "metadata": {
    "collapsed": true,
    "ExecuteTime": {
     "end_time": "2025-03-28T07:49:34.297136Z",
     "start_time": "2025-03-28T07:49:32.689298Z"
    }
   },
   "source": [
    "## 符号数组\n",
    "import matplotlib.pyplot as plt\n",
    "import numpy as np\n",
    "from numpy.matrixlib.defmatrix import matrix\n",
    "\n",
    "arr = np.array([[1, 2, -3], [4, 5, 0], [7, -8, 9]])"
   ],
   "outputs": [],
   "execution_count": 1
  },
  {
   "metadata": {
    "ExecuteTime": {
     "end_time": "2025-03-28T07:49:40.742782Z",
     "start_time": "2025-03-28T07:49:40.737980Z"
    }
   },
   "cell_type": "code",
   "source": [
    "b = np.sign(arr)\n",
    "## >0 1; =0 0; <0 -1"
   ],
   "id": "fae34a7114c8f410",
   "outputs": [
    {
     "data": {
      "text/plain": [
       "array([[ 1,  1, -1],\n",
       "       [ 1,  1,  0],\n",
       "       [ 1, -1,  1]])"
      ]
     },
     "execution_count": 2,
     "metadata": {},
     "output_type": "execute_result"
    }
   ],
   "execution_count": 2
  },
  {
   "metadata": {
    "ExecuteTime": {
     "end_time": "2025-03-28T07:59:05.200995Z",
     "start_time": "2025-03-28T07:59:05.189714Z"
    }
   },
   "cell_type": "code",
   "source": [
    "## OBV\n",
    "\n",
    "import matplotlib.pyplot as plt\n",
    "import numpy as np\n",
    "import pandas as pd\n",
    "\n",
    "n = 30\n",
    "# data = pd.DataFrame({\n",
    "#     'stock_type': stock_type,\n",
    "#     'stock_date': stock_date,\n",
    "# })\n",
    "\n",
    "\n",
    "## 构造股票数据\n",
    "open = np.array(np.random.normal(350, 20, size=n))\n",
    "close = np.array(np.random.normal(350, 20, size=n))\n",
    "low = []\n",
    "high = []\n",
    "for i in range(n):\n",
    "    min = open[i]\n",
    "    max = close[i]\n",
    "    if open[i] >= close[i]:\n",
    "        min = close[i]\n",
    "        max = open[i]\n",
    "    val1 = np.random.uniform(min-20, max+20, 1)\n",
    "    val2 = np.random.uniform(min, max+20, 1)\n",
    "    if val1 >= max:\n",
    "        val2 = np.random.uniform(min-20, max, 1)\n",
    "\n",
    "    if val1 < val2:\n",
    "        low.append(val1)\n",
    "        high.append(val2)\n",
    "    else:\n",
    "        low.append(val2)\n",
    "        high.append(val1)\n",
    "\n",
    "data = pd.DataFrame({\n",
    "    'type': np.array(['AAPL' for _ in range(n)]),\n",
    "    'date': np.array(pd.date_range(start='2018-01-01', periods=n, freq='B')),\n",
    "    'open': open,\n",
    "    'high': np.array(high).reshape(n),\n",
    "    'low': np.array(low).reshape(n),\n",
    "    'close': close,\n",
    "    'volume': np.array(np.random.randint(1000000, 3000000, size=n)),\n",
    "}, columns=['type', 'date', 'open', 'high', 'low', 'close', 'volume'])\n",
    "\n",
    "data.to_csv('stock_data.csv', index=False)"
   ],
   "id": "c032454998b47448",
   "outputs": [],
   "execution_count": 3
  },
  {
   "metadata": {
    "ExecuteTime": {
     "end_time": "2025-03-28T08:12:58.034641Z",
     "start_time": "2025-03-28T08:12:57.981925Z"
    }
   },
   "cell_type": "code",
   "source": [
    "close = np.array(data['close'])\n",
    "dates = np.array(data['date'])\n",
    "\n",
    "volumes = np.diff(data['close'])\n",
    "signs =np.sign(volumes)\n",
    "colors = np.zeros_like(signs, dtype='U5')\n",
    "colors[signs > 0] = 'green'\n",
    "colors[signs <= 0] = 'red'\n",
    "print(signs)\n",
    "print(type(dates[1:]), type(volumes))\n",
    "\n",
    "\n",
    "plt.figure()\n",
    "plt.bar(dates[1:], volumes, color=colors, label='obv')\n",
    "plt.xlabel('date')\n",
    "plt.ylabel('volume')\n",
    "plt.gcf().autofmt_xdate()\n",
    "plt.legend()\n",
    "plt.show()"
   ],
   "id": "5ef3e54c182675ef",
   "outputs": [
    {
     "name": "stdout",
     "output_type": "stream",
     "text": [
      "[ 1.  1.  1. -1.  1. -1.  1. -1. -1.  1. -1.  1. -1. -1.  1.  1. -1. -1.\n",
      "  1.  1. -1.  1. -1.  1. -1. -1.  1. -1.  1.]\n",
      "<class 'numpy.ndarray'> <class 'numpy.ndarray'>\n"
     ]
    },
    {
     "data": {
      "text/plain": [
       "<Figure size 640x480 with 1 Axes>"
      ],
      "image/png": "[encoded data removed]"
     },
     "metadata": {},
     "output_type": "display_data"
    }
   ],
   "execution_count": 17
  },
  {
   "metadata": {
    "ExecuteTime": {
     "end_time": "2025-03-28T08:36:24.170003Z",
     "start_time": "2025-03-28T08:36:24.166686Z"
    }
   },
   "cell_type": "code",
   "source": [
    "### 上面的给颜色赋值方法太麻烦了\n",
    "colors = np.piecewise(volumes, [volumes>0, volumes<=0], [1, -1])\n",
    "print(colors)\n",
    "colors2 = np.select([volumes>0, volumes<=0], ['green', 'red'], default='green')\n",
    "print(colors2)\n"
   ],
   "id": "23b9c5c4cc804d40",
   "outputs": [
    {
     "name": "stdout",
     "output_type": "stream",
     "text": [
      "[ 1.  1.  1. -1.  1. -1.  1. -1. -1.  1. -1.  1. -1. -1.  1.  1. -1. -1.\n",
      "  1.  1. -1.  1. -1.  1. -1. -1.  1. -1.  1.]\n",
      "['green' 'green' 'green' 'red' 'green' 'red' 'green' 'red' 'red' 'green'\n",
      " 'red' 'green' 'red' 'red' 'green' 'green' 'red' 'red' 'green' 'green'\n",
      " 'red' 'green' 'red' 'green' 'red' 'red' 'green' 'red' 'green']\n"
     ]
    }
   ],
   "execution_count": 33
  },
  {
   "metadata": {
    "ExecuteTime": {
     "end_time": "2025-03-28T08:34:26.546325Z",
     "start_time": "2025-03-28T08:34:26.541722Z"
    }
   },
   "cell_type": "code",
   "source": [
    "import numpy as np\n",
    "\n",
    "# 输入数组\n",
    "x = np.array([-5, 3, 15, 0, 12])\n",
    "\n",
    "# 定义条件\n",
    "condlist = [x < 0, (x >= 0) & (x < 10), x >= 10]\n",
    "\n",
    "# 定义对应的颜色函数（这里用 lambda 返回字符串）\n",
    "funclist = [\n",
    "    lambda x: x**2,    # x < 0\n",
    "    lambda x: x+10,  # 0 <= x < 10\n",
    "    lambda x: x**3    # x >= 10\n",
    "]\n",
    "\n",
    "# 使用 np.piecewise --funclist只能返回数值型,返回字符串类型,报错\n",
    "colors = np.piecewise(x, condlist, funclist)\n",
    "print(colors)\n",
    "\n",
    "# 使用np.select --default必须给值\n",
    "x = np.array([-5, 3, 15, 0, 12])\n",
    "condlist = [x < 0, (x >= 0) & (x < 10), x >= 10]\n",
    "choicelist = ['green', 'red', 'blue']\n",
    "colors2 = np.select(condlist, choicelist, default='blue')\n",
    "print(colors2)\n"
   ],
   "id": "2db36db7356b2a3f",
   "outputs": [
    {
     "name": "stdout",
     "output_type": "stream",
     "text": [
      "[  25   13 3375   10 1728]\n",
      "['green' 'red' 'blue' 'red' 'blue']\n"
     ]
    }
   ],
   "execution_count": 30
  },
  {
   "metadata": {
    "ExecuteTime": {
     "end_time": "2025-03-28T09:08:12.408228Z",
     "start_time": "2025-03-28T09:08:12.405237Z"
    }
   },
   "cell_type": "code",
   "source": [
    "### 矢量化函数\n",
    "import math as m\n",
    "def foo(x, y):\n",
    "    return m.sqrt(x**2 + y**2) ## m.sqrt是标量函数,只能接受标量,不能接受数组\n",
    "\n",
    "print(foo(1, 2))\n",
    "a=np.array([1,2,3])\n",
    "b=np.array([4,5,6])\n",
    "# print(foo(a, b)) ## 报错了\n",
    "\n",
    "foo_ver = np.vectorize(foo) ## 矢量化函数,就可以了,但本质只是循环调用,底层没有性能优化,和原生的np.sqrt比不了\n",
    "print(foo_ver(a,b))\n",
    "print(foo_ver(a, 2)) ## 可以数组和标量一起,这样会广播\n",
    "\n",
    "### 另一种矢量化方法\n",
    "foo_ff = np.frompyfunc(foo, 2, 1)\n",
    "print(foo_ff(a,b))\n",
    "print(foo_ff(a, 2))\n"
   ],
   "id": "1dedf6ca70e3924d",
   "outputs": [
    {
     "name": "stdout",
     "output_type": "stream",
     "text": [
      "2.23606797749979\n",
      "[4.12310563 5.38516481 6.70820393]\n",
      "[2.23606798 2.82842712 3.60555128]\n",
      "[4.123105625617661 5.385164807134504 6.708203932499369]\n",
      "[2.23606797749979 2.8284271247461903 3.605551275463989]\n"
     ]
    }
   ],
   "execution_count": 43
  },
  {
   "metadata": {},
   "cell_type": "code",
   "source": [
    "### 计算收益,只有正收益才显示\n",
    "\n",
    "## 比开盘价低于0.01买入,收盘价时卖出\n",
    "def profits(open_price, close_price, high_price, low_price):\n",
    "    buy_price = open_price * 0.99\n",
    "    if low_price <= buy_price <= high_price:\n",
    "        return (close_price - buy_price) / buy_price\n",
    "    return np.nan\n",
    "\n",
    "profits_ver = np.vectorize(profits)\n",
    "res = profits_ver(open, close, high, low)\n",
    "res_mask = np.isnan(res)\n",
    "print(res[~res_mask])"
   ],
   "id": "be7a13f386f52284",
   "outputs": [],
   "execution_count": null
  },
  {
   "metadata": {},
   "cell_type": "code",
   "source": [
    "### 矩阵 -- 知道就好了,它是np.ndarray的子类,具备矩阵的一些运算特效,同时拥有多位数组的操作特性\n",
    "### 比如矩阵乘法运算,和普通的数组乘法运算是不同的\n",
    "### 矩阵时行列相乘, 数组时对应位置相乘\n",
    "\n",
    "arr_a = np.array([[1, 2, 3], [4, 5, 6], [7, 8, 9]])\n",
    "arr_b = np.array([[1, 2, 3], [4, 5, 6], [7, 8, 9]])\n",
    "print(arr_a * arr_b)\n",
    "\n",
    "##copy默认只是True\n",
    "matrix_a = np.matrix(arr_a)\n",
    "matrix_b = np.matrix(arr_b, copy=True)\n",
    "print(matrix_a * matrix_b)\n",
    "\n",
    "matrix_c = np.matrix(arr_a, copy=False)\n",
    "matrix_c[0, 0] = 9999\n",
    "## matrix_c和arr_a都修改了,浅拷贝\n",
    "## matrix_a没有修改,深拷贝\n",
    "print(matrix_c, arr_a, matrix_a)\n",
    "\n",
    "## 默认浅拷贝\n",
    "matrix_d = np.asmatrix(matrix_b)\n",
    "matrix_d[0, 0] = 9999\n",
    "print(matrix_d, arr_b, matrix_b)\n",
    "\n",
    "matrix_e = np.asmatrix('1 2 3; 4 5 6; 7 8 9', dtype=np.float64)\n",
    "print(matrix_e)\n",
    "print(matrix_e.T)\n",
    "print(matrix_e * matrix_e)\n",
    "print(matrix_e.I) ## 逆矩阵\n"
   ],
   "id": "17016c5053da9cf2",
   "outputs": [],
   "execution_count": null
  },
  {
   "metadata": {},
   "cell_type": "code",
   "source": [
    "import numpy as np\n",
    "\n",
    "# 定义一个 2x2 矩阵\n",
    "A = np.matrix([[4, 7], [2, 6]])\n",
    "print(\"原始矩阵 A:\")\n",
    "print(A)\n",
    "\n",
    "# 获取逆矩阵\n",
    "A_inv = A.I\n",
    "print(\"逆矩阵 A⁻¹:\")\n",
    "print(A_inv)\n",
    "\n",
    "# 验证 A * A⁻¹ = I\n",
    "identity = A * A_inv\n",
    "print(\"A * A⁻¹:\")\n",
    "print(identity)\n",
    "\n",
    "## AB=E(E为单位矩阵,则称B为A的逆矩阵) --单位矩阵是一个方阵,且对角线是1,其他都为0\n",
    "x=np.asmatrix('1 2 3; 4 2 6; 7 8 5')\n",
    "print(x)\n",
    "print(x.I)\n",
    "print(x * x.I)"
   ],
   "id": "3388b39ecccde02e",
   "outputs": [],
   "execution_count": null
  },
  {
   "metadata": {},
   "cell_type": "code",
   "source": [
    "A=np.matrix([[3, 3.2], [3.5, 3.6]])\n",
    "B=np.matrix([[118.4], [135.2]])\n",
    "x = np.linalg.solve(A, B)\n",
    "print(x)"
   ],
   "id": "8801a16a80f829d1",
   "outputs": [],
   "execution_count": null
  },
  {
   "metadata": {
    "ExecuteTime": {
     "end_time": "2025-03-28T15:24:10.829416Z",
     "start_time": "2025-03-28T15:24:10.823324Z"
    }
   },
   "cell_type": "code",
   "source": [
    "arr = np.array([[1, 2, 3], [4, 5, 6], [7, 8, 9]])\n",
    "arr.clip(min=3, max=6)"
   ],
   "id": "676645027b6308a0",
   "outputs": [
    {
     "data": {
      "text/plain": [
       "array([[3, 3, 3],\n",
       "       [4, 5, 6],\n",
       "       [6, 6, 6]])"
      ]
     },
     "execution_count": 65,
     "metadata": {},
     "output_type": "execute_result"
    }
   ],
   "execution_count": 65
  },
  {
   "metadata": {
    "ExecuteTime": {
     "end_time": "2025-03-28T15:31:21.511377Z",
     "start_time": "2025-03-28T15:31:21.509192Z"
    }
   },
   "cell_type": "code",
   "source": [
    "a = np.arange(100)\n",
    "print(a.compress(a % 3 == 0))"
   ],
   "id": "e98db4a45175686e",
   "outputs": [
    {
     "name": "stdout",
     "output_type": "stream",
     "text": [
      "[ 0  3  6  9 12 15 18 21 24 27 30 33 36 39 42 45 48 51 54 57 60 63 66 69\n",
      " 72 75 78 81 84 87 90 93 96 99]\n"
     ]
    }
   ],
   "execution_count": 79
  },
  {
   "metadata": {
    "ExecuteTime": {
     "end_time": "2025-03-28T15:47:06.044949Z",
     "start_time": "2025-03-28T15:47:06.040115Z"
    }
   },
   "cell_type": "code",
   "source": [
    "a = np.arange(1,100)\n",
    "np.add(a, a)\n",
    "np.add.reduce(a) ##累加和\n",
    "np.add.accumulate(a) ## 累加过程\n",
    "np.add.outer([10, 20, 30], a) ## 外和\n",
    "np.outer([10, 20, 30], a)  ## 外积\n",
    "np.prod([1,2,3,4]) ## 累乘\n",
    "np.cumprod([1,2,3,4]) ## 累乘过程\n",
    "np.true_divide([1,2,3,4], [2,2,2,2]) ## 除法--列表对象就可以\n",
    "np.divide([1,2,3,4], [2,2,2,2]) ## 除法 -- 列表即可\n",
    "np.floor_divide([1,2,3,4], [2,2,2,2]) ## 地板取整 -- 列表即可\n",
    "np.ceil(np.array([1,2,3,4]) / np.array([2,2,2,2])) ## 天花板取整 --必须是数组对象\n",
    "np.trunc(np.array([1,2,3,4]) / np.array([2,2,2,2])) ##删除小数 --必须是数组对象\n",
    "np.round(np.array([1,2,3,4]) / np.array([2,2,2,2])) ##四舍五入--必须是数组对象"
   ],
   "id": "9bd1c53c7e4c013d",
   "outputs": [
    {
     "data": {
      "text/plain": [
       "array([0., 1., 2., 2.])"
      ]
     },
     "execution_count": 104,
     "metadata": {},
     "output_type": "execute_result"
    }
   ],
   "execution_count": 104
  },
  {
   "metadata": {
    "ExecuteTime": {
     "end_time": "2025-03-28T15:50:53.145342Z",
     "start_time": "2025-03-28T15:50:53.142573Z"
    }
   },
   "cell_type": "code",
   "source": "help(np.add)",
   "id": "3427f8c18d35dee9",
   "outputs": [
    {
     "name": "stdout",
     "output_type": "stream",
     "text": [
      "Help on ufunc:\n",
      "\n",
      "add = <ufunc 'add'>\n",
      "    add(x1, x2, /, out=None, *, where=True, casting='same_kind', order='K', dtype=None, subok=True[, signature])\n",
      "\n",
      "    Add arguments element-wise.\n",
      "\n",
      "    Parameters\n",
      "    ----------\n",
      "    x1, x2 : array_like\n",
      "        The arrays to be added.\n",
      "        If ``x1.shape != x2.shape``, they must be broadcastable to a common\n",
      "        shape (which becomes the shape of the output).\n",
      "    out : ndarray, None, or tuple of ndarray and None, optional\n",
      "        A location into which the result is stored. If provided, it must have\n",
      "        a shape that the inputs broadcast to. If not provided or None,\n",
      "        a freshly-allocated array is returned. A tuple (possible only as a\n",
      "        keyword argument) must have length equal to the number of outputs.\n",
      "    where : array_like, optional\n",
      "        This condition is broadcast over the input. At locations where the\n",
      "        condition is True, the `out` array will be set to the ufunc result.\n",
      "        Elsewhere, the `out` array will retain its original value.\n",
      "        Note that if an uninitialized `out` array is created via the default\n",
      "        ``out=None``, locations within it where the condition is False will\n",
      "        remain uninitialized.\n",
      "    **kwargs\n",
      "        For other keyword-only arguments, see the\n",
      "        :ref:`ufunc docs <ufuncs.kwargs>`.\n",
      "\n",
      "    Returns\n",
      "    -------\n",
      "    add : ndarray or scalar\n",
      "        The sum of `x1` and `x2`, element-wise.\n",
      "        This is a scalar if both `x1` and `x2` are scalars.\n",
      "\n",
      "    Notes\n",
      "    -----\n",
      "    Equivalent to `x1` + `x2` in terms of array broadcasting.\n",
      "\n",
      "    Examples\n",
      "    --------\n",
      "    >>> np.add(1.0, 4.0)\n",
      "    5.0\n",
      "    >>> x1 = np.arange(9.0).reshape((3, 3))\n",
      "    >>> x2 = np.arange(3.0)\n",
      "    >>> np.add(x1, x2)\n",
      "    array([[  0.,   2.,   4.],\n",
      "           [  3.,   5.,   7.],\n",
      "           [  6.,   8.,  10.]])\n",
      "\n",
      "    The ``+`` operator can be used as a shorthand for ``np.add`` on ndarrays.\n",
      "\n",
      "    >>> x1 = np.arange(9.0).reshape((3, 3))\n",
      "    >>> x2 = np.arange(3.0)\n",
      "    >>> x1 + x2\n",
      "    array([[ 0.,  2.,  4.],\n",
      "           [ 3.,  5.,  7.],\n",
      "           [ 6.,  8., 10.]])\n",
      "\n"
     ]
    }
   ],
   "execution_count": 105
  },
  {
   "metadata": {},
   "cell_type": "markdown",
   "source": "",
   "id": "1edd8713db1f4c30"
  },
  {
   "metadata": {
    "ExecuteTime": {
     "end_time": "2025-03-28T16:02:33.874077Z",
     "start_time": "2025-03-28T16:02:33.871044Z"
    }
   },
   "cell_type": "code",
   "source": [
    "### 位运算\n",
    "a = np.arange(1, 10)\n",
    "b = np.array([1, 2, 0, 0, 1, 0, 0, 1, 0])\n",
    "np.bitwise_or(a, b)\n",
    "np.bitwise_and(a, b)\n",
    "np.bitwise_xor(a, b)\n",
    "np.bitwise_count(a)\n",
    "np.bitwise_not(a)\n",
    "np.bitwise_invert(a)\n",
    "np.bitwise_left_shift(a, b)\n",
    "np.bitwise_right_shift(a, b)\n",
    "binary_strings = [bin(x)[2:].zfill(8) for x in a]\n",
    "print(binary_strings)"
   ],
   "id": "3e557676a2350a1d",
   "outputs": [
    {
     "name": "stdout",
     "output_type": "stream",
     "text": [
      "['00000001', '00000010', '00000011', '00000100', '00000101', '00000110', '00000111', '00001000', '00001001']\n"
     ]
    }
   ],
   "execution_count": 120
  },
  {
   "metadata": {
    "ExecuteTime": {
     "end_time": "2025-03-28T16:04:10.552180Z",
     "start_time": "2025-03-28T16:04:10.548430Z"
    }
   },
   "cell_type": "code",
   "source": [
    "a = np.arange(1, 10)\n",
    "np.where(a > 4) ## 返回的是符合条件元素的索引\n",
    "a[np.where(a > 4)]"
   ],
   "id": "59289763d1c2c94f",
   "outputs": [
    {
     "data": {
      "text/plain": [
       "array([5, 6, 7, 8, 9])"
      ]
     },
     "execution_count": 122,
     "metadata": {},
     "output_type": "execute_result"
    }
   ],
   "execution_count": 122
  },
  {
   "metadata": {},
   "cell_type": "code",
   "outputs": [],
   "execution_count": null,
   "source": "",
   "id": "ba3aba27ab8ff58a"
  },
  {
   "metadata": {},
   "cell_type": "code",
   "outputs": [],
   "execution_count": null,
   "source": "",
   "id": "47ca36882637ae47"
  },
  {
   "metadata": {},
   "cell_type": "markdown",
   "source": [
    "以下是对 `np.piecewise` 和 `np.select` 的使用区别的详细说明。我会用表格呈现参数对比、功能差异和示例结果，其他部分以普通文本表述。\n",
    "\n",
    "---\n",
    "\n",
    "### 函数概述\n",
    "\n",
    "**`np.piecewise`** 和 **`np.select`** 都是 NumPy 中用于根据条件对数组元素进行分段处理的函数，但它们的设计目标和使用场景有所不同。\n",
    "\n",
    "- **`np.piecewise`**：主要用于数值计算，通过条件选择不同的函数来计算返回值。\n",
    "- **`np.select`**：更通用，支持直接返回任意类型的值（如字符串、数值等），常用于数据分类或映射。\n",
    "\n",
    "---\n",
    "\n",
    "### 参数对比\n",
    "\n",
    "| 参数         | `np.piecewise`                     | `np.select`                        |\n",
    "|--------------|------------------------------------|------------------------------------|\n",
    "| 输入数组     | x（必需，用于条件和函数计算）       | 不直接需要（条件基于外部数组）      |\n",
    "| 条件列表     | condlist（布尔数组列表）           | condlist（布尔数组列表）           |\n",
    "| 值/函数列表  | funclist（函数列表，支持 callable）| choicelist（直接值列表）           |\n",
    "| 默认值       | 无明确默认参数，需在 funclist 中定义 | default（可选，默认值）            |\n",
    "| 额外参数     | *args, **kw（传递给 funclist 函数）| 无                                 |\n",
    "\n",
    "- **`np.piecewise`** 需要为每个条件提供一个函数，函数作用于输入数组 x。\n",
    "- **`np.select`** 直接指定返回值，不需要函数形式。\n",
    "\n",
    "---\n",
    "\n",
    "### 功能和使用区别\n",
    "\n",
    "| 方面         | `np.piecewise`                     | `np.select`                        |\n",
    "|--------------|------------------------------------|------------------------------------|\n",
    "| 返回值类型   | 数值类型（默认 float64）           | 任意类型（字符串、数值等）         |\n",
    "| 条件处理     | 第一个匹配条件决定返回值           | 第一个匹配条件决定返回值           |\n",
    "| 默认值       | 通过 funclist 最后一个函数指定      | 通过 default 参数指定              |\n",
    "| 灵活性       | 支持动态计算（函数依赖 x）         | 静态映射（值预定义）               |\n",
    "| 典型用途     | 数值分段函数（如数学建模）         | 数据分类或标签映射                 |\n",
    "\n",
    "- **`np.piecewise`** 适合需要根据输入值动态计算的场景，例如分段数学函数。\n",
    "- **`np.select`** 更适合直接映射固定值的场景，例如分类或颜色赋值。\n",
    "\n",
    "---\n",
    "\n",
    "### 示例 1：数值分段计算\n",
    "\n",
    "#### 需求\n",
    "\n",
    "根据 x 的值返回不同的计算结果：\n",
    "- x < 0：返回 x^2\n",
    "- 0 <= x < 10：返回 x + 1\n",
    "- x >= 10：返回 2*x\n",
    "\n",
    "#### 输入数据\n",
    "\n",
    "| 索引 | x 值  |\n",
    "|------|-------|\n",
    "| 0    | -5    |\n",
    "| 1    | 3     |\n",
    "| 2    | 15    |\n",
    "| 3    | 0     |\n",
    "| 4    | 12    |\n",
    "\n",
    "#### 使用 `np.piecewise`\n",
    "\n",
    "```python\n",
    "import numpy as np\n",
    "\n",
    "x = np.array([-5, 3, 15, 0, 12])\n",
    "condlist = [x < 0, (x >= 0) & (x < 10), x >= 10]\n",
    "funclist = [lambda x: x**2, lambda x: x + 1, lambda x: 2*x]\n",
    "\n",
    "result = np.piecewise(x, condlist, funclist)\n",
    "print(result)\n",
    "```\n",
    "\n",
    "#### 使用 `np.select`\n",
    "\n",
    "```python\n",
    "import numpy as np\n",
    "\n",
    "x = np.array([-5, 3, 15, 0, 12])\n",
    "condlist = [x < 0, (x >= 0) & (x < 10), x >= 10]\n",
    "choicelist = [x**2, x + 1, 2*x]\n",
    "\n",
    "result = np.select(condlist, choicelist)\n",
    "print(result)\n",
    "```\n",
    "\n",
    "#### 输出结果\n",
    "\n",
    "| 索引 | x 值 | 条件            | `np.piecewise` 输出 | `np.select` 输出 |\n",
    "|------|------|-----------------|---------------------|------------------|\n",
    "| 0    | -5   | x < 0           | 25                  | 25               |\n",
    "| 1    | 3    | 0 <= x < 10     | 4                   | 4                |\n",
    "| 2    | 15   | x >= 10         | 30                  | 30               |\n",
    "| 3    | 0    | 0 <= x < 10     | 1                   | 1                |\n",
    "| 4    | 12   | x >= 10         | 24                  | 24               |\n",
    "\n",
    "- **结果**：两者输出一致，因为这里是数值计算。\n",
    "\n",
    "---\n",
    "\n",
    "### 示例 2：返回颜色（字符串）\n",
    "\n",
    "#### 需求\n",
    "\n",
    "根据 x 的值返回颜色：\n",
    "- x < 0：返回 \"red\"\n",
    "- 0 <= x < 10：返回 \"green\"\n",
    "- x >= 10：返回 \"blue\"\n",
    "\n",
    "#### 使用 `np.piecewise`\n",
    "\n",
    "由于 `np.piecewise` 不支持直接返回字符串，需要数值映射：\n",
    "\n",
    "```python\n",
    "import numpy as np\n",
    "\n",
    "x = np.array([-5, 3, 15, 0, 12])\n",
    "condlist = [x < 0, (x >= 0) & (x < 10), x >= 10]\n",
    "funclist = [lambda x: 0, lambda x: 1, lambda x: 2]\n",
    "\n",
    "color_codes = np.piecewise(x, condlist, funclist)\n",
    "color_map = {0: \"red\", 1: \"green\", 2: \"blue\"}\n",
    "colors = np.array([color_map[code] for code in color_codes])\n",
    "print(colors)\n",
    "```\n",
    "\n",
    "#### 使用 `np.select`\n",
    "\n",
    "直接返回字符串：\n",
    "\n",
    "```python\n",
    "import numpy as np\n",
    "\n",
    "x = np.array([-5, 3, 15, 0, 12])\n",
    "condlist = [x < 0, (x >= 0) & (x < 10), x >= 10]\n",
    "choicelist = [\"red\", \"green\", \"blue\"]\n",
    "\n",
    "colors = np.select(condlist, choicelist, default=\"gray\")\n",
    "print(colors)\n",
    "```\n",
    "\n",
    "#### 输出结果\n",
    "\n",
    "| 索引 | x 值 | 条件            | `np.piecewise` + 映射 | `np.select` 输出 |\n",
    "|------|------|-----------------|-----------------------|------------------|\n",
    "| 0    | -5   | x < 0           | red                   | red              |\n",
    "| 1    | 3    | 0 <= x < 10     | green                 | green            |\n",
    "| 2    | 15   | x >= 10         | blue                  | blue             |\n",
    "| 3    | 0    | 0 <= x < 10     | green                 | green            |\n",
    "| 4    | 12   | x >= 10         | blue                  | blue             |\n",
    "\n",
    "- **`np.piecewise`** 需要额外映射步骤。\n",
    "- **`np.select`** 更简洁，直接返回字符串。\n",
    "\n",
    "---\n",
    "\n",
    "### 关键区别总结\n",
    "\n",
    "| 项目         | `np.piecewise`                     | `np.select`                        |\n",
    "|--------------|------------------------------------|------------------------------------|\n",
    "| 设计目标     | 分段数值函数计算                   | 通用条件选择                       |\n",
    "| 返回类型     | 限制为数值                         | 支持任意类型                       |\n",
    "| 使用复杂度   | 需要定义函数，较复杂               | 直接指定值，简洁                   |\n",
    "| 适用场景     | 数学建模、动态计算                 | 数据分类、静态映射                 |\n",
    "\n",
    "---\n",
    "\n",
    "### 结论\n",
    "\n",
    "- 如果你需要动态计算数值结果（如分段函数），用 `np.piecewise`。\n",
    "- 如果你需要直接映射固定值（尤其是非数值，如颜色），用 `np.select`。\n",
    "\n",
    "如果你有具体场景想进一步比较这两个函数，请告诉我，我可以提供更多示例！"
   ],
   "id": "d8994f079364db37"
  },
  {
   "metadata": {},
   "cell_type": "code",
   "outputs": [],
   "execution_count": null,
   "source": "",
   "id": "945cb1a44c93ac23"
  },
  {
   "metadata": {},
   "cell_type": "markdown",
   "source": [
    "以下是对 `np.vectorize`（矢量化函数）的说明，重点解答其底层是否进行了优化。我会用表格呈现关键信息（如参数、使用场景和性能对比），其他部分以普通文本表述。\n",
    "\n",
    "---\n",
    "\n",
    "### `np.vectorize` 的定义\n",
    "\n",
    "`np.vectorize` 是 NumPy 提供的一个工具函数，用于将普通的 Python 函数（通常是标量函数）转换为可以对 NumPy 数组进行元素级操作的矢量化函数。它的主要目的是提高代码的可读性和简洁性，而不是底层性能优化。\n",
    "\n",
    "函数签名：\n",
    "\n",
    "```python\n",
    "numpy.vectorize(pyfunc, otypes=None, doc=None, excluded=None, cache=False, signature=None)\n",
    "```\n",
    "\n",
    "---\n",
    "\n",
    "### 参数说明\n",
    "\n",
    "| 参数       | 说明                                      |\n",
    "|------------|-------------------------------------------|\n",
    "| pyfunc     | 要矢量化的 Python 函数                    |\n",
    "| otypes     | 输出数据类型（可选，如 'f' 表示 float）   |\n",
    "| excluded   | 不矢量化的参数集合                        |\n",
    "| cache      | 是否缓存第一次计算结果（默认 False）      |\n",
    "| signature  | 输入输出的广播签名（高级用法）            |\n",
    "\n",
    "- 返回值是一个矢量化函数，可以直接应用于 NumPy 数组。\n",
    "\n",
    "---\n",
    "\n",
    "### 使用示例\n",
    "\n",
    "假设有一个标量函数：\n",
    "\n",
    "```python\n",
    "def my_func(x):\n",
    "    return x**2 if x > 0 else -x\n",
    "```\n",
    "\n",
    "#### 非矢量化调用\n",
    "\n",
    "```python\n",
    "import numpy as np\n",
    "x = np.array([-2, -1, 0, 1, 2])\n",
    "result = np.array([my_func(xi) for xi in x])\n",
    "print(result)  # 输出: [2, 1, 0, 1, 4]\n",
    "```\n",
    "\n",
    "#### 使用 `np.vectorize`\n",
    "\n",
    "```python\n",
    "import numpy as np\n",
    "vfunc = np.vectorize(my_func)\n",
    "x = np.array([-2, -1, 0, 1, 2])\n",
    "result = vfunc(x)\n",
    "print(result)  # 输出: [2, 1, 0, 1, 4]\n",
    "```\n",
    "\n",
    "| 输入 x | 条件       | 输出结果 |\n",
    "|--------|------------|----------|\n",
    "| -2     | x <= 0     | 2        |\n",
    "| -1     | x <= 0     | 1        |\n",
    "| 0      | x <= 0     | 0        |\n",
    "| 1      | x > 0      | 1        |\n",
    "| 2      | x > 0      | 4        |\n",
    "\n",
    "---\n",
    "\n",
    "### 底层是否优化\n",
    "\n",
    "**关键问题**：`np.vectorize` 的底层是否进行了性能优化？\n",
    "\n",
    "答案是：**没有真正的底层优化**。`np.vectorize` 本质上是一个便利工具，而不是高性能的矢量化实现。\n",
    "\n",
    "#### 实现原理\n",
    "\n",
    "- `np.vectorize` 通过 Python 循环（而不是 C 级别的矢量化）对数组的每个元素应用输入函数。\n",
    "- 它将标量函数包装为一个可以广播的函数，但底层仍然依赖 Python 的循环机制，而不是像 NumPy 的内置函数（例如 `np.add` 或 `np.sin`）那样利用 C 实现的向量化运算。\n",
    "\n",
    "#### 性能对比\n",
    "\n",
    "| 方法             | 实现方式                  | 性能表现          |\n",
    "|------------------|---------------------------|-------------------|\n",
    "| 原生循环         | Python for 循环           | 慢（纯 Python）   |\n",
    "| `np.vectorize`   | 包装后的 Python 循环      | 稍快于原生循环    |\n",
    "| NumPy 内置函数   | C 级向量化运算            | 非常快            |\n",
    "\n",
    "##### 测试代码\n",
    "\n",
    "```python\n",
    "import numpy as np\n",
    "import time\n",
    "\n",
    "x = np.random.rand(1000000)\n",
    "\n",
    "# 原生循环\n",
    "def loop_method(x):\n",
    "    return np.array([x_i**2 if x_i > 0 else -x_i for x_i in x])\n",
    "\n",
    "# np.vectorize\n",
    "vfunc = np.vectorize(lambda x: x**2 if x > 0 else -x)\n",
    "def vectorize_method(x):\n",
    "    return vfunc(x)\n",
    "\n",
    "# NumPy 内置\n",
    "def numpy_method(x):\n",
    "    return np.where(x > 0, x**2, -x)\n",
    "\n",
    "# 计时\n",
    "start = time.time()\n",
    "loop_result = loop_method(x)\n",
    "print(\"Loop time:\", time.time() - start)\n",
    "\n",
    "start = time.time()\n",
    "vectorize_result = vectorize_method(x)\n",
    "print(\"Vectorize time:\", time.time() - start)\n",
    "\n",
    "start = time.time()\n",
    "numpy_result = numpy_method(x)\n",
    "print(\"NumPy time:\", time.time() - start)\n",
    "```\n",
    "\n",
    "##### 示例结果（大致时间，取决于硬件）\n",
    "\n",
    "| 方法          | 执行时间（秒） |\n",
    "|---------------|----------------|\n",
    "| 原生循环      | ~0.5           |\n",
    "| `np.vectorize`| ~0.4           |\n",
    "| NumPy 内置    | ~0.01          |\n",
    "\n",
    "- **`np.vectorize`** 比原生 Python 循环略快，但远不如 NumPy 内置函数。\n",
    "- 原因是它仍然在 Python 层执行循环，而不是利用底层 C 的向量化优势。\n",
    "\n",
    "---\n",
    "\n",
    "### 是否有优化\n",
    "\n",
    "| 方面         | 是否优化                            | 说明                                      |\n",
    "|--------------|-------------------------------------|-------------------------------------------|\n",
    "| 循环执行     | 否                                  | 底层仍是 Python 循环，未使用 C 向量化     |\n",
    "| 类型推断     | 是（有限）                          | 可通过 otypes 避免部分类型检查            |\n",
    "| 缓存         | 是（可选）                          | cache=True 可缓存第一次调用的结果         |\n",
    "| 与 C 集成    | 否                                  | 不像内置函数那样直接调用 C 实现           |\n",
    "\n",
    "- **结论**：`np.vectorize` 的“优化”仅限于 Python 层的高效循环管理和广播支持，没有真正的底层 C 级优化。它更像是一个语法糖，而不是性能工具。\n",
    "\n",
    "---\n",
    "\n",
    "### 适用场景\n",
    "\n",
    "| 场景             | 是否推荐使用 `np.vectorize` | 替代方案                |\n",
    "|------------------|-----------------------------|-------------------------|\n",
    "| 简单函数快速开发 | 是                          | 无需替代                |\n",
    "| 高性能计算       | 否                          | 使用 NumPy 内置或 numba |\n",
    "| 非数值计算       | 是                          | np.select 或列表推导    |\n",
    "\n",
    "- **推荐**：如果性能不是主要考虑因素，`np.vectorize` 提供简洁的代码；否则，优先使用 NumPy 内置函数或 `numba` 进行真正的优化。\n",
    "\n",
    "---\n",
    "\n",
    "### 总结\n",
    "\n",
    "| 项目         | 内容                                      |\n",
    "|--------------|-------------------------------------------|\n",
    "| 定义         | 将标量函数转换为矢量化函数                |\n",
    "| 底层优化     | 无真正的 C 级优化，仅 Python 层改进       |\n",
    "| 性能         | 优于原生循环，远逊于内置向量化函数        |\n",
    "| 使用建议     | 适合快速开发，不适合高性能需求            |\n",
    "\n",
    "如果你需要更高效的实现（例如结合 `numba`），或者有具体函数想优化，请告诉我，我可以进一步协助！"
   ],
   "id": "51bbe26c7f82aef8"
  },
  {
   "metadata": {},
   "cell_type": "code",
   "outputs": [],
   "execution_count": null,
   "source": "",
   "id": "7b6ced140f7f2f25"
  }
 ],
 "metadata": {
  "kernelspec": {
   "display_name": "Python 3",
   "language": "python",
   "name": "python3"
  },
  "language_info": {
   "codemirror_mode": {
    "name": "ipython",
    "version": 2
   },
   "file_extension": ".py",
   "mimetype": "text/x-python",
   "name": "python",
   "nbconvert_exporter": "python",
   "pygments_lexer": "ipython2",
   "version": "2.7.6"
  }
 },
 "nbformat": 4,
 "nbformat_minor": 5
}
