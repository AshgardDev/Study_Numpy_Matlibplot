{
 "cells": [
  {
   "cell_type": "code",
   "id": "initial_id",
   "metadata": {
    "collapsed": true,
    "ExecuteTime": {
     "end_time": "2025-03-24T14:43:05.983972Z",
     "start_time": "2025-03-24T14:43:05.975629Z"
    }
   },
   "source": [
    "import matplotlib.pyplot as plt\n",
    "import numpy as np\n",
    "import pandas as pd\n",
    "\n",
    "n = 30\n",
    "# data = pd.DataFrame({\n",
    "#     'stock_type': stock_type,\n",
    "#     'stock_date': stock_date,\n",
    "# })\n",
    "\n",
    "\n",
    "## 构造股票数据\n",
    "open = np.array(np.random.normal(350, 20, size=n))\n",
    "close = np.array(np.random.normal(350, 20, size=n))\n",
    "low = []\n",
    "high = []\n",
    "for i in range(n):\n",
    "    min = open[i]\n",
    "    max = close[i]\n",
    "    if open[i] >= close[i]:\n",
    "        min = close[i]\n",
    "        max = open[i]\n",
    "    val1 = np.random.uniform(min-20, max+20, 1)\n",
    "    if val1 < min:\n",
    "        val2 = np.random.uniform(min, max+20, 1)\n",
    "    if val1 > max:\n",
    "        val2 = np.random.uniform(min-20, max, 1)\n",
    "\n",
    "    if val1 < val2:\n",
    "        low.append(val1)\n",
    "        high.append(val2)\n",
    "    else:\n",
    "        low.append(val2)\n",
    "        high.append(val1)\n",
    "\n",
    "data = pd.DataFrame({\n",
    "    'type': np.array(['AAPL' for _ in range(n)]),\n",
    "    'date': np.array(pd.date_range(start='2018-01-01', periods=n, freq='B')),\n",
    "    'open': open,\n",
    "    'high': np.array(high).reshape(n),\n",
    "    'low': np.array(low).reshape(n),\n",
    "    'close': close,\n",
    "    'volume': np.array(np.random.randint(1000000, 3000000, size=n)),\n",
    "}, columns=['type', 'date', 'open', 'high', 'low', 'close', 'volume'])\n",
    "\n",
    "data.to_csv('stock_data.csv', index=False)"
   ],
   "outputs": [],
   "execution_count": 168
  },
  {
   "metadata": {
    "ExecuteTime": {
     "end_time": "2025-03-24T14:43:07.302291Z",
     "start_time": "2025-03-24T14:43:07.296948Z"
    }
   },
   "cell_type": "code",
   "source": [
    "data = pd.read_csv('stock_data.csv')\n",
    "print(data.head())"
   ],
   "id": "df039289f15f427e",
   "outputs": [
    {
     "name": "stdout",
     "output_type": "stream",
     "text": [
      "   type        date        open        high         low       close   volume\n",
      "0  AAPL  2018-01-01  341.009617  334.328860  309.837583  304.906745  1802616\n",
      "1  AAPL  2018-01-02  327.598604  363.315418  309.837583  366.005952  1191695\n",
      "2  AAPL  2018-01-03  365.501390  355.729276  309.837583  334.980083  1902784\n",
      "3  AAPL  2018-01-04  357.623767  368.415228  332.834291  345.884397  2669704\n",
      "4  AAPL  2018-01-05  340.280014  361.871814  329.180072  346.640337  1926207\n"
     ]
    }
   ],
   "execution_count": 169
  },
  {
   "metadata": {
    "ExecuteTime": {
     "end_time": "2025-03-24T14:43:08.318661Z",
     "start_time": "2025-03-24T14:43:08.313937Z"
    }
   },
   "cell_type": "code",
   "source": [
    "stock_data = np.loadtxt('stock_data.csv',\n",
    "            delimiter = ',',\n",
    "            # dtype = \"U4, M8[D], f4, f4, f4, f4, i8\",\n",
    "            dtype = {\n",
    "                'names':['type', 'date', 'open', 'high', 'low', 'close', 'volume'],\n",
    "                'formats':['U4', 'M8[D]', 'float32', 'float32', 'float32', 'float32', 'int64']\n",
    "            },\n",
    "            usecols=[0,1,2,3,4,5,6], ##使用的列,必须和names的列匹配\n",
    "            unpack=False, ## 是否拆包,就是降维\n",
    "            ## 转换器, 列位置: (x)->{}\n",
    "            converters={\n",
    "                2: lambda v: np.round(np.float32(v), decimals=2),\n",
    "                3: lambda v: np.round(np.float32(v), decimals=2),\n",
    "                4: lambda v: np.round(np.float32(v), decimals=2),\n",
    "                5: lambda v: np.round(np.float32(v), decimals=2),\n",
    "            },\n",
    "            skiprows=1,\n",
    "            encoding='utf8'\n",
    "\n",
    ")\n",
    "\n",
    "print(stock_data.shape)"
   ],
   "id": "b3502e35143bdf9e",
   "outputs": [
    {
     "name": "stdout",
     "output_type": "stream",
     "text": [
      "(30,)\n"
     ]
    }
   ],
   "execution_count": 170
  },
  {
   "metadata": {
    "ExecuteTime": {
     "end_time": "2025-03-24T14:43:09.547516Z",
     "start_time": "2025-03-24T14:43:09.468181Z"
    }
   },
   "cell_type": "code",
   "source": [
    "### 画折线图\n",
    "import matplotlib.pyplot as plt\n",
    "import matplotlib.dates as md\n",
    "\n",
    "plt.figure(figsize=(10,5), dpi=80)\n",
    "plt.title('Stock Price')\n",
    "\n",
    "plt.plot(data['date'], data['open'], label='open')\n",
    "plt.plot(data['date'], data['close'], label='close')\n",
    "\n",
    "plt.xlabel('Date')\n",
    "plt.ylabel('Price')\n",
    "\n",
    "ax = plt.gca()\n",
    "## 日期刻度使用\n",
    "## https://matplotlib.org/stable/gallery/ticks/date_demo_convert.html\n",
    "## https://matplotlib.org/stable/gallery/ticks/date_formatters_locators.html\n",
    "ax.xaxis.set_major_locator(md.WeekdayLocator(byweekday=md.MONDAY.weekday))\n",
    "ax.xaxis.set_major_formatter(md.DateFormatter('%m-%d'))\n",
    "ax.xaxis.set_minor_locator(md.DayLocator())\n",
    "###\n",
    "# ax.xaxis.set_major_locator(plt.MultipleLocator(7))\n",
    "# ax.xaxis.set_minor_locator(plt.MultipleLocator(1))\n",
    "\n",
    "plt.tick_params(labelsize=8)\n",
    "plt.grid(linestyle=':', linewidth=0.5)\n",
    "plt.legend()\n",
    "plt.tight_layout()\n",
    "## 可以合理显示日期格式,防止日期格式过于拥挤,会自动调节角度\n",
    "plt.gcf().autofmt_xdate()\n",
    "plt.show()"
   ],
   "id": "4a4457b4b2d7a9d5",
   "outputs": [
    {
     "data": {
      "text/plain": [
       "<Figure size 800x400 with 1 Axes>"
      ],
      "image/png": "[encoded data removed]"
     },
     "metadata": {},
     "output_type": "display_data"
    }
   ],
   "execution_count": 171
  },
  {
   "metadata": {
    "ExecuteTime": {
     "end_time": "2025-03-24T15:12:08.050566Z",
     "start_time": "2025-03-24T15:12:07.952375Z"
    }
   },
   "cell_type": "code",
   "source": [
    "### 画折线图\n",
    "import matplotlib.pyplot as plt\n",
    "import matplotlib.dates as md\n",
    "\n",
    "plt.figure(figsize=(10,5), dpi=80)\n",
    "plt.title('Stock Price')\n",
    "\n",
    "tmp = data['open'] > data['close']\n",
    "color_arr = np.zeros_like(data['open'], dtype='U5')\n",
    "color_arr[tmp] = 'green'\n",
    "color_arr[~tmp] = 'white'\n",
    "\n",
    "edgecolor_arr = np.zeros_like(data['open'], dtype='U5')\n",
    "edgecolor_arr[tmp] = 'green'\n",
    "edgecolor_arr[~tmp] = 'red'\n",
    "\n",
    "plt.bar(data['date'],\n",
    "        height=data['close'] - data['open'],\n",
    "        width=0.8,\n",
    "        bottom=data['open'],\n",
    "        label='k line',\n",
    "        color=color_arr,\n",
    "        edgecolor=edgecolor_arr,\n",
    "        zorder=10,\n",
    "        )\n",
    "\n",
    "plt.vlines(data['date'],\n",
    "           ymin= data['low'],\n",
    "           ymax= data['high'],\n",
    "           color=edgecolor_arr,\n",
    "           )\n",
    "\n",
    "mean = np.mean(data['close'])\n",
    "print(mean)\n",
    "plt.hlines(mean, xmin=data['date'][0], xmax=data['date'][n-1],\n",
    "           color='orange', linestyle='--', zorder=10,\n",
    "           label='mean volume')\n",
    "wmap = np.average(data.close, weights=data.volume)\n",
    "print(wmap)\n",
    "plt.hlines(wmap, xmin=data['date'][0], xmax=data['date'][n-1],\n",
    "           color='red', linestyle='--', zorder=10,\n",
    "           label='wmap volume'\n",
    "           )\n",
    "\n",
    "\n",
    "plt.xlabel('Date')\n",
    "plt.ylabel('Price')\n",
    "\n",
    "ax = plt.gca()\n",
    "## 日期刻度使用\n",
    "## https://matplotlib.org/stable/gallery/ticks/date_demo_convert.html\n",
    "## https://matplotlib.org/stable/gallery/ticks/date_formatters_locators.html\n",
    "ax.xaxis.set_major_locator(md.WeekdayLocator(byweekday=md.MONDAY.weekday))\n",
    "ax.xaxis.set_major_formatter(md.DateFormatter('%m-%d'))\n",
    "ax.xaxis.set_minor_locator(md.DayLocator())\n",
    "\n",
    "plt.tick_params(labelsize=8)\n",
    "plt.grid(linestyle=':', linewidth=0.5)\n",
    "plt.legend()\n",
    "plt.tight_layout()\n",
    "## 可以合理显示日期格式,防止日期格式过于拥挤,会自动调节角度\n",
    "plt.gcf().autofmt_xdate()\n",
    "plt.show()\n"
   ],
   "id": "b1f060a95bf45e55",
   "outputs": [
    {
     "name": "stdout",
     "output_type": "stream",
     "text": [
      "343.93151418740587\n",
      "344.0387086846302\n"
     ]
    },
    {
     "data": {
      "text/plain": [
       "<Figure size 800x400 with 1 Axes>"
      ],
      "image/png": "[encoded data removed]"
     },
     "metadata": {},
     "output_type": "display_data"
    }
   ],
   "execution_count": 201
  },
  {
   "metadata": {
    "ExecuteTime": {
     "end_time": "2025-03-24T10:49:52.378975Z",
     "start_time": "2025-03-24T10:49:52.342866Z"
    }
   },
   "cell_type": "code",
   "source": [
    "plt.figure(figsize=(10,5), dpi=80)\n",
    "plt.bar([1,2,3,4,5], height=[6,7,2,4,5], width=0.8, bottom=[-3,3,-1,0,2], label='ok')\n",
    "\n",
    "ax = plt.gca()\n",
    "ax.yaxis.set_major_locator(plt.MultipleLocator(1))\n",
    "ax.yaxis.set_minor_locator(plt.MultipleLocator(1))\n",
    "plt.grid(linestyle=':', linewidth=0.5)\n",
    "plt.show()\n"
   ],
   "id": "e9582c62dd0eebf5",
   "outputs": [
    {
     "data": {
      "text/plain": [
       "<Figure size 800x400 with 1 Axes>"
      ],
      "image/png": "[encoded data removed]"
     },
     "metadata": {},
     "output_type": "display_data"
    }
   ],
   "execution_count": 106
  },
  {
   "metadata": {
    "ExecuteTime": {
     "end_time": "2025-03-24T15:20:41.758635Z",
     "start_time": "2025-03-24T15:20:41.753911Z"
    }
   },
   "cell_type": "code",
   "source": [
    "### numpy常用函数\n",
    "data = np.array([1,2,3,4,5])\n",
    "data.mean(), data.std(), data.max(), data.min(), data.argmax(), data.argmin()\n",
    "data2 = np.array([4,1,5,8,0])\n",
    "np.maximum(data, data2)\n",
    "np.minimum(data, data2)\n",
    "np.median(stock_data['close'])\n",
    "np.sort(stock_data['close'])"
   ],
   "id": "ceaeb6573f29082a",
   "outputs": [
    {
     "data": {
      "text/plain": [
       "array([278.95, 304.91, 316.67, 326.58, 328.13, 330.42, 331.12, 331.49,\n",
       "       333.84, 334.98, 339.02, 341.75, 341.86, 342.04, 344.39, 345.01,\n",
       "       345.88, 346.64, 348.43, 349.16, 351.1 , 351.98, 358.7 , 359.3 ,\n",
       "       364.79, 366.01, 366.33, 366.65, 382.37, 389.45], dtype=float32)"
      ]
     },
     "execution_count": 210,
     "metadata": {},
     "output_type": "execute_result"
    }
   ],
   "execution_count": 210
  },
  {
   "metadata": {},
   "cell_type": "markdown",
   "source": [
    "### 加权平均\n",
    "S=[$s_1,s_2,s_3,...,s_n$]\n",
    "\n",
    "W=[$w_1,w_2,w_3,...,w_n$]\n",
    "\n",
    "np.average(s, weights=w)\n",
    "\n",
    "加权平均值 = $\\frac{s_1*w_1 + s_2*w_2 + s_3*w_3 + ... + s_n*w_n}{w_1 + w_2 + w_3 + ... + w_n}$\n",
    "\n",
    "当W都为1时,就是算术平均"
   ],
   "id": "ec6c18dd90b5bc7a"
  },
  {
   "metadata": {
    "ExecuteTime": {
     "end_time": "2025-03-24T15:08:10.465566Z",
     "start_time": "2025-03-24T15:08:10.462082Z"
    }
   },
   "cell_type": "code",
   "source": [
    "close_p = np.reshape(data.close, (1, -1))\n",
    "volume_total = np.reshape(data.volume, (1, -1))\n",
    "\n",
    "wmap = np.average(data.close, weights=data.volume)\n",
    "wmap, np.mean(data.close)"
   ],
   "id": "535b67ac901f3caa",
   "outputs": [
    {
     "data": {
      "text/plain": [
       "(np.float64(344.0387086846302), np.float64(343.93151418740587))"
      ]
     },
     "execution_count": 198,
     "metadata": {},
     "output_type": "execute_result"
    }
   ],
   "execution_count": 198
  },
  {
   "metadata": {},
   "cell_type": "code",
   "outputs": [],
   "execution_count": null,
   "source": "###时间加权平均,就是w的权重系数,换成时间的权重系数,时间越玩,权重越大",
   "id": "7a3adc57383674fa"
  },
  {
   "metadata": {},
   "cell_type": "markdown",
   "source": [
    "样本: S = [$s_1, s_2, ..., s_n$]\n",
    "\n",
    "均值: M = $\\frac{s_1 + s_2 + ... + s_n}{n}$\n",
    "\n",
    "离差: D = [$d_1, d_2, ..., d_n], d_i=s_i-m$\n",
    "\n",
    "方差: Q = [$q_1, q_2, ..., q_n], q_i=d_i^2$\n",
    "\n",
    "总体方差: V = $\\frac{q_1 + q_2 + ... + q_n}{n}$\n",
    "\n",
    "总体标准差: s = $\\sqrt(v)$\n",
    "\n",
    "样本方差: v' = $\\frac{q_1 + q_2 + ... + q_n}{n-1}$\n",
    "\n",
    "样本标准差: s' = $\\sqrt(v')$"
   ],
   "id": "1a4690246dff726c"
  },
  {
   "metadata": {
    "ExecuteTime": {
     "end_time": "2025-03-24T15:37:12.700016Z",
     "start_time": "2025-03-24T15:37:12.697037Z"
    }
   },
   "cell_type": "code",
   "source": [
    "np.std(stock_data['close']) ## 总体标准差 s\n",
    "np.std(stock_data['close'], ddof=1) ## 样本标准差 s'"
   ],
   "id": "392550fea67823cb",
   "outputs": [
    {
     "data": {
      "text/plain": [
       "np.float32(21.877232)"
      ]
     },
     "execution_count": 214,
     "metadata": {},
     "output_type": "execute_result"
    }
   ],
   "execution_count": 214
  },
  {
   "metadata": {},
   "cell_type": "markdown",
   "source": [
    "\n",
    "### `np.loadtxt` 的使用方法\n",
    "`np.loadtxt` 是 NumPy 中用于从文本文件（如 `.txt` 或 `.csv`）加载数据的函数，适用于读取结构化的数值数据。以下是它的用法和参数说明：\n",
    "\n",
    "#### 函数签名\n",
    "```python\n",
    "numpy.loadtxt(fname, dtype=<class 'float'>, comments='#', delimiter=None, converters=None, skiprows=0, usecols=None, unpack=False, ndmin=0, encoding='bytes', max_rows=None)\n",
    "```\n",
    "\n",
    "#### 参数说明\n",
    "1. **`fname`**（必需）：文件路径或文件对象，例如 `'stock_data.csv'`。\n",
    "2. **`dtype`**（可选，默认 `float`）：指定返回数组的数据类型，可以是单一类型（如 `int`）或结构化类型（如 `{'names': [...], 'formats': [...]}`）。\n",
    "3. **`delimiter`**（可选，默认 `None`）：列分隔符，例如 `','` 用于 CSV 文件。\n",
    "4. **`converters`**（可选，默认 `None`）：字典，指定列的自定义转换函数，例如 `{3: lambda v: float(v)}`。\n",
    "5. **`skiprows`**（可选，默认 `0`）：跳过文件开头的行数，例如 `skiprows=1` 跳过标题行。\n",
    "6. **`usecols`**（可选，默认 `None`）：指定读取的列，例如 `usecols=(0, 2)`。\n",
    "7. **`unpack`**（可选，默认 `False`）：若为 `True`，按列返回单独数组。\n",
    "8. **`comments`**（可选，默认 `'#'`）：忽略以指定字符开头的注释行。\n",
    "9. **`encoding`**（可选，默认 `'bytes'`）：文件编码，例如 `'utf-8'`。\n",
    "10. **`max_rows`**（可选，默认 `None`）：读取的最大行数。\n",
    "\n",
    "#### 返回值\n",
    "返回一个 NumPy 数组（`ndarray`），形状和类型由文件内容和参数决定。\n",
    "\n",
    "---\n",
    "\n",
    "### 基本用法示例\n",
    "#### 示例 1：简单文本文件\n",
    "文件 `data.txt`：\n",
    "```\n",
    "1 2 3\n",
    "4 5 6\n",
    "```\n",
    "代码：\n",
    "```python\n",
    "import numpy as np\n",
    "data = np.loadtxt('data.txt')\n",
    "print(data)\n",
    "```\n",
    "输出：\n",
    "```\n",
    "[[1. 2. 3.]\n",
    " [4. 5. 6.]]\n",
    "```\n",
    "\n",
    "#### 示例 2：带标题的 CSV 文件\n",
    "文件 `data.csv`：\n",
    "```\n",
    "x,y,z\n",
    "1,2,3\n",
    "4,5,6\n",
    "```\n",
    "代码：\n",
    "```python\n",
    "data = np.loadtxt('data.csv', delimiter=',', skiprows=1)\n",
    "print(data)\n",
    "```\n",
    "输出：\n",
    "```\n",
    "[[1. 2. 3.]\n",
    " [4. 5. 6.]]\n",
    "```\n",
    "\n",
    "#### 示例 3：使用 `converters`\n",
    "文件 `data_with_units.txt`：\n",
    "```\n",
    "1 2.5m 3\n",
    "4 5.6m 6\n",
    "```\n",
    "代码：\n",
    "```python\n",
    "data = np.loadtxt('data_with_units.txt', converters={1: lambda s: float(s.rstrip('m'))})\n",
    "print(data)\n",
    "```\n",
    "输出：\n",
    "```\n",
    "[[1.  2.5 3. ]\n",
    " [4.  5.6 6. ]]\n",
    "```\n"
   ],
   "id": "d379af771e5eaaa2"
  },
  {
   "metadata": {},
   "cell_type": "code",
   "outputs": [],
   "execution_count": null,
   "source": "",
   "id": "3f9c83c8221bb8d5"
  },
  {
   "metadata": {},
   "cell_type": "markdown",
   "source": [
    "`pd.date_range` 是 Pandas 中用于生成日期范围的强大函数，常用于时间序列分析。它可以生成连续的日期序列，并支持多种参数来控制频率、起止时间等。你的问题还包括如何跳过周末，我会详细讲解 `pd.date_range` 的参数用法，并提供跳过周末的具体方法。\n",
    "\n",
    "---\n",
    "\n",
    "### `pd.date_range` 函数签名\n",
    "```python\n",
    "pandas.date_range(start=None, end=None, periods=None, freq=None, tz=None, normalize=False, name=None, inclusive='both', **kwargs)\n",
    "```\n",
    "\n",
    "---\n",
    "\n",
    "### 核心参数说明\n",
    "1. **`start`（可选）**\n",
    "   - 类型：字符串、日期时间对象\n",
    "   - 描述：日期范围的起始时间。\n",
    "   - 示例：`'2023-01-01'` 或 `pd.Timestamp('2023-01-01')`。\n",
    "\n",
    "2. **`end`（可选）**\n",
    "   - 类型：字符串、日期时间对象\n",
    "   - 描述：日期范围的结束时间。\n",
    "   - 示例：`'2023-12-31'`。\n",
    "\n",
    "3. **`periods`（可选）**\n",
    "   - 类型：整数\n",
    "   - 描述：生成的时间点数量。如果指定了 `periods`，则 `end` 可省略。\n",
    "   - 示例：`periods=10`（生成 10 个时间点）。\n",
    "\n",
    "4. **`freq`（可选，默认 `'D'`）**\n",
    "   - 类型：字符串或 `DateOffset` 对象\n",
    "   - 描述：时间间隔（频率），决定每个时间点之间的步长。\n",
    "   - 常用值：\n",
    "     - `'D'`：每天\n",
    "     - `'H'`：每小时\n",
    "     - `'M'`：每月末\n",
    "     - `'B'`：每个工作日（跳过周末）\n",
    "     - `'W'`：每周（默认周日）\n",
    "     - `'W-MON'`：每周一\n",
    "   - 示例：`freq='B'`（工作日）。\n",
    "\n",
    "5. **`tz`（可选）**\n",
    "   - 类型：字符串或 `pytz.timezone`\n",
    "   - 描述：时区，例如 `'UTC'`、`'Asia/Shanghai'`。\n",
    "   - 示例：`tz='America/New_York'`。\n",
    "\n",
    "6. **`normalize`（可选，默认 `False`）**\n",
    "   - 类型：布尔值\n",
    "   - 描述：是否将 `start` 和 `end` 标准化为午夜 00:00。\n",
    "   - 示例：`normalize=True`。\n",
    "\n",
    "7. **`name`（可选）**\n",
    "   - 类型：字符串\n",
    "   - 描述：生成的时间索引的名称。\n",
    "   - 示例：`name='dates'`。\n",
    "\n",
    "8. **`inclusive`（可选，默认 `'both'`）**\n",
    "   - 类型：字符串（`'both'`、`'neither'`、`'left'`、`'right'`）\n",
    "   - 描述：控制是否包含边界。\n",
    "   - 示例：`inclusive='left'`（只包含起始点，不包含结束点）。\n",
    "\n",
    "---\n",
    "\n",
    "### 基本用法示例\n",
    "\n",
    "#### 示例 1：生成每日日期\n",
    "```python\n",
    "import pandas as pd\n",
    "\n",
    "dates = pd.date_range(start='2023-01-01', end='2023-01-10', freq='D')\n",
    "print(dates)\n",
    "```\n",
    "\n",
    "**输出**：\n",
    "```\n",
    "DatetimeIndex(['2023-01-01', '2023-01-02', '2023-01-03', '2023-01-04',\n",
    "               '2023-01-05', '2023-01-06', '2023-01-07', '2023-01-08',\n",
    "               '2023-01-09', '2023-01-10'],\n",
    "              dtype='datetime64[ns]', freq='D')\n",
    "```\n",
    "\n",
    "#### 示例 2：指定周期数\n",
    "```python\n",
    "dates = pd.date_range(start='2023-01-01', periods=5, freq='D')\n",
    "print(dates)\n",
    "```\n",
    "\n",
    "**输出**：\n",
    "```\n",
    "DatetimeIndex(['2023-01-01', '2023-01-02', '2023-01-03', '2023-01-04',\n",
    "               '2023-01-05'],\n",
    "              dtype='datetime64[ns]', freq='D')\n",
    "```\n",
    "\n",
    "#### 示例 3：每小时频率\n",
    "```python\n",
    "dates = pd.date_range(start='2023-01-01 09:00', end='2023-01-01 12:00', freq='H')\n",
    "print(dates)\n",
    "```\n",
    "\n",
    "**输出**：\n",
    "```\n",
    "DatetimeIndex(['2023-01-01 09:00:00', '2023-01-01 10:00:00',\n",
    "               '2023-01-01 11:00:00', '2023-01-01 12:00:00'],\n",
    "              dtype='datetime64[ns]', freq='H')\n",
    "```\n",
    "\n",
    "---\n",
    "\n",
    "### 如何跳过周末\n",
    "Pandas 提供了内置的工作日频率 `'B'`，可以直接跳过周末（周六和周日）。此外，还可以通过自定义过滤进一步排除特定日期（如节假日）。\n",
    "\n",
    "#### 方法 1：使用 `freq='B'`\n",
    "```python\n",
    "import pandas as pd\n",
    "\n",
    "dates = pd.date_range(start='2023-01-01', end='2023-01-10', freq='B')\n",
    "print(dates)\n",
    "```\n",
    "\n",
    "**输出**：\n",
    "```\n",
    "DatetimeIndex(['2023-01-02', '2023-01-03', '2023-01-04', '2023-01-05',\n",
    "               '2023-01-06', '2023-01-09', '2023-01-10'],\n",
    "              dtype='datetime64[ns]', freq='B')\n",
    "```\n",
    "\n",
    "- **说明**：\n",
    "  - `'B'` 表示“营业日”（Business Day），自动跳过周六（例如 2023-01-07）和周日（例如 2023-01-08）。\n",
    "  - 2023-01-01 是周日，也被排除。\n",
    "\n",
    "#### 方法 2：结合 `weekday` 过滤\n",
    "如果你需要更灵活的控制（例如只保留周一到周五），可以用 `.weekday` 属性过滤：\n",
    "```python\n",
    "import pandas as pd\n",
    "\n",
    "# 生成完整日期范围\n",
    "dates = pd.date_range(start='2023-01-01', end='2023-01-10', freq='D')\n",
    "\n",
    "# 过滤掉周末（weekday: 0=周一, 5=周六, 6=周日）\n",
    "workdays = dates[dates.weekday < 5]\n",
    "print(workdays)\n",
    "```\n",
    "\n",
    "**输出**：\n",
    "```\n",
    "DatetimeIndex(['2023-01-02', '2023-01-03', '2023-01-04', '2023-01-05',\n",
    "               '2023-01-06', '2023-01-09', '2023-01-10'],\n",
    "              dtype='datetime64[ns]', freq=None)\n",
    "```\n",
    "\n",
    "- **说明**：\n",
    "  - `dates.weekday` 返回 0（周一）到 6（周日）的整数。\n",
    "  - `< 5` 保留周一到周五。\n",
    "\n",
    "#### 方法 3：排除节假日\n",
    "如果除了周末还想跳过特定节假日，可以用 Pandas 的 `CustomBusinessDay`：\n",
    "```python\n",
    "import pandas as pd\n",
    "from pandas.tseries.offsets import CustomBusinessDay\n",
    "\n",
    "# 定义节假日\n",
    "holidays = ['2023-01-02']  # 假设这是节假日\n",
    "\n",
    "# 创建自定义工作日频率\n",
    "custom_bday = CustomBusinessDay(holidays=holidays)\n",
    "\n",
    "dates = pd.date_range(start='2023-01-01', end='2023-01-10', freq=custom_bday)\n",
    "print(dates)\n",
    "```\n",
    "\n",
    "**输出**：\n",
    "```\n",
    "DatetimeIndex(['2023-01-03', '2023-01-04', '2023-01-05', '2023-01-06',\n",
    "               '2023-01-09', '2023-01-10'],\n",
    "              dtype='datetime64[ns]', freq='C')\n",
    "```\n",
    "\n",
    "- **说明**：\n",
    "  - `CustomBusinessDay` 默认跳过周末，再根据 `holidays` 排除指定日期。\n",
    "\n",
    "---\n",
    "\n",
    "### 注意事项\n",
    "1. **参数组合**：\n",
    "   - 必须提供 `start` 和 `end` 或 `start` 和 `periods`，否则会报错。\n",
    "   - 示例：`pd.date_range(start='2023-01-01')` 会失败，需指定 `end` 或 `periods`。\n",
    "\n",
    "2. **频率选项**：\n",
    "   - `'B'` 只考虑周末，不包括法定节假日。\n",
    "   - 用 `CustomBusinessDay` 或外部节假日库（如 `holidays`）处理节假日。\n",
    "\n",
    "3. **时区**：\n",
    "   - 如果指定 `tz`，生成的日期会带有时区信息：\n",
    "     ```python\n",
    "     dates = pd.date_range(start='2023-01-01', periods=3, freq='D', tz='UTC')\n",
    "     print(dates)\n",
    "     # 输出：\n",
    "     # DatetimeIndex(['2023-01-01 00:00:00+00:00', '2023-01-02 00:00:00+00:00',\n",
    "     #                '2023-01-03 00:00:00+00:00'],\n",
    "     #               dtype='datetime64[ns, UTC]', freq='D')\n",
    "     ```\n",
    "\n",
    "---\n",
    "\n",
    "### 总结\n",
    "- **`pd.date_range` 用法**：\n",
    "  - 通过 `start`、`end`、`periods` 和 `freq` 生成日期序列。\n",
    "  - 常用频率：`'D'`（每天）、`'B'`（工作日）、`'H'`（每小时）。\n",
    "- **跳过周末**：\n",
    "  - 用 `freq='B'`：简单直接，自动排除周六和周日。\n",
    "  - 用 `weekday` 过滤：更灵活，适用于自定义需求。\n",
    "  - 用 `CustomBusinessDay`：可同时跳过周末和节假日。\n",
    "\n",
    "如果你有具体的时间范围或需要更复杂的日期过滤（例如跳过特定日期），告诉我，我可以进一步帮你调整代码！"
   ],
   "id": "7e0bf831e6584799"
  },
  {
   "metadata": {},
   "cell_type": "code",
   "outputs": [],
   "execution_count": null,
   "source": "",
   "id": "b16e1d3aed8ca8a8"
  }
 ],
 "metadata": {
  "kernelspec": {
   "display_name": "Python 3",
   "language": "python",
   "name": "python3"
  },
  "language_info": {
   "codemirror_mode": {
    "name": "ipython",
    "version": 2
   },
   "file_extension": ".py",
   "mimetype": "text/x-python",
   "name": "python",
   "nbconvert_exporter": "python",
   "pygments_lexer": "ipython2",
   "version": "2.7.6"
  }
 },
 "nbformat": 4,
 "nbformat_minor": 5
}
