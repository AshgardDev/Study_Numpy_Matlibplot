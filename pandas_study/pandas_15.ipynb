{
 "cells": [
  {
   "cell_type": "code",
   "id": "initial_id",
   "metadata": {
    "collapsed": true,
    "ExecuteTime": {
     "end_time": "2025-03-31T14:06:49.174807Z",
     "start_time": "2025-03-31T14:06:48.870386Z"
    }
   },
   "source": [
    "import pandas as pd\n",
    "##https://www.runoob.com/pandas/pandas-series.html"
   ],
   "outputs": [],
   "execution_count": 1
  },
  {
   "metadata": {
    "ExecuteTime": {
     "end_time": "2025-03-31T14:08:30.811270Z",
     "start_time": "2025-03-31T14:08:30.805519Z"
    }
   },
   "cell_type": "code",
   "source": [
    "###pandas核心数据结构\n",
    "## Series,类似一位数组,但可以自己命名index\n",
    "a = pd.Series([1, 2, 3], index=['a', 'b', 'c'], dtype='float')\n",
    "a"
   ],
   "id": "dded3a67f3c9018d",
   "outputs": [
    {
     "data": {
      "text/plain": [
       "a    1.0\n",
       "b    2.0\n",
       "c    3.0\n",
       "dtype: float64"
      ]
     },
     "execution_count": 5,
     "metadata": {},
     "output_type": "execute_result"
    }
   ],
   "execution_count": 5
  },
  {
   "metadata": {
    "ExecuteTime": {
     "end_time": "2025-03-31T14:52:39.864662Z",
     "start_time": "2025-03-31T14:52:39.859522Z"
    }
   },
   "cell_type": "code",
   "source": [
    "b = pd.Series(['a', 'b', 'c'], index=[100, 101, 102])\n",
    "b\n",
    "c = pd.Series(['a', 'b', 'c'])\n",
    "c\n",
    "c.index = ['a', 'b', 'c']\n",
    "c\n",
    "data = {'a': 0, 'b': 1.0, 'c': 2.0}\n",
    "e = pd.Series(data)\n",
    "e\n",
    "f = pd.Series(['a', 'b', 'c'], index=['a', 'b', 'c'], name='f col')\n",
    "f\n",
    "f.name = 'F_COL'\n",
    "f"
   ],
   "id": "75fe7a7134673a09",
   "outputs": [
    {
     "data": {
      "text/plain": [
       "a    a\n",
       "b    b\n",
       "c    c\n",
       "Name: F_COL, dtype: object"
      ]
     },
     "execution_count": 61,
     "metadata": {},
     "output_type": "execute_result"
    }
   ],
   "execution_count": 61
  },
  {
   "metadata": {
    "ExecuteTime": {
     "end_time": "2025-03-31T14:22:15.327919Z",
     "start_time": "2025-03-31T14:22:15.321520Z"
    }
   },
   "cell_type": "code",
   "source": [
    "## 访问\n",
    "data = pd.array(['Tom','Lily','Jerry','LiLei'])\n",
    "s = pd.Series(data)\n",
    "print(s, s[0], s.index, type(s[0]), s.dtype)\n",
    "s.index = ['T', 'L', 'J', 'LI']\n",
    "print(s['J']) ## 通过指定的索引\n",
    "print(s.iloc[0]) ## 通过数字索引\n",
    "print(s[['T', 'L', 'J']]) ## 访问多个元素\n",
    "print(s[:2]) ## 用切片访问,代表是使用iloc的方式进行访问的,因为只有iloc才会从默认索引开始\n",
    "print(s[::-1])\n",
    "# print(s[0]) ##报错To access a value by position, use `ser.iloc[pos]`\n",
    "\n"
   ],
   "id": "c531ceb1ce70120c",
   "outputs": [
    {
     "name": "stdout",
     "output_type": "stream",
     "text": [
      "0      Tom\n",
      "1     Lily\n",
      "2    Jerry\n",
      "3    LiLei\n",
      "dtype: string Tom RangeIndex(start=0, stop=4, step=1) <class 'str'> string\n",
      "Jerry\n",
      "Tom\n",
      "T      Tom\n",
      "L     Lily\n",
      "J    Jerry\n",
      "dtype: string\n",
      "T     Tom\n",
      "L    Lily\n",
      "dtype: string\n",
      "LI    LiLei\n",
      "J     Jerry\n",
      "L      Lily\n",
      "T       Tom\n",
      "dtype: string\n",
      "Tom\n"
     ]
    },
    {
     "name": "stderr",
     "output_type": "stream",
     "text": [
      "/var/folders/kw/ysl7ggsn6wz6r9ms_r7scdgh0000gn/T/ipykernel_69617/677482875.py:11: FutureWarning: Series.__getitem__ treating keys as positions is deprecated. In a future version, integer keys will always be treated as labels (consistent with DataFrame behavior). To access a value by position, use `ser.iloc[pos]`\n",
      "  print(s[0])\n"
     ]
    }
   ],
   "execution_count": 34
  },
  {
   "metadata": {
    "ExecuteTime": {
     "end_time": "2025-03-31T15:07:01.900949Z",
     "start_time": "2025-03-31T15:07:01.895783Z"
    }
   },
   "cell_type": "code",
   "source": [
    "## pandas对日期的处理\n",
    "dates = pd.Series([\n",
    "    # '2011',\n",
    "    # '2011-02',\n",
    "    '2022-02-11',\n",
    "    '2023-01-01',\n",
    "    '2023-01-10',\n",
    "    # '2022/02/01',\n",
    "    # '2022-02-11 12:10:23',\n",
    "    # '01 Jun 2022'\n",
    "])\n",
    "print(dates, dates.dtype)\n",
    "# dates.astype('datetime64[ns]') ##不会生效\n",
    "# print(dates[1], type(dates[1])) ##还是str\n",
    "date2 = pd.to_datetime(dates)\n",
    "print(date2)\n",
    "delta = date2 - pd.to_datetime('2022-02-10')\n",
    "print(delta, type(delta))\n",
    "\n",
    "## 通过dt接口,访问偏移量数据\n",
    "print(delta.dt.days)\n",
    "print(delta.dt.seconds)\n",
    "\n",
    "## dt接口访问年份\n",
    "print(date2.dt.year)\n",
    "print(date2.dt.month)\n",
    "print(date2.dt.day)\n",
    "print(date2.dt.weekday)"
   ],
   "id": "8b24636da647e26d",
   "outputs": [
    {
     "name": "stdout",
     "output_type": "stream",
     "text": [
      "0    2022-02-11\n",
      "1    2023-01-01\n",
      "2    2023-01-10\n",
      "dtype: object object\n",
      "0   2022-02-11\n",
      "1   2023-01-01\n",
      "2   2023-01-10\n",
      "dtype: datetime64[ns]\n",
      "0     1 days\n",
      "1   325 days\n",
      "2   334 days\n",
      "dtype: timedelta64[ns] <class 'pandas.core.series.Series'>\n",
      "0      1\n",
      "1    325\n",
      "2    334\n",
      "dtype: int64\n",
      "0    0\n",
      "1    0\n",
      "2    0\n",
      "dtype: int32\n",
      "0    2022\n",
      "1    2023\n",
      "2    2023\n",
      "dtype: int32\n",
      "0    2\n",
      "1    1\n",
      "2    1\n",
      "dtype: int32\n",
      "0    11\n",
      "1     1\n",
      "2    10\n",
      "dtype: int32\n",
      "0    4\n",
      "1    6\n",
      "2    1\n",
      "dtype: int32\n"
     ]
    }
   ],
   "execution_count": 79
  },
  {
   "metadata": {
    "ExecuteTime": {
     "end_time": "2025-04-01T03:13:04.840187Z",
     "start_time": "2025-04-01T03:13:04.834762Z"
    }
   },
   "cell_type": "code",
   "source": [
    "## 日期索引\n",
    "## periods -- 个数\n",
    "## freq -- 频率\n",
    "datelist = pd.date_range('2022-02-11', periods=15, freq='ME')\n",
    "datelist, type(datelist)\n",
    "\n",
    "start = pd.to_datetime('2022-02-11')\n",
    "end = '2022-12-01'\n",
    "datelist2 = pd.date_range(start=start, periods=15, freq='D')\n",
    "datelist2\n",
    "datelist3 = pd.date_range('2022-02-11', '2022-03-11', freq='D')\n",
    "# print(datelist3, type(datelist3))\n",
    "# print(dir(datelist3))\n",
    "\n",
    "pd.Series([i for i in range(len(datelist3))], index=datelist3, name='index')\n",
    "\n",
    "pd.Series(datelist3, name='dates')\n",
    "abc = pd.Series(datelist3)\n",
    "print(abc.dt.day)\n",
    "\n",
    "# pd.date_range('2022/02/01', '2022/02/28', freq='D')\n",
    "# pd.to_datetime('2022/02/01')\n",
    "# pd.to_datetime('2022-02-23')\n",
    "# pd.to_datetime('2022-03-01 12:23:01')\n",
    "# pd.to_datetime('2022/03/01 12:23:01')"
   ],
   "id": "c04e66f4bb6537b8",
   "outputs": [
    {
     "name": "stdout",
     "output_type": "stream",
     "text": [
      "0     11\n",
      "1     12\n",
      "2     13\n",
      "3     14\n",
      "4     15\n",
      "5     16\n",
      "6     17\n",
      "7     18\n",
      "8     19\n",
      "9     20\n",
      "10    21\n",
      "11    22\n",
      "12    23\n",
      "13    24\n",
      "14    25\n",
      "15    26\n",
      "16    27\n",
      "17    28\n",
      "18     1\n",
      "19     2\n",
      "20     3\n",
      "21     4\n",
      "22     5\n",
      "23     6\n",
      "24     7\n",
      "25     8\n",
      "26     9\n",
      "27    10\n",
      "28    11\n",
      "dtype: int32\n"
     ]
    }
   ],
   "execution_count": 108
  },
  {
   "metadata": {
    "ExecuteTime": {
     "end_time": "2025-04-01T03:30:41.461851Z",
     "start_time": "2025-04-01T03:30:41.436269Z"
    }
   },
   "cell_type": "code",
   "source": [
    "### datetime.dt.day   delta.dt.days\n",
    "### https://pandas.pydata.org/docs/user_guide/timeseries.html#time-date-components\n",
    "dt1 = pd.Series(pd.date_range('2022-02-01', '2022-02-28', freq='D'))\n",
    "print(dt1, dt1.dt.year, dt1.dt.day, dt1.dt.weekday, sep='\\n-------')\n",
    "print('**'*30)\n",
    "\n",
    "\n",
    "## 时间差没有hours,minutes等\n",
    "delta1 = dt1 - pd.to_datetime('2022-02-05')\n",
    "print(delta1, delta1.dt.days, delta1.dt.seconds, delta1.dt.microseconds)\n",
    "\n",
    "\n",
    "###https://pandas.pydata.org/docs/user_guide/timedeltas.html#timedeltaindex\n",
    "delta2 = pd.timedelta_range(start=\"1 days\", end=\"2 days\", freq=\"30min\")\n",
    "delta2"
   ],
   "id": "402b3a2ef102ba28",
   "outputs": [
    {
     "name": "stdout",
     "output_type": "stream",
     "text": [
      "0    2022-02-01\n",
      "1    2022-02-02\n",
      "2    2022-02-03\n",
      "3    2022-02-04\n",
      "4    2022-02-05\n",
      "5    2022-02-06\n",
      "6    2022-02-07\n",
      "7    2022-02-08\n",
      "8    2022-02-09\n",
      "9    2022-02-10\n",
      "10   2022-02-11\n",
      "11   2022-02-12\n",
      "12   2022-02-13\n",
      "13   2022-02-14\n",
      "14   2022-02-15\n",
      "15   2022-02-16\n",
      "16   2022-02-17\n",
      "17   2022-02-18\n",
      "18   2022-02-19\n",
      "19   2022-02-20\n",
      "20   2022-02-21\n",
      "21   2022-02-22\n",
      "22   2022-02-23\n",
      "23   2022-02-24\n",
      "24   2022-02-25\n",
      "25   2022-02-26\n",
      "26   2022-02-27\n",
      "27   2022-02-28\n",
      "dtype: datetime64[ns]\n",
      "-------0     2022\n",
      "1     2022\n",
      "2     2022\n",
      "3     2022\n",
      "4     2022\n",
      "5     2022\n",
      "6     2022\n",
      "7     2022\n",
      "8     2022\n",
      "9     2022\n",
      "10    2022\n",
      "11    2022\n",
      "12    2022\n",
      "13    2022\n",
      "14    2022\n",
      "15    2022\n",
      "16    2022\n",
      "17    2022\n",
      "18    2022\n",
      "19    2022\n",
      "20    2022\n",
      "21    2022\n",
      "22    2022\n",
      "23    2022\n",
      "24    2022\n",
      "25    2022\n",
      "26    2022\n",
      "27    2022\n",
      "dtype: int32\n",
      "-------0      1\n",
      "1      2\n",
      "2      3\n",
      "3      4\n",
      "4      5\n",
      "5      6\n",
      "6      7\n",
      "7      8\n",
      "8      9\n",
      "9     10\n",
      "10    11\n",
      "11    12\n",
      "12    13\n",
      "13    14\n",
      "14    15\n",
      "15    16\n",
      "16    17\n",
      "17    18\n",
      "18    19\n",
      "19    20\n",
      "20    21\n",
      "21    22\n",
      "22    23\n",
      "23    24\n",
      "24    25\n",
      "25    26\n",
      "26    27\n",
      "27    28\n",
      "dtype: int32\n",
      "-------0     1\n",
      "1     2\n",
      "2     3\n",
      "3     4\n",
      "4     5\n",
      "5     6\n",
      "6     0\n",
      "7     1\n",
      "8     2\n",
      "9     3\n",
      "10    4\n",
      "11    5\n",
      "12    6\n",
      "13    0\n",
      "14    1\n",
      "15    2\n",
      "16    3\n",
      "17    4\n",
      "18    5\n",
      "19    6\n",
      "20    0\n",
      "21    1\n",
      "22    2\n",
      "23    3\n",
      "24    4\n",
      "25    5\n",
      "26    6\n",
      "27    0\n",
      "dtype: int32\n",
      "************************************************************\n",
      "0    -4 days\n",
      "1    -3 days\n",
      "2    -2 days\n",
      "3    -1 days\n",
      "4     0 days\n",
      "5     1 days\n",
      "6     2 days\n",
      "7     3 days\n",
      "8     4 days\n",
      "9     5 days\n",
      "10    6 days\n",
      "11    7 days\n",
      "12    8 days\n",
      "13    9 days\n",
      "14   10 days\n",
      "15   11 days\n",
      "16   12 days\n",
      "17   13 days\n",
      "18   14 days\n",
      "19   15 days\n",
      "20   16 days\n",
      "21   17 days\n",
      "22   18 days\n",
      "23   19 days\n",
      "24   20 days\n",
      "25   21 days\n",
      "26   22 days\n",
      "27   23 days\n",
      "dtype: timedelta64[ns] 0     -4\n",
      "1     -3\n",
      "2     -2\n",
      "3     -1\n",
      "4      0\n",
      "5      1\n",
      "6      2\n",
      "7      3\n",
      "8      4\n",
      "9      5\n",
      "10     6\n",
      "11     7\n",
      "12     8\n",
      "13     9\n",
      "14    10\n",
      "15    11\n",
      "16    12\n",
      "17    13\n",
      "18    14\n",
      "19    15\n",
      "20    16\n",
      "21    17\n",
      "22    18\n",
      "23    19\n",
      "24    20\n",
      "25    21\n",
      "26    22\n",
      "27    23\n",
      "dtype: int64 0     0\n",
      "1     0\n",
      "2     0\n",
      "3     0\n",
      "4     0\n",
      "5     0\n",
      "6     0\n",
      "7     0\n",
      "8     0\n",
      "9     0\n",
      "10    0\n",
      "11    0\n",
      "12    0\n",
      "13    0\n",
      "14    0\n",
      "15    0\n",
      "16    0\n",
      "17    0\n",
      "18    0\n",
      "19    0\n",
      "20    0\n",
      "21    0\n",
      "22    0\n",
      "23    0\n",
      "24    0\n",
      "25    0\n",
      "26    0\n",
      "27    0\n",
      "dtype: int32 0     0\n",
      "1     0\n",
      "2     0\n",
      "3     0\n",
      "4     0\n",
      "5     0\n",
      "6     0\n",
      "7     0\n",
      "8     0\n",
      "9     0\n",
      "10    0\n",
      "11    0\n",
      "12    0\n",
      "13    0\n",
      "14    0\n",
      "15    0\n",
      "16    0\n",
      "17    0\n",
      "18    0\n",
      "19    0\n",
      "20    0\n",
      "21    0\n",
      "22    0\n",
      "23    0\n",
      "24    0\n",
      "25    0\n",
      "26    0\n",
      "27    0\n",
      "dtype: int32\n"
     ]
    },
    {
     "data": {
      "text/plain": [
       "DatetimeIndex(['2025-01-01', '2025-01-02', '2025-01-03', '2025-01-04',\n",
       "               '2025-01-05', '2025-01-06', '2025-01-07', '2025-01-08',\n",
       "               '2025-01-09', '2025-01-10', '2025-01-11', '2025-01-12',\n",
       "               '2025-01-13', '2025-01-14', '2025-01-15'],\n",
       "              dtype='datetime64[ns]', freq='D')"
      ]
     },
     "execution_count": 122,
     "metadata": {},
     "output_type": "execute_result"
    }
   ],
   "execution_count": 122
  },
  {
   "metadata": {
    "ExecuteTime": {
     "end_time": "2025-04-01T03:31:28.260437Z",
     "start_time": "2025-04-01T03:31:28.255906Z"
    }
   },
   "cell_type": "code",
   "source": [
    "pd.bdate_range('2025-01-01', periods=15, freq='D')\n",
    "pd.date_range(end='2025-01-01', periods=15, freq='D')\n",
    "pd.date_range(start='2025-01-01', periods=15, freq='D')"
   ],
   "id": "3afa3ae49ce2bf9",
   "outputs": [
    {
     "data": {
      "text/plain": [
       "DatetimeIndex(['2025-01-01', '2025-01-02', '2025-01-03', '2025-01-04',\n",
       "               '2025-01-05', '2025-01-06', '2025-01-07', '2025-01-08',\n",
       "               '2025-01-09', '2025-01-10', '2025-01-11', '2025-01-12',\n",
       "               '2025-01-13', '2025-01-14', '2025-01-15'],\n",
       "              dtype='datetime64[ns]', freq='D')"
      ]
     },
     "execution_count": 125,
     "metadata": {},
     "output_type": "execute_result"
    }
   ],
   "execution_count": 125
  },
  {
   "metadata": {
    "ExecuteTime": {
     "end_time": "2025-04-01T03:32:26.157445Z",
     "start_time": "2025-04-01T03:32:26.151847Z"
    }
   },
   "cell_type": "code",
   "source": "pd.Series(5, index=pd.date_range('2025-01-01', periods=15, freq='D'))",
   "id": "b7b9038a2544b444",
   "outputs": [
    {
     "data": {
      "text/plain": [
       "2025-01-01    5\n",
       "2025-01-02    5\n",
       "2025-01-03    5\n",
       "2025-01-04    5\n",
       "2025-01-05    5\n",
       "2025-01-06    5\n",
       "2025-01-07    5\n",
       "2025-01-08    5\n",
       "2025-01-09    5\n",
       "2025-01-10    5\n",
       "2025-01-11    5\n",
       "2025-01-12    5\n",
       "2025-01-13    5\n",
       "2025-01-14    5\n",
       "2025-01-15    5\n",
       "Freq: D, dtype: int64"
      ]
     },
     "execution_count": 126,
     "metadata": {},
     "output_type": "execute_result"
    }
   ],
   "execution_count": 126
  },
  {
   "metadata": {
    "ExecuteTime": {
     "end_time": "2025-04-01T03:44:14.970725Z",
     "start_time": "2025-04-01T03:44:14.964699Z"
    }
   },
   "cell_type": "code",
   "source": [
    "### DataFrame\n",
    "import numpy as np\n",
    "df = pd.DataFrame({\n",
    "    'date': pd.date_range('2025-01-01', periods=15, freq='D'),\n",
    "    'prices': np.random.randn(15),\n",
    "})\n",
    "### inplace加上后,就会删掉原来的索引,reset_index就不能恢复了\n",
    "df = df.set_index('date')\n",
    "print(df)\n",
    "df = df.reset_index()\n",
    "print(df)"
   ],
   "id": "26cc031a243c28a",
   "outputs": [
    {
     "name": "stdout",
     "output_type": "stream",
     "text": [
      "              prices\n",
      "date                \n",
      "2025-01-01 -0.560760\n",
      "2025-01-02 -1.252090\n",
      "2025-01-03 -1.192701\n",
      "2025-01-04 -0.833810\n",
      "2025-01-05 -1.798669\n",
      "2025-01-06  0.108144\n",
      "2025-01-07 -0.122237\n",
      "2025-01-08 -0.996313\n",
      "2025-01-09  0.904344\n",
      "2025-01-10  0.025096\n",
      "2025-01-11  1.549105\n",
      "2025-01-12 -0.016132\n",
      "2025-01-13  0.777906\n",
      "2025-01-14 -3.069661\n",
      "2025-01-15  1.099062\n",
      "         date    prices\n",
      "0  2025-01-01 -0.560760\n",
      "1  2025-01-02 -1.252090\n",
      "2  2025-01-03 -1.192701\n",
      "3  2025-01-04 -0.833810\n",
      "4  2025-01-05 -1.798669\n",
      "5  2025-01-06  0.108144\n",
      "6  2025-01-07 -0.122237\n",
      "7  2025-01-08 -0.996313\n",
      "8  2025-01-09  0.904344\n",
      "9  2025-01-10  0.025096\n",
      "10 2025-01-11  1.549105\n",
      "11 2025-01-12 -0.016132\n",
      "12 2025-01-13  0.777906\n",
      "13 2025-01-14 -3.069661\n",
      "14 2025-01-15  1.099062\n"
     ]
    }
   ],
   "execution_count": 135
  },
  {
   "metadata": {
    "ExecuteTime": {
     "end_time": "2025-04-01T03:52:01.046152Z",
     "start_time": "2025-04-01T03:52:01.035398Z"
    }
   },
   "cell_type": "code",
   "outputs": [
    {
     "name": "stdout",
     "output_type": "stream",
     "text": [
      "    name  age\n",
      "0   Alex   10\n",
      "1    Tom   12\n",
      "2  Jerry   13\n",
      "name    object\n",
      "age      int64\n",
      "dtype: object\n",
      "************************************************************\n",
      "    name   age\n",
      "0   Alex  10.0\n",
      "1    Tom  12.0\n",
      "2  Jerry  13.0\n",
      "name     object\n",
      "age     float64\n",
      "dtype: object\n"
     ]
    }
   ],
   "execution_count": 147,
   "source": [
    "data = [['Alex', 10], ['Tom', 12], ['Jerry', 13]]\n",
    "df = pd.DataFrame(data, columns=['name', 'age'])\n",
    "print(df, df.dtypes, sep='\\n')\n",
    "\n",
    "print('**'*30)\n",
    "df = pd.DataFrame(data, columns=['name', 'age'])\n",
    "## 修改数据类型\n",
    "df[[\"age\"]] = df[['age']].astype(float)\n",
    "print(df, df.dtypes, sep='\\n')"
   ],
   "id": "3e7cf9613502e032"
  },
  {
   "metadata": {
    "ExecuteTime": {
     "end_time": "2025-04-01T04:00:44.484159Z",
     "start_time": "2025-04-01T04:00:44.475749Z"
    }
   },
   "cell_type": "code",
   "source": [
    "data = {\n",
    "    'name': ['Tom', 'Jerry', 'Lily'],\n",
    "    'age': [10, 20, 30],\n",
    "}\n",
    "df = pd.DataFrame(data, index=['a', 'b', 'c'])\n",
    "print(df, sep='\\n')\n",
    "\n",
    "df = pd.DataFrame(data, index=pd.date_range('2022-01-01', periods=3, freq='D'))\n",
    "print(df, sep='\\n')\n",
    "\n",
    "# error\n",
    "# df = pd.DataFrame(\n",
    "#     {\n",
    "#         \"name\": pd.Series(['Tom', 'Jerry', 'Lily'], index=['a', 'b', 'c']),\n",
    "#         \"age\": [10, 20, 30, 40],\n",
    "#     }\n",
    "# )\n",
    "# print(df, sep='\\n')\n",
    "\n",
    "### 对不齐,如果都是Series不报错,填Nan,如果是[],则报错长度不一样\n",
    "### 若索引不一样,也不会匹配,其他列补充Nan\n",
    "df = pd.DataFrame(\n",
    "    {\n",
    "        \"name\": pd.Series(['Tom', 'Jerry', 'Lily'], index=['a', 'b', 'c']),\n",
    "        \"age\": pd.Series([10, 20, 30, 40], index=['a', 'b', 'e', 'd']),\n",
    "    }\n",
    ")\n",
    "print(df, sep='\\n')\n"
   ],
   "id": "78bec30111b2e691",
   "outputs": [
    {
     "name": "stdout",
     "output_type": "stream",
     "text": [
      "    name  age\n",
      "a    Tom   10\n",
      "b  Jerry   20\n",
      "c   Lily   30\n",
      "             name  age\n",
      "2022-01-01    Tom   10\n",
      "2022-01-02  Jerry   20\n",
      "2022-01-03   Lily   30\n",
      "    name   age\n",
      "a    Tom  10.0\n",
      "b  Jerry  20.0\n",
      "c   Lily   NaN\n",
      "d    NaN  40.0\n",
      "e    NaN  30.0\n"
     ]
    }
   ],
   "execution_count": 153
  },
  {
   "metadata": {
    "ExecuteTime": {
     "end_time": "2025-04-01T06:31:06.648418Z",
     "start_time": "2025-04-01T06:31:06.639856Z"
    }
   },
   "cell_type": "code",
   "source": [
    "## 列访问\n",
    "df['age']"
   ],
   "id": "f5b5b733b0f8fc02",
   "outputs": [
    {
     "data": {
      "text/plain": [
       "a    10.0\n",
       "b    20.0\n",
       "c     NaN\n",
       "d    40.0\n",
       "e    30.0\n",
       "Name: age, dtype: float64"
      ]
     },
     "execution_count": 154,
     "metadata": {},
     "output_type": "execute_result"
    }
   ],
   "execution_count": 154
  },
  {
   "metadata": {
    "ExecuteTime": {
     "end_time": "2025-04-01T06:34:01.373719Z",
     "start_time": "2025-04-01T06:34:01.368749Z"
    }
   },
   "cell_type": "code",
   "source": [
    "# df[['name', 'age']]\n",
    "df[:]\n",
    "df[2:]['name']\n",
    "df[2:][['name', 'age']]"
   ],
   "id": "69cce4f2d82802f3",
   "outputs": [
    {
     "data": {
      "text/plain": [
       "   name   age\n",
       "c  Lily   NaN\n",
       "d   NaN  40.0\n",
       "e   NaN  30.0"
      ],
      "text/html": [
       "<div>\n",
       "<style scoped>\n",
       "    .dataframe tbody tr th:only-of-type {\n",
       "        vertical-align: middle;\n",
       "    }\n",
       "\n",
       "    .dataframe tbody tr th {\n",
       "        vertical-align: top;\n",
       "    }\n",
       "\n",
       "    .dataframe thead th {\n",
       "        text-align: right;\n",
       "    }\n",
       "</style>\n",
       "<table border=\"1\" class=\"dataframe\">\n",
       "  <thead>\n",
       "    <tr style=\"text-align: right;\">\n",
       "      <th></th>\n",
       "      <th>name</th>\n",
       "      <th>age</th>\n",
       "    </tr>\n",
       "  </thead>\n",
       "  <tbody>\n",
       "    <tr>\n",
       "      <th>c</th>\n",
       "      <td>Lily</td>\n",
       "      <td>NaN</td>\n",
       "    </tr>\n",
       "    <tr>\n",
       "      <th>d</th>\n",
       "      <td>NaN</td>\n",
       "      <td>40.0</td>\n",
       "    </tr>\n",
       "    <tr>\n",
       "      <th>e</th>\n",
       "      <td>NaN</td>\n",
       "      <td>30.0</td>\n",
       "    </tr>\n",
       "  </tbody>\n",
       "</table>\n",
       "</div>"
      ]
     },
     "execution_count": 166,
     "metadata": {},
     "output_type": "execute_result"
    }
   ],
   "execution_count": 166
  },
  {
   "metadata": {
    "ExecuteTime": {
     "end_time": "2025-04-01T06:46:11.371603Z",
     "start_time": "2025-04-01T06:46:11.357771Z"
    }
   },
   "cell_type": "code",
   "source": [
    "## 列添加\n",
    "df['sex'] = [True, False, True, False, True]\n",
    "df\n",
    "### 这样是插入不了的,因为索引没有匹配上\n",
    "df['score'] = pd.Series([100, 101, 102, 103, 104], index=['a', 'b', 'c', 'd', 'e'])\n",
    "df\n",
    "\n",
    "\n",
    "### 没有指定索引列,所以默认添加的时候,就可以直接匹配匹配上了\n",
    "dd = pd.DataFrame({\n",
    "    \"name\": [\"Tom\", \"Jerry\", \"Lily\"],\n",
    "    \"age\": [10, 20, 30],\n",
    "})\n",
    "dd['score'] = pd.Series([100, 101, 102])\n",
    "print(dd)\n",
    "\n",
    "dd2 = dd.drop(1)\n",
    "print(dd2)\n",
    "## 默认索引匹配\n",
    "dd2['sex'] = pd.Series([True, False, True])\n",
    "print(dd2)\n",
    "dd2 = dd2.reset_index()\n",
    "print(dd2)\n",
    "### 重置索引后,按顺序匹配\n",
    "dd2['hobby'] = pd.Series(['basketball', 'football', 'pingpong'])\n",
    "print(dd2)"
   ],
   "id": "43ff7318f6ff30f3",
   "outputs": [
    {
     "name": "stdout",
     "output_type": "stream",
     "text": [
      "    name  age  score\n",
      "0    Tom   10    100\n",
      "1  Jerry   20    101\n",
      "2   Lily   30    102\n",
      "   name  age  score\n",
      "0   Tom   10    100\n",
      "2  Lily   30    102\n",
      "   name  age  score   sex\n",
      "0   Tom   10    100  True\n",
      "2  Lily   30    102  True\n",
      "   index  name  age  score   sex\n",
      "0      0   Tom   10    100  True\n",
      "1      2  Lily   30    102  True\n",
      "   index  name  age  score   sex       hobby\n",
      "0      0   Tom   10    100  True  basketball\n",
      "1      2  Lily   30    102  True    football\n"
     ]
    }
   ],
   "execution_count": 183
  },
  {
   "metadata": {
    "ExecuteTime": {
     "end_time": "2025-04-01T06:55:58.185423Z",
     "start_time": "2025-04-01T06:55:58.180897Z"
    }
   },
   "cell_type": "code",
   "source": [
    "dd2.index = ['a', 'b']\n",
    "dd2.loc[['a', 'b']]"
   ],
   "id": "482ebf2c5f52bfc3",
   "outputs": [
    {
     "data": {
      "text/plain": [
       "   index  name  age  score   sex       hobby\n",
       "a      0   Tom   10    100  True  basketball\n",
       "b      2  Lily   30    102  True    football"
      ],
      "text/html": [
       "<div>\n",
       "<style scoped>\n",
       "    .dataframe tbody tr th:only-of-type {\n",
       "        vertical-align: middle;\n",
       "    }\n",
       "\n",
       "    .dataframe tbody tr th {\n",
       "        vertical-align: top;\n",
       "    }\n",
       "\n",
       "    .dataframe thead th {\n",
       "        text-align: right;\n",
       "    }\n",
       "</style>\n",
       "<table border=\"1\" class=\"dataframe\">\n",
       "  <thead>\n",
       "    <tr style=\"text-align: right;\">\n",
       "      <th></th>\n",
       "      <th>index</th>\n",
       "      <th>name</th>\n",
       "      <th>age</th>\n",
       "      <th>score</th>\n",
       "      <th>sex</th>\n",
       "      <th>hobby</th>\n",
       "    </tr>\n",
       "  </thead>\n",
       "  <tbody>\n",
       "    <tr>\n",
       "      <th>a</th>\n",
       "      <td>0</td>\n",
       "      <td>Tom</td>\n",
       "      <td>10</td>\n",
       "      <td>100</td>\n",
       "      <td>True</td>\n",
       "      <td>basketball</td>\n",
       "    </tr>\n",
       "    <tr>\n",
       "      <th>b</th>\n",
       "      <td>2</td>\n",
       "      <td>Lily</td>\n",
       "      <td>30</td>\n",
       "      <td>102</td>\n",
       "      <td>True</td>\n",
       "      <td>football</td>\n",
       "    </tr>\n",
       "  </tbody>\n",
       "</table>\n",
       "</div>"
      ]
     },
     "execution_count": 196,
     "metadata": {},
     "output_type": "execute_result"
    }
   ],
   "execution_count": 196
  },
  {
   "metadata": {
    "ExecuteTime": {
     "end_time": "2025-04-01T11:17:36.072185Z",
     "start_time": "2025-04-01T11:17:36.047376Z"
    }
   },
   "cell_type": "code",
   "source": "",
   "id": "6c9fc8fe21fa0344",
   "outputs": [],
   "execution_count": null
  },
  {
   "metadata": {},
   "cell_type": "code",
   "outputs": [],
   "execution_count": null,
   "source": "",
   "id": "a9e90e8aeae33e8b"
  },
  {
   "metadata": {},
   "cell_type": "code",
   "outputs": [],
   "execution_count": null,
   "source": "",
   "id": "81dfa16f7f37c8e"
  },
  {
   "metadata": {},
   "cell_type": "code",
   "outputs": [],
   "execution_count": null,
   "source": "",
   "id": "1fe24613d752c129"
  },
  {
   "metadata": {},
   "cell_type": "markdown",
   "source": [
    "### Pandas 数据结构 - DataFrame\n",
    "\n",
    "DataFrame 是 Pandas 中的另一个核心数据结构，类似于一个二维的表格或数据库中的数据表。\n",
    "\n",
    "DataFrame 是一个表格型的数据结构，它含有一组有序的列，每列可以是不同的值类型（数值、字符串、布尔型值）。\n",
    "\n",
    "DataFrame 既有行索引也有列索引，它可以被看做由 Series 组成的字典（共同用一个索引）。\n",
    "\n",
    "DataFrame 提供了各种功能来进行数据访问、筛选、分割、合并、重塑、聚合以及转换等操作。\n",
    "\n",
    "DataFrame 是一个非常灵活且强大的数据结构，广泛用于数据分析、清洗、转换、可视化等任务。\n",
    "\n",
    "## DataFrame 特点：\n",
    "\n",
    "- 二维结构： DataFrame 是一个二维表格，可以被看作是一个 Excel 电子表格或 SQL 表，具有行和列。可以将其视为多个 Series 对象组成的字典。\n",
    "\n",
    "- 列的数据类型： 不同的列可以包含不同的数据类型，例如整数、浮点数、字符串或 Python 对象等。\n",
    "\n",
    "- 索引：DataFrame 可以拥有行索引和列索引，类似于 Excel 中的行号和列标。\n",
    "\n",
    "- 大小可变：可以添加和删除列，类似于 Python 中的字典。\n",
    "\n",
    "- 自动对齐：在进行算术运算或数据对齐操作时，DataFrame 会自动对齐索引。\n",
    "\n",
    "- 处理缺失数据：DataFrame 可以包含缺失数据，Pandas 使用 NaN（Not a Number）来表示。\n",
    "\n",
    "- 数据操作：支持数据切片、索引、子集分割等操作。\n",
    "\n",
    "- 时间序列支持：DataFrame 对时间序列数据有特别的支持，可以轻松地进行时间数据的切片、索引和操作。\n",
    "\n",
    "- 丰富的数据访问功能：通过 .loc、.iloc 和 .query() 方法，可以灵活地访问和筛选数据。\n",
    "\n",
    "- 灵活的数据处理功能：包括数据合并、重塑、透视、分组和聚合等。\n",
    "\n",
    "- 数据可视化：虽然 DataFrame 本身不是可视化工具，但它可以与 Matplotlib 或 Seaborn 等可视化库结合使用，进行数据可视化。\n",
    "\n",
    "- 高效的数据输入输出：可以方便地读取和写入数据，支持多种格式，如 CSV、Excel、SQL 数据库和 HDF5 格式。\n",
    "\n",
    "- 描述性统计：提供了一系列方法来计算描述性统计数据，如 .describe()、.mean()、.sum() 等。\n",
    "\n",
    "- 灵活的数据对齐和集成：可以轻松地与其他 DataFrame 或 Series 对象进行合并、连接或更新操作。\n",
    "\n",
    "- 转换功能：可以对数据集中的值进行转换，例如使用 .apply() 方法应用自定义函数。\n",
    "\n",
    "- 滚动窗口和时间序列分析：支持对数据集进行滚动窗口统计和时间序列分析。\n",
    "\n",
    "![1](../images/pandas-DataStructure.png)\n",
    "![2](../images/df-dp.png)"
   ],
   "id": "15e820cb9d73aa0e"
  },
  {
   "metadata": {},
   "cell_type": "code",
   "outputs": [],
   "execution_count": null,
   "source": "",
   "id": "f0f9545fffa98603"
  },
  {
   "metadata": {},
   "cell_type": "markdown",
   "source": [
    "以下是一个表格，列出了 Python 中 Pandas 库中常见的 DataFrame 方法及其功能描述。为了满足你的需求，我尽量全面地列出方法，并以简洁的方式说明其用途：\n",
    "\n",
    "| **方法**            | **功能描述**                                                                 |\n",
    "|---------------------|------------------------------------------------------------------------------|\n",
    "| `head(n)`           | 返回前 n 行数据，默认 n=5                                                   |\n",
    "| `tail(n)`           | 返回最后 n 行数据，默认 n=5                                                 |\n",
    "| `info()`            | 显示 DataFrame 的结构信息（如列名、数据类型、非空值计数）                    |\n",
    "| `describe()`        | 生成数值列的统计信息（如计数、均值、标准差、最小值、最大值）                |\n",
    "| `shape`             | 返回 DataFrame 的形状（行数, 列数），属性而非方法                           |\n",
    "| `columns`           | 返回所有列名，属性而非方法                                                 |\n",
    "| `index`             | 返回索引，属性而非方法                                                     |\n",
    "| `loc[]`             | 通过标签（行名或列名）访问数据                                              |\n",
    "| `iloc[]`            | 通过整数位置访问数据                                                       |\n",
    "| `at[]`              | 通过标签快速访问单个值                                                     |\n",
    "| `iat[]`             | 通过整数位置快速访问单个值                                                 |\n",
    "| `drop(labels, axis)`| 删除指定行或列（axis=0 为行，axis=1 为列）                                 |\n",
    "| `dropna()`          | 删除包含缺失值（NaN）的行或列                                              |\n",
    "| `fillna(value)`     | 用指定值填充缺失值（NaN）                                                  |\n",
    "| `isnull()`          | 返回布尔 DataFrame，标记缺失值位置                                         |\n",
    "| `notnull()`         | 返回布尔 DataFrame，标记非缺失值位置                                       |\n",
    "| `groupby(by)`       | 按指定列分组，可结合聚合函数（如 mean(), sum()）使用                        |\n",
    "| `merge(right, on)`  | 合并两个 DataFrame，基于指定列                                             |\n",
    "| `join(other)`       | 通过索引合并两个 DataFrame                                                 |\n",
    "| `concat(objs)`      | 沿指定轴（行或列）拼接多个 DataFrame，静态方法                              |\n",
    "| `append()`          | (已弃用，推荐用 concat) 沿行追加数据                                       |\n",
    "| `sort_values(by)`   | 按指定列排序                                                               |\n",
    "| `sort_index()`      | 按索引排序                                                                 |\n",
    "| `apply(func)`       | 对行或列应用自定义函数                                                     |\n",
    "| `map(func)`         | 对 Series 对象应用函数（常用于单列）                                       |\n",
    "| `applymap(func)`    | 对 DataFrame 的每个元素应用函数                                            |\n",
    "| `pivot(index, columns, values)` | 创建透视表                                                     |\n",
    "| `pivot_table()`     | 创建带聚合功能的透视表（如均值、总和等）                                   |\n",
    "| `melt()`            | 将宽格式转换为长格式                                                       |\n",
    "| `transpose()`       | 转置 DataFrame（行列互换）                                                 |\n",
    "| `T`                 | 转置 DataFrame 的属性形式                                                  |\n",
    "| `sum()`             | 计算列或行的总和                                                           |\n",
    "| `mean()`            | 计算列或行的均值                                                           |\n",
    "| `std()`             | 计算列或行的标准差                                                         |\n",
    "| `min()`             | 返回列或行的最小值                                                         |\n",
    "| `max()`             | 返回列或行的最大值                                                         |\n",
    "| `count()`           | 返回列或行的非空值计数                                                     |\n",
    "| `value_counts()`    | 统计某列中唯一值的出现次数（适用于 Series）                                 |\n",
    "| `unique()`          | 返回某列的唯一值数组（适用于 Series）                                       |\n",
    "| `nunique()`         | 返回某列唯一值的数量                                                       |\n",
    "| `replace(to_replace, value)` | 替换指定值                                                |\n",
    "| `rename(columns)`   | 重命名列名                                                                 |\n",
    "| `astype(dtype)`     | 转换列的数据类型                                                           |\n",
    "| `to_csv()`          | 将 DataFrame 保存为 CSV 文件                                               |\n",
    "| `to_excel()`        | 将 DataFrame 保存为 Excel 文件                                             |\n",
    "| `plot()`            | 生成简单的图表（需配合 Matplotlib）                                        |\n",
    "\n",
    "### 说明：\n",
    "1. **属性 vs 方法**：像 `shape`、`columns`、`index` 是属性，直接访问无需括号；其他为方法，需加括号调用。\n",
    "2. **聚合函数**：如 `sum()`、`mean()` 等，通常与 `groupby()` 或直接对 DataFrame 使用。\n",
    "3. **数据操作**：如 `loc[]`、`iloc[]` 用于定位，`drop()`、`fillna()` 用于清洗数据。\n",
    "4. **高级功能**：如 `pivot()`、`melt()` 用于数据重塑，`merge()`、`join()` 用于合并。\n",
    "\n",
    "如果你需要更详细的解释某个方法（比如用法或示例代码），或者想扩展表格内容，请告诉我！"
   ],
   "id": "3dc60b160f209fad"
  },
  {
   "metadata": {},
   "cell_type": "code",
   "outputs": [],
   "execution_count": null,
   "source": "",
   "id": "84331895fa04d46a"
  },
  {
   "metadata": {},
   "cell_type": "markdown",
   "source": [
    "在 Python 的 pandas 库中，`DataFrame` 是一种功能强大的二维数据结构，提供了丰富的方法和属性来支持数据操作和分析。以下是对 `DataFrame` 方法的详细分类和描述：\n",
    "\n",
    "**1. 构造函数：**\n",
    "\n",
    "- `pd.DataFrame(data, index, columns, dtype, copy)`：创建一个 DataFrame 对象，支持自定义数据、索引、列名和数据类型。\n",
    "\n",
    "**2. 属性和基础数据：**\n",
    "\n",
    "- `df.index`：返回 DataFrame 的行索引。\n",
    "- `df.columns`：返回 DataFrame 的列标签。\n",
    "- `df.dtypes`：返回每列的数据类型。\n",
    "- `df.values`：以二维 NumPy 数组的形式返回 DataFrame 的数据部分。\n",
    "- `df.axes`：返回行索引和列名的列表。\n",
    "- `df.ndim`：返回 DataFrame 的维度数（始终为 2）。\n",
    "- `df.size`：返回 DataFrame 中元素的总数。\n",
    "- `df.shape`：返回 DataFrame 的形状（行数，列数）。\n",
    "- `df.memory_usage([index, deep])`：返回每列的内存使用情况（以字节为单位）。\n",
    "- `df.empty`：指示 DataFrame 是否为空。\n",
    "- `df.T`：返回 DataFrame 的转置。\n",
    "\n",
    "**3. 数据查看与基本信息：**\n",
    "\n",
    "- `df.head([n])`：返回前 n 行数据，默认前 5 行。\n",
    "- `df.tail([n])`：返回后 n 行数据，默认后 5 行。\n",
    "- `df.info()`：打印 DataFrame 的简要信息，包括索引、列、数据类型和内存使用情况。\n",
    "- `df.describe([percentiles, include, exclude])`：生成描述性统计信息，包括计数、均值、标准差、最小值、四分位数和最大值。\n",
    "\n",
    "**4. 数据选取与过滤：**\n",
    "\n",
    "- `df['column_name']`：选取名为 `column_name` 的列，返回一个 Series。\n",
    "- `df[['col1', 'col2']]`：选取多个列，返回一个新的 DataFrame。\n",
    "- `df.loc[row_indexer, col_indexer]`：通过标签选取数据。\n",
    "- `df.iloc[row_indexer, col_indexer]`：通过位置选取数据。\n",
    "- `df.at[row_label, column_label]`：访问指定行和列标签的单个值。\n",
    "- `df.iat[row_position, column_position]`：访问指定行和列位置的单个值。\n",
    "- `df.filter([items, like, regex, axis])`：根据指定的条件过滤行或列。\n",
    "- `df.query(expr)`：使用布尔表达式查询 DataFrame 的行。\n",
    "\n",
    "**5. 数据清洗与处理：**\n",
    "\n",
    "- `df.dropna([axis, how, thresh, subset, inplace])`：删除包含缺失值的行或列。\n",
    "- `df.fillna(value, [method, axis, inplace, limit, downcast])`：用指定的值或方法填充缺失值。\n",
    "- `df.replace(to_replace, value, [inplace, limit, regex, method])`：替换 DataFrame 中的指定值。\n",
    "- `df.rename([mapper, index, columns, axis, copy, inplace, level, errors])`：重命名行索引或列名。\n",
    "- `df.drop(labels, [axis, index, columns, level, inplace, errors])`：删除指定的行或列。\n",
    "- `df.duplicated([subset, keep])`：返回布尔 Series，指示是否存在重复行。\n",
    "- `df.drop_duplicates([subset, keep, inplace])`：删除重复的行。\n",
    "\n",
    "**6. 数据转换：**\n",
    "\n",
    "- `df.astype(dtype, [copy, errors])`：将 DataFrame 转换为指定的数据类型。\n",
    "- `df.convert_dtypes([infer_objects, convert_string, convert_integer, convert_boolean, convert_floating])`：将列转换为最佳可能的数据类型。\n",
    "- `df.infer_objects([copy])`：尝试为对象列推断更具体的数据类型。\n",
    "- `df.copy([deep])`：复制 DataFrame。\n",
    "- `df.to_numpy([dtype, copy, na_value])`：将 DataFrame 转换为 NumPy 数组。\n",
    "- `df.to_dict([orient, into])`：将 DataFrame 转换为字典。\n",
    "\n",
    "**7. 数据统计与聚合：**\n",
    "\n",
    "- `df.count([axis, level, numeric_only])`：计算每列的非 NA/null 值的数量。\n",
    "- `df.sum([axis, skipna, level, numeric_only, min_count])`：计算每列的和。\n",
    "- `df.mean([axis, skipna, level, numeric_only])`：计算每列的均值。\n",
    "- `df.median([axis, skipna, level, numeric_only])`：计算每列的中位数。\n",
    "- `df.min([axis, skipna, level, numeric_only])`：计算每列的最小值。\n",
    "- `df.max([axis, skipna, level, numeric_only])`：计算"
   ],
   "id": "db74ecdaf25827a0"
  },
  {
   "metadata": {},
   "cell_type": "code",
   "outputs": [],
   "execution_count": null,
   "source": "",
   "id": "4f8ecfa9555978d8"
  }
 ],
 "metadata": {
  "kernelspec": {
   "display_name": "Python 3",
   "language": "python",
   "name": "python3"
  },
  "language_info": {
   "codemirror_mode": {
    "name": "ipython",
    "version": 2
   },
   "file_extension": ".py",
   "mimetype": "text/x-python",
   "name": "python",
   "nbconvert_exporter": "python",
   "pygments_lexer": "ipython2",
   "version": "2.7.6"
  }
 },
 "nbformat": 4,
 "nbformat_minor": 5
}
