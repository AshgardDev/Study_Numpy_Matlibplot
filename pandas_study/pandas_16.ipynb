{
 "cells": [
  {
   "cell_type": "code",
   "id": "initial_id",
   "metadata": {
    "collapsed": true,
    "ExecuteTime": {
     "end_time": "2025-04-01T07:05:31.160919Z",
     "start_time": "2025-04-01T07:05:30.845504Z"
    }
   },
   "source": [
    "import pandas as pd\n",
    "import numpy as np\n"
   ],
   "outputs": [],
   "execution_count": 1
  },
  {
   "metadata": {
    "ExecuteTime": {
     "end_time": "2025-04-01T08:33:27.402536Z",
     "start_time": "2025-04-01T08:33:27.399071Z"
    }
   },
   "cell_type": "code",
   "source": [
    "data = {\n",
    "    'Name': ['Alice', 'Bob', 'Charlie', 'David', 'Lily', 'Tom'],\n",
    "    'Age': [25, 30, 35, 40, 50, 60],\n",
    "    'City': ['New York', 'Los Angeles', 'Chicago', 'Houston', 'ShangHai', 'BeiJing'],\n",
    "    'Sex': [True, False, True, False, True, False],\n",
    "    'Score': [100, 101, 102, 103, 104, 105],\n",
    "}\n",
    "df = pd.DataFrame(data)"
   ],
   "id": "aaa801619d0fcf4c",
   "outputs": [],
   "execution_count": 116
  },
  {
   "metadata": {
    "ExecuteTime": {
     "end_time": "2025-04-01T08:29:34.041708Z",
     "start_time": "2025-04-01T08:29:34.039240Z"
    }
   },
   "cell_type": "code",
   "source": [
    "## 添加列\n",
    "## 方法1:\n",
    "# df['Hobby'] = ['movie', 'coffee', 'book', 'ball', 'hike', 'sleep']\n",
    "#\n",
    "# ## 方法2 位置、列名、列值\n",
    "# df.insert(0, 'Hobby_bak', df['Hobby'])\n",
    "\n",
    "## 删除某个列\n",
    "# 方法1:\n",
    "# del(df['Age'])\n",
    "\n",
    "# 方法2: -- 这个会返回删除列的内容\n",
    "# dd = df.pop('City')\n",
    "# print(df)\n",
    "\n",
    "# 方法3\n",
    "# df.drop(columns=['Score'], inplace=True)\n",
    "# print(df)\n",
    "\n",
    "## 访问列\n",
    "# df['Age']\n",
    "# df[['Age', 'City']]\n",
    "# df[:]['Name']\n",
    "# df.loc[:, 'Age']\n",
    "# # df.loc[:, 1] ##error, index已经更改\n",
    "# df.iloc[:, 2] ## 指定iloc下标访问方式\n"
   ],
   "id": "950f33bb2601546",
   "outputs": [],
   "execution_count": 110
  },
  {
   "metadata": {
    "ExecuteTime": {
     "end_time": "2025-04-01T08:32:33.580789Z",
     "start_time": "2025-04-01T08:32:33.572879Z"
    }
   },
   "cell_type": "code",
   "source": [
    "### 添加行\n",
    "## 方法1:这个是新增的 下标+1\n",
    "# df.loc[len(df.index)] = ['hbj', 30, 'ShenZhen', True, 108, 'work']\n",
    "## 方法2: 这个是新增的 test,不管之前是什么下标\n",
    "# df.loc['test'] = ['hbj', 30, 'ShenZhen', True, 108]\n",
    "## 方法3--ignore_index=True,会删除原来的索引,重新设置默认索引\n",
    "##     --ignore_index=False,则原样拼接,保留原来索引,即使索引重复\n",
    "# df2 = pd.concat([df, df], ignore_index=True)\n",
    "# df2 = pd.concat([df, df], ignore_index=True)\n",
    "\n",
    "\n",
    "### 行访问\n",
    "# df[1] ## error 1个参数,会被解析为按列访问\n",
    "# df.loc[1]\n",
    "# df[3:5]\n",
    "# df.loc[1:3, 'Age']\n",
    "# df.iloc[2:6, 2:5]\n",
    "\n",
    "### 设置索引后的 列访问\n",
    "# df.index = ['a', 'b', 'c', 'd', 'e', 'f']\n",
    "# df.loc[1] ##error 已经重置索引列\n",
    "# df.loc['a']\n",
    "# df.loc[['a', 'b']]\n",
    "# df.iloc[:3]\n",
    "\n",
    "### 行删除\n",
    "## 删除指定的索引行\n",
    "# df.drop(index=0, inplace=True)\n",
    "## 删除指定的索引值\n",
    "# df.index = ['a', 'b', 'c', 'd', 'e', 'f']\n",
    "# df.drop('a')\n"
   ],
   "id": "c73fb48869477f86",
   "outputs": [
    {
     "data": {
      "text/plain": [
       "      Name  Age         City    Sex  Score\n",
       "b      Bob   30  Los Angeles  False    101\n",
       "c  Charlie   35      Chicago   True    102\n",
       "d    David   40      Houston  False    103\n",
       "e     Lily   50     ShangHai   True    104\n",
       "f      Tom   60      BeiJing  False    105"
      ],
      "text/html": [
       "<div>\n",
       "<style scoped>\n",
       "    .dataframe tbody tr th:only-of-type {\n",
       "        vertical-align: middle;\n",
       "    }\n",
       "\n",
       "    .dataframe tbody tr th {\n",
       "        vertical-align: top;\n",
       "    }\n",
       "\n",
       "    .dataframe thead th {\n",
       "        text-align: right;\n",
       "    }\n",
       "</style>\n",
       "<table border=\"1\" class=\"dataframe\">\n",
       "  <thead>\n",
       "    <tr style=\"text-align: right;\">\n",
       "      <th></th>\n",
       "      <th>Name</th>\n",
       "      <th>Age</th>\n",
       "      <th>City</th>\n",
       "      <th>Sex</th>\n",
       "      <th>Score</th>\n",
       "    </tr>\n",
       "  </thead>\n",
       "  <tbody>\n",
       "    <tr>\n",
       "      <th>b</th>\n",
       "      <td>Bob</td>\n",
       "      <td>30</td>\n",
       "      <td>Los Angeles</td>\n",
       "      <td>False</td>\n",
       "      <td>101</td>\n",
       "    </tr>\n",
       "    <tr>\n",
       "      <th>c</th>\n",
       "      <td>Charlie</td>\n",
       "      <td>35</td>\n",
       "      <td>Chicago</td>\n",
       "      <td>True</td>\n",
       "      <td>102</td>\n",
       "    </tr>\n",
       "    <tr>\n",
       "      <th>d</th>\n",
       "      <td>David</td>\n",
       "      <td>40</td>\n",
       "      <td>Houston</td>\n",
       "      <td>False</td>\n",
       "      <td>103</td>\n",
       "    </tr>\n",
       "    <tr>\n",
       "      <th>e</th>\n",
       "      <td>Lily</td>\n",
       "      <td>50</td>\n",
       "      <td>ShangHai</td>\n",
       "      <td>True</td>\n",
       "      <td>104</td>\n",
       "    </tr>\n",
       "    <tr>\n",
       "      <th>f</th>\n",
       "      <td>Tom</td>\n",
       "      <td>60</td>\n",
       "      <td>BeiJing</td>\n",
       "      <td>False</td>\n",
       "      <td>105</td>\n",
       "    </tr>\n",
       "  </tbody>\n",
       "</table>\n",
       "</div>"
      ]
     },
     "execution_count": 115,
     "metadata": {},
     "output_type": "execute_result"
    }
   ],
   "execution_count": 115
  },
  {
   "metadata": {
    "ExecuteTime": {
     "end_time": "2025-04-01T08:40:26.996025Z",
     "start_time": "2025-04-01T08:40:26.988492Z"
    }
   },
   "cell_type": "code",
   "source": [
    "### 修改数据\n",
    "df\n",
    "## 这种方法高版本不可用了\n",
    "##df['Name'][1] = 'Bobb'\n",
    "## 替换成下面的方法--修改只有这种方法\n",
    "df.loc[1, 'Name'] = 'BobF'\n",
    "df.iloc[0, 1] = 33\n",
    "df\n",
    "## 这种都是只读\n",
    "# df.loc()[1]['Score']"
   ],
   "id": "b00a482ade79927e",
   "outputs": [
    {
     "data": {
      "text/plain": [
       "      Name  Age         City    Sex  Score\n",
       "0    Alice   33     New York   True    100\n",
       "1     BobF   30  Los Angeles  False    101\n",
       "2  Charlie   35      Chicago   True    102\n",
       "3    David   40      Houston  False    103\n",
       "4     Lily   50     ShangHai   True    104\n",
       "5      Tom   60      BeiJing  False    105"
      ],
      "text/html": [
       "<div>\n",
       "<style scoped>\n",
       "    .dataframe tbody tr th:only-of-type {\n",
       "        vertical-align: middle;\n",
       "    }\n",
       "\n",
       "    .dataframe tbody tr th {\n",
       "        vertical-align: top;\n",
       "    }\n",
       "\n",
       "    .dataframe thead th {\n",
       "        text-align: right;\n",
       "    }\n",
       "</style>\n",
       "<table border=\"1\" class=\"dataframe\">\n",
       "  <thead>\n",
       "    <tr style=\"text-align: right;\">\n",
       "      <th></th>\n",
       "      <th>Name</th>\n",
       "      <th>Age</th>\n",
       "      <th>City</th>\n",
       "      <th>Sex</th>\n",
       "      <th>Score</th>\n",
       "    </tr>\n",
       "  </thead>\n",
       "  <tbody>\n",
       "    <tr>\n",
       "      <th>0</th>\n",
       "      <td>Alice</td>\n",
       "      <td>33</td>\n",
       "      <td>New York</td>\n",
       "      <td>True</td>\n",
       "      <td>100</td>\n",
       "    </tr>\n",
       "    <tr>\n",
       "      <th>1</th>\n",
       "      <td>BobF</td>\n",
       "      <td>30</td>\n",
       "      <td>Los Angeles</td>\n",
       "      <td>False</td>\n",
       "      <td>101</td>\n",
       "    </tr>\n",
       "    <tr>\n",
       "      <th>2</th>\n",
       "      <td>Charlie</td>\n",
       "      <td>35</td>\n",
       "      <td>Chicago</td>\n",
       "      <td>True</td>\n",
       "      <td>102</td>\n",
       "    </tr>\n",
       "    <tr>\n",
       "      <th>3</th>\n",
       "      <td>David</td>\n",
       "      <td>40</td>\n",
       "      <td>Houston</td>\n",
       "      <td>False</td>\n",
       "      <td>103</td>\n",
       "    </tr>\n",
       "    <tr>\n",
       "      <th>4</th>\n",
       "      <td>Lily</td>\n",
       "      <td>50</td>\n",
       "      <td>ShangHai</td>\n",
       "      <td>True</td>\n",
       "      <td>104</td>\n",
       "    </tr>\n",
       "    <tr>\n",
       "      <th>5</th>\n",
       "      <td>Tom</td>\n",
       "      <td>60</td>\n",
       "      <td>BeiJing</td>\n",
       "      <td>False</td>\n",
       "      <td>105</td>\n",
       "    </tr>\n",
       "  </tbody>\n",
       "</table>\n",
       "</div>"
      ]
     },
     "execution_count": 132,
     "metadata": {},
     "output_type": "execute_result"
    }
   ],
   "execution_count": 132
  },
  {
   "metadata": {
    "ExecuteTime": {
     "end_time": "2025-04-01T08:40:38.545032Z",
     "start_time": "2025-04-01T08:40:38.541736Z"
    }
   },
   "cell_type": "code",
   "source": [
    "### 常用属性\n",
    "df.axes ## (行列索引)"
   ],
   "id": "6f83bd4eb4174b63",
   "outputs": [
    {
     "data": {
      "text/plain": [
       "[RangeIndex(start=0, stop=6, step=1),\n",
       " Index(['Name', 'Age', 'City', 'Sex', 'Score'], dtype='object')]"
      ]
     },
     "execution_count": 133,
     "metadata": {},
     "output_type": "execute_result"
    }
   ],
   "execution_count": 133
  },
  {
   "metadata": {
    "ExecuteTime": {
     "end_time": "2025-04-01T08:41:12.661702Z",
     "start_time": "2025-04-01T08:41:12.657564Z"
    }
   },
   "cell_type": "code",
   "source": "df.dtypes",
   "id": "9da8f1dfef81210d",
   "outputs": [
    {
     "data": {
      "text/plain": [
       "Name     object\n",
       "Age       int64\n",
       "City     object\n",
       "Sex        bool\n",
       "Score     int64\n",
       "dtype: object"
      ]
     },
     "execution_count": 134,
     "metadata": {},
     "output_type": "execute_result"
    }
   ],
   "execution_count": 134
  },
  {
   "metadata": {
    "ExecuteTime": {
     "end_time": "2025-04-01T08:41:30.877768Z",
     "start_time": "2025-04-01T08:41:30.874981Z"
    }
   },
   "cell_type": "code",
   "source": "df.empty",
   "id": "17426ce0a3ae8e84",
   "outputs": [
    {
     "data": {
      "text/plain": [
       "False"
      ]
     },
     "execution_count": 135,
     "metadata": {},
     "output_type": "execute_result"
    }
   ],
   "execution_count": 135
  },
  {
   "metadata": {
    "ExecuteTime": {
     "end_time": "2025-04-01T08:41:35.024231Z",
     "start_time": "2025-04-01T08:41:35.021535Z"
    }
   },
   "cell_type": "code",
   "source": "df.ndim",
   "id": "43026029848f6b1e",
   "outputs": [
    {
     "data": {
      "text/plain": [
       "2"
      ]
     },
     "execution_count": 136,
     "metadata": {},
     "output_type": "execute_result"
    }
   ],
   "execution_count": 136
  },
  {
   "metadata": {
    "ExecuteTime": {
     "end_time": "2025-04-01T08:42:03.674096Z",
     "start_time": "2025-04-01T08:42:03.670750Z"
    }
   },
   "cell_type": "code",
   "source": "df.size, len(df)",
   "id": "35351317aef8391d",
   "outputs": [
    {
     "data": {
      "text/plain": [
       "(30, 6)"
      ]
     },
     "execution_count": 139,
     "metadata": {},
     "output_type": "execute_result"
    }
   ],
   "execution_count": 139
  },
  {
   "metadata": {
    "ExecuteTime": {
     "end_time": "2025-04-01T08:42:18.296689Z",
     "start_time": "2025-04-01T08:42:18.293086Z"
    }
   },
   "cell_type": "code",
   "source": "df.values, type(df.values) ## 剔除索引",
   "id": "fb3d5007d70455d6",
   "outputs": [
    {
     "data": {
      "text/plain": [
       "(array([['Alice', 33, 'New York', True, 100],\n",
       "        ['BobF', 30, 'Los Angeles', False, 101],\n",
       "        ['Charlie', 35, 'Chicago', True, 102],\n",
       "        ['David', 40, 'Houston', False, 103],\n",
       "        ['Lily', 50, 'ShangHai', True, 104],\n",
       "        ['Tom', 60, 'BeiJing', False, 105]], dtype=object),\n",
       " numpy.ndarray)"
      ]
     },
     "execution_count": 140,
     "metadata": {},
     "output_type": "execute_result"
    }
   ],
   "execution_count": 140
  },
  {
   "metadata": {
    "ExecuteTime": {
     "end_time": "2025-04-01T08:42:40.683019Z",
     "start_time": "2025-04-01T08:42:40.679922Z"
    }
   },
   "cell_type": "code",
   "source": "df.head(3)",
   "id": "8daab2b8ac75f7b3",
   "outputs": [
    {
     "data": {
      "text/plain": [
       "      Name  Age         City    Sex  Score\n",
       "0    Alice   33     New York   True    100\n",
       "1     BobF   30  Los Angeles  False    101\n",
       "2  Charlie   35      Chicago   True    102"
      ],
      "text/html": [
       "<div>\n",
       "<style scoped>\n",
       "    .dataframe tbody tr th:only-of-type {\n",
       "        vertical-align: middle;\n",
       "    }\n",
       "\n",
       "    .dataframe tbody tr th {\n",
       "        vertical-align: top;\n",
       "    }\n",
       "\n",
       "    .dataframe thead th {\n",
       "        text-align: right;\n",
       "    }\n",
       "</style>\n",
       "<table border=\"1\" class=\"dataframe\">\n",
       "  <thead>\n",
       "    <tr style=\"text-align: right;\">\n",
       "      <th></th>\n",
       "      <th>Name</th>\n",
       "      <th>Age</th>\n",
       "      <th>City</th>\n",
       "      <th>Sex</th>\n",
       "      <th>Score</th>\n",
       "    </tr>\n",
       "  </thead>\n",
       "  <tbody>\n",
       "    <tr>\n",
       "      <th>0</th>\n",
       "      <td>Alice</td>\n",
       "      <td>33</td>\n",
       "      <td>New York</td>\n",
       "      <td>True</td>\n",
       "      <td>100</td>\n",
       "    </tr>\n",
       "    <tr>\n",
       "      <th>1</th>\n",
       "      <td>BobF</td>\n",
       "      <td>30</td>\n",
       "      <td>Los Angeles</td>\n",
       "      <td>False</td>\n",
       "      <td>101</td>\n",
       "    </tr>\n",
       "    <tr>\n",
       "      <th>2</th>\n",
       "      <td>Charlie</td>\n",
       "      <td>35</td>\n",
       "      <td>Chicago</td>\n",
       "      <td>True</td>\n",
       "      <td>102</td>\n",
       "    </tr>\n",
       "  </tbody>\n",
       "</table>\n",
       "</div>"
      ]
     },
     "execution_count": 141,
     "metadata": {},
     "output_type": "execute_result"
    }
   ],
   "execution_count": 141
  },
  {
   "metadata": {
    "ExecuteTime": {
     "end_time": "2025-04-01T08:42:49.023727Z",
     "start_time": "2025-04-01T08:42:49.020608Z"
    }
   },
   "cell_type": "code",
   "source": "df.tail(5)",
   "id": "22003cc54392e19e",
   "outputs": [
    {
     "data": {
      "text/plain": [
       "      Name  Age         City    Sex  Score\n",
       "1     BobF   30  Los Angeles  False    101\n",
       "2  Charlie   35      Chicago   True    102\n",
       "3    David   40      Houston  False    103\n",
       "4     Lily   50     ShangHai   True    104\n",
       "5      Tom   60      BeiJing  False    105"
      ],
      "text/html": [
       "<div>\n",
       "<style scoped>\n",
       "    .dataframe tbody tr th:only-of-type {\n",
       "        vertical-align: middle;\n",
       "    }\n",
       "\n",
       "    .dataframe tbody tr th {\n",
       "        vertical-align: top;\n",
       "    }\n",
       "\n",
       "    .dataframe thead th {\n",
       "        text-align: right;\n",
       "    }\n",
       "</style>\n",
       "<table border=\"1\" class=\"dataframe\">\n",
       "  <thead>\n",
       "    <tr style=\"text-align: right;\">\n",
       "      <th></th>\n",
       "      <th>Name</th>\n",
       "      <th>Age</th>\n",
       "      <th>City</th>\n",
       "      <th>Sex</th>\n",
       "      <th>Score</th>\n",
       "    </tr>\n",
       "  </thead>\n",
       "  <tbody>\n",
       "    <tr>\n",
       "      <th>1</th>\n",
       "      <td>BobF</td>\n",
       "      <td>30</td>\n",
       "      <td>Los Angeles</td>\n",
       "      <td>False</td>\n",
       "      <td>101</td>\n",
       "    </tr>\n",
       "    <tr>\n",
       "      <th>2</th>\n",
       "      <td>Charlie</td>\n",
       "      <td>35</td>\n",
       "      <td>Chicago</td>\n",
       "      <td>True</td>\n",
       "      <td>102</td>\n",
       "    </tr>\n",
       "    <tr>\n",
       "      <th>3</th>\n",
       "      <td>David</td>\n",
       "      <td>40</td>\n",
       "      <td>Houston</td>\n",
       "      <td>False</td>\n",
       "      <td>103</td>\n",
       "    </tr>\n",
       "    <tr>\n",
       "      <th>4</th>\n",
       "      <td>Lily</td>\n",
       "      <td>50</td>\n",
       "      <td>ShangHai</td>\n",
       "      <td>True</td>\n",
       "      <td>104</td>\n",
       "    </tr>\n",
       "    <tr>\n",
       "      <th>5</th>\n",
       "      <td>Tom</td>\n",
       "      <td>60</td>\n",
       "      <td>BeiJing</td>\n",
       "      <td>False</td>\n",
       "      <td>105</td>\n",
       "    </tr>\n",
       "  </tbody>\n",
       "</table>\n",
       "</div>"
      ]
     },
     "execution_count": 142,
     "metadata": {},
     "output_type": "execute_result"
    }
   ],
   "execution_count": 142
  },
  {
   "metadata": {
    "ExecuteTime": {
     "end_time": "2025-04-01T09:05:42.863428Z",
     "start_time": "2025-04-01T09:05:42.855206Z"
    }
   },
   "cell_type": "code",
   "source": [
    "### 统计属性\n",
    "np.max(df['Score'])\n",
    "np.min(df['Score'])\n",
    "np.median(df['Score'])\n",
    "np.mean(df['Score'])\n",
    "np.std(df['Score'])\n",
    "np.var(df['Score']) ##方差\n",
    "np.cov(df['Score']) ##协方差\n",
    "df.describe()\n",
    "df.describe(include=['object', 'number'])"
   ],
   "id": "165a891897d28f4e",
   "outputs": [
    {
     "data": {
      "text/plain": [
       "         Name        Age      City       Score\n",
       "count       6   6.000000         6    6.000000\n",
       "unique      6        NaN         6         NaN\n",
       "top     Alice        NaN  New York         NaN\n",
       "freq        1        NaN         1         NaN\n",
       "mean      NaN  41.333333       NaN  102.500000\n",
       "std       NaN  11.518102       NaN    1.870829\n",
       "min       NaN  30.000000       NaN  100.000000\n",
       "25%       NaN  33.500000       NaN  101.250000\n",
       "50%       NaN  37.500000       NaN  102.500000\n",
       "75%       NaN  47.500000       NaN  103.750000\n",
       "max       NaN  60.000000       NaN  105.000000"
      ],
      "text/html": [
       "<div>\n",
       "<style scoped>\n",
       "    .dataframe tbody tr th:only-of-type {\n",
       "        vertical-align: middle;\n",
       "    }\n",
       "\n",
       "    .dataframe tbody tr th {\n",
       "        vertical-align: top;\n",
       "    }\n",
       "\n",
       "    .dataframe thead th {\n",
       "        text-align: right;\n",
       "    }\n",
       "</style>\n",
       "<table border=\"1\" class=\"dataframe\">\n",
       "  <thead>\n",
       "    <tr style=\"text-align: right;\">\n",
       "      <th></th>\n",
       "      <th>Name</th>\n",
       "      <th>Age</th>\n",
       "      <th>City</th>\n",
       "      <th>Score</th>\n",
       "    </tr>\n",
       "  </thead>\n",
       "  <tbody>\n",
       "    <tr>\n",
       "      <th>count</th>\n",
       "      <td>6</td>\n",
       "      <td>6.000000</td>\n",
       "      <td>6</td>\n",
       "      <td>6.000000</td>\n",
       "    </tr>\n",
       "    <tr>\n",
       "      <th>unique</th>\n",
       "      <td>6</td>\n",
       "      <td>NaN</td>\n",
       "      <td>6</td>\n",
       "      <td>NaN</td>\n",
       "    </tr>\n",
       "    <tr>\n",
       "      <th>top</th>\n",
       "      <td>Alice</td>\n",
       "      <td>NaN</td>\n",
       "      <td>New York</td>\n",
       "      <td>NaN</td>\n",
       "    </tr>\n",
       "    <tr>\n",
       "      <th>freq</th>\n",
       "      <td>1</td>\n",
       "      <td>NaN</td>\n",
       "      <td>1</td>\n",
       "      <td>NaN</td>\n",
       "    </tr>\n",
       "    <tr>\n",
       "      <th>mean</th>\n",
       "      <td>NaN</td>\n",
       "      <td>41.333333</td>\n",
       "      <td>NaN</td>\n",
       "      <td>102.500000</td>\n",
       "    </tr>\n",
       "    <tr>\n",
       "      <th>std</th>\n",
       "      <td>NaN</td>\n",
       "      <td>11.518102</td>\n",
       "      <td>NaN</td>\n",
       "      <td>1.870829</td>\n",
       "    </tr>\n",
       "    <tr>\n",
       "      <th>min</th>\n",
       "      <td>NaN</td>\n",
       "      <td>30.000000</td>\n",
       "      <td>NaN</td>\n",
       "      <td>100.000000</td>\n",
       "    </tr>\n",
       "    <tr>\n",
       "      <th>25%</th>\n",
       "      <td>NaN</td>\n",
       "      <td>33.500000</td>\n",
       "      <td>NaN</td>\n",
       "      <td>101.250000</td>\n",
       "    </tr>\n",
       "    <tr>\n",
       "      <th>50%</th>\n",
       "      <td>NaN</td>\n",
       "      <td>37.500000</td>\n",
       "      <td>NaN</td>\n",
       "      <td>102.500000</td>\n",
       "    </tr>\n",
       "    <tr>\n",
       "      <th>75%</th>\n",
       "      <td>NaN</td>\n",
       "      <td>47.500000</td>\n",
       "      <td>NaN</td>\n",
       "      <td>103.750000</td>\n",
       "    </tr>\n",
       "    <tr>\n",
       "      <th>max</th>\n",
       "      <td>NaN</td>\n",
       "      <td>60.000000</td>\n",
       "      <td>NaN</td>\n",
       "      <td>105.000000</td>\n",
       "    </tr>\n",
       "  </tbody>\n",
       "</table>\n",
       "</div>"
      ]
     },
     "execution_count": 181,
     "metadata": {},
     "output_type": "execute_result"
    }
   ],
   "execution_count": 181
  },
  {
   "metadata": {
    "ExecuteTime": {
     "end_time": "2025-04-01T09:00:52.467968Z",
     "start_time": "2025-04-01T09:00:52.463772Z"
    }
   },
   "cell_type": "code",
   "source": [
    "df.sum(axis='index', numeric_only=True)\n",
    "df.sum(axis='columns', numeric_only=True)\n",
    "df.sum(axis='rows', numeric_only=True)\n",
    "df.sum(axis=0, numeric_only=True)\n",
    "df.sum(axis=1, numeric_only=True)"
   ],
   "id": "c41bca0433bba0a2",
   "outputs": [
    {
     "data": {
      "text/plain": [
       "0    134\n",
       "1    131\n",
       "2    138\n",
       "3    143\n",
       "4    155\n",
       "5    165\n",
       "dtype: object"
      ]
     },
     "execution_count": 169,
     "metadata": {},
     "output_type": "execute_result"
    }
   ],
   "execution_count": 169
  },
  {
   "metadata": {
    "ExecuteTime": {
     "end_time": "2025-04-01T09:01:12.097872Z",
     "start_time": "2025-04-01T09:01:12.094408Z"
    }
   },
   "cell_type": "code",
   "source": "df.cumsum(axis=0)",
   "id": "7b7ca72e4bc98211",
   "outputs": [
    {
     "data": {
      "text/plain": [
       "                           Name  Age  \\\n",
       "0                         Alice   33   \n",
       "1                     AliceBobF   63   \n",
       "2              AliceBobFCharlie   98   \n",
       "3         AliceBobFCharlieDavid  138   \n",
       "4     AliceBobFCharlieDavidLily  188   \n",
       "5  AliceBobFCharlieDavidLilyTom  248   \n",
       "\n",
       "                                               City  Sex  Score  \n",
       "0                                          New York    1    100  \n",
       "1                               New YorkLos Angeles    1    201  \n",
       "2                        New YorkLos AngelesChicago    2    303  \n",
       "3                 New YorkLos AngelesChicagoHouston    2    406  \n",
       "4         New YorkLos AngelesChicagoHoustonShangHai    3    510  \n",
       "5  New YorkLos AngelesChicagoHoustonShangHaiBeiJing    3    615  "
      ],
      "text/html": [
       "<div>\n",
       "<style scoped>\n",
       "    .dataframe tbody tr th:only-of-type {\n",
       "        vertical-align: middle;\n",
       "    }\n",
       "\n",
       "    .dataframe tbody tr th {\n",
       "        vertical-align: top;\n",
       "    }\n",
       "\n",
       "    .dataframe thead th {\n",
       "        text-align: right;\n",
       "    }\n",
       "</style>\n",
       "<table border=\"1\" class=\"dataframe\">\n",
       "  <thead>\n",
       "    <tr style=\"text-align: right;\">\n",
       "      <th></th>\n",
       "      <th>Name</th>\n",
       "      <th>Age</th>\n",
       "      <th>City</th>\n",
       "      <th>Sex</th>\n",
       "      <th>Score</th>\n",
       "    </tr>\n",
       "  </thead>\n",
       "  <tbody>\n",
       "    <tr>\n",
       "      <th>0</th>\n",
       "      <td>Alice</td>\n",
       "      <td>33</td>\n",
       "      <td>New York</td>\n",
       "      <td>1</td>\n",
       "      <td>100</td>\n",
       "    </tr>\n",
       "    <tr>\n",
       "      <th>1</th>\n",
       "      <td>AliceBobF</td>\n",
       "      <td>63</td>\n",
       "      <td>New YorkLos Angeles</td>\n",
       "      <td>1</td>\n",
       "      <td>201</td>\n",
       "    </tr>\n",
       "    <tr>\n",
       "      <th>2</th>\n",
       "      <td>AliceBobFCharlie</td>\n",
       "      <td>98</td>\n",
       "      <td>New YorkLos AngelesChicago</td>\n",
       "      <td>2</td>\n",
       "      <td>303</td>\n",
       "    </tr>\n",
       "    <tr>\n",
       "      <th>3</th>\n",
       "      <td>AliceBobFCharlieDavid</td>\n",
       "      <td>138</td>\n",
       "      <td>New YorkLos AngelesChicagoHouston</td>\n",
       "      <td>2</td>\n",
       "      <td>406</td>\n",
       "    </tr>\n",
       "    <tr>\n",
       "      <th>4</th>\n",
       "      <td>AliceBobFCharlieDavidLily</td>\n",
       "      <td>188</td>\n",
       "      <td>New YorkLos AngelesChicagoHoustonShangHai</td>\n",
       "      <td>3</td>\n",
       "      <td>510</td>\n",
       "    </tr>\n",
       "    <tr>\n",
       "      <th>5</th>\n",
       "      <td>AliceBobFCharlieDavidLilyTom</td>\n",
       "      <td>248</td>\n",
       "      <td>New YorkLos AngelesChicagoHoustonShangHaiBeiJing</td>\n",
       "      <td>3</td>\n",
       "      <td>615</td>\n",
       "    </tr>\n",
       "  </tbody>\n",
       "</table>\n",
       "</div>"
      ]
     },
     "execution_count": 171,
     "metadata": {},
     "output_type": "execute_result"
    }
   ],
   "execution_count": 171
  },
  {
   "metadata": {
    "ExecuteTime": {
     "end_time": "2025-04-01T09:16:06.121934Z",
     "start_time": "2025-04-01T09:16:06.115615Z"
    }
   },
   "cell_type": "code",
   "source": [
    "### 排序\n",
    "## 按指定列排序\n",
    "df.sort_values(by=['Score'], ascending=False)\n",
    "## 先按age排序,后按score排序\n",
    "df.sort_values(by=['Age', 'Score'], ascending=[True, False])"
   ],
   "id": "4aa3b10d2130efb",
   "outputs": [
    {
     "data": {
      "text/plain": [
       "      Name  Age         City    Sex  Score\n",
       "1     BobF   30  Los Angeles  False    101\n",
       "0    Alice   33     New York   True    100\n",
       "2  Charlie   35      Chicago   True    102\n",
       "3    David   40      Houston  False    103\n",
       "4     Lily   50     ShangHai   True    104\n",
       "5      Tom   60      BeiJing  False    105"
      ],
      "text/html": [
       "<div>\n",
       "<style scoped>\n",
       "    .dataframe tbody tr th:only-of-type {\n",
       "        vertical-align: middle;\n",
       "    }\n",
       "\n",
       "    .dataframe tbody tr th {\n",
       "        vertical-align: top;\n",
       "    }\n",
       "\n",
       "    .dataframe thead th {\n",
       "        text-align: right;\n",
       "    }\n",
       "</style>\n",
       "<table border=\"1\" class=\"dataframe\">\n",
       "  <thead>\n",
       "    <tr style=\"text-align: right;\">\n",
       "      <th></th>\n",
       "      <th>Name</th>\n",
       "      <th>Age</th>\n",
       "      <th>City</th>\n",
       "      <th>Sex</th>\n",
       "      <th>Score</th>\n",
       "    </tr>\n",
       "  </thead>\n",
       "  <tbody>\n",
       "    <tr>\n",
       "      <th>1</th>\n",
       "      <td>BobF</td>\n",
       "      <td>30</td>\n",
       "      <td>Los Angeles</td>\n",
       "      <td>False</td>\n",
       "      <td>101</td>\n",
       "    </tr>\n",
       "    <tr>\n",
       "      <th>0</th>\n",
       "      <td>Alice</td>\n",
       "      <td>33</td>\n",
       "      <td>New York</td>\n",
       "      <td>True</td>\n",
       "      <td>100</td>\n",
       "    </tr>\n",
       "    <tr>\n",
       "      <th>2</th>\n",
       "      <td>Charlie</td>\n",
       "      <td>35</td>\n",
       "      <td>Chicago</td>\n",
       "      <td>True</td>\n",
       "      <td>102</td>\n",
       "    </tr>\n",
       "    <tr>\n",
       "      <th>3</th>\n",
       "      <td>David</td>\n",
       "      <td>40</td>\n",
       "      <td>Houston</td>\n",
       "      <td>False</td>\n",
       "      <td>103</td>\n",
       "    </tr>\n",
       "    <tr>\n",
       "      <th>4</th>\n",
       "      <td>Lily</td>\n",
       "      <td>50</td>\n",
       "      <td>ShangHai</td>\n",
       "      <td>True</td>\n",
       "      <td>104</td>\n",
       "    </tr>\n",
       "    <tr>\n",
       "      <th>5</th>\n",
       "      <td>Tom</td>\n",
       "      <td>60</td>\n",
       "      <td>BeiJing</td>\n",
       "      <td>False</td>\n",
       "      <td>105</td>\n",
       "    </tr>\n",
       "  </tbody>\n",
       "</table>\n",
       "</div>"
      ]
     },
     "execution_count": 202,
     "metadata": {},
     "output_type": "execute_result"
    }
   ],
   "execution_count": 202
  },
  {
   "metadata": {
    "ExecuteTime": {
     "end_time": "2025-04-01T09:13:29.808159Z",
     "start_time": "2025-04-01T09:13:29.802607Z"
    }
   },
   "cell_type": "code",
   "source": [
    "## 按索引排序\n",
    "## 按索引列方向排序(索引值)\n",
    "# df.sort_index(ascending=False)\n",
    "## 按索引行方向排序(索引值)\n",
    "df.sort_index(ascending=False, axis=1)"
   ],
   "id": "e067664fafbf3c2c",
   "outputs": [
    {
     "data": {
      "text/plain": [
       "     Sex  Score     Name         City  Age\n",
       "0   True    100    Alice     New York   33\n",
       "1  False    101     BobF  Los Angeles   30\n",
       "2   True    102  Charlie      Chicago   35\n",
       "3  False    103    David      Houston   40\n",
       "4   True    104     Lily     ShangHai   50\n",
       "5  False    105      Tom      BeiJing   60"
      ],
      "text/html": [
       "<div>\n",
       "<style scoped>\n",
       "    .dataframe tbody tr th:only-of-type {\n",
       "        vertical-align: middle;\n",
       "    }\n",
       "\n",
       "    .dataframe tbody tr th {\n",
       "        vertical-align: top;\n",
       "    }\n",
       "\n",
       "    .dataframe thead th {\n",
       "        text-align: right;\n",
       "    }\n",
       "</style>\n",
       "<table border=\"1\" class=\"dataframe\">\n",
       "  <thead>\n",
       "    <tr style=\"text-align: right;\">\n",
       "      <th></th>\n",
       "      <th>Sex</th>\n",
       "      <th>Score</th>\n",
       "      <th>Name</th>\n",
       "      <th>City</th>\n",
       "      <th>Age</th>\n",
       "    </tr>\n",
       "  </thead>\n",
       "  <tbody>\n",
       "    <tr>\n",
       "      <th>0</th>\n",
       "      <td>True</td>\n",
       "      <td>100</td>\n",
       "      <td>Alice</td>\n",
       "      <td>New York</td>\n",
       "      <td>33</td>\n",
       "    </tr>\n",
       "    <tr>\n",
       "      <th>1</th>\n",
       "      <td>False</td>\n",
       "      <td>101</td>\n",
       "      <td>BobF</td>\n",
       "      <td>Los Angeles</td>\n",
       "      <td>30</td>\n",
       "    </tr>\n",
       "    <tr>\n",
       "      <th>2</th>\n",
       "      <td>True</td>\n",
       "      <td>102</td>\n",
       "      <td>Charlie</td>\n",
       "      <td>Chicago</td>\n",
       "      <td>35</td>\n",
       "    </tr>\n",
       "    <tr>\n",
       "      <th>3</th>\n",
       "      <td>False</td>\n",
       "      <td>103</td>\n",
       "      <td>David</td>\n",
       "      <td>Houston</td>\n",
       "      <td>40</td>\n",
       "    </tr>\n",
       "    <tr>\n",
       "      <th>4</th>\n",
       "      <td>True</td>\n",
       "      <td>104</td>\n",
       "      <td>Lily</td>\n",
       "      <td>ShangHai</td>\n",
       "      <td>50</td>\n",
       "    </tr>\n",
       "    <tr>\n",
       "      <th>5</th>\n",
       "      <td>False</td>\n",
       "      <td>105</td>\n",
       "      <td>Tom</td>\n",
       "      <td>BeiJing</td>\n",
       "      <td>60</td>\n",
       "    </tr>\n",
       "  </tbody>\n",
       "</table>\n",
       "</div>"
      ]
     },
     "execution_count": 198,
     "metadata": {},
     "output_type": "execute_result"
    }
   ],
   "execution_count": 198
  },
  {
   "metadata": {
    "ExecuteTime": {
     "end_time": "2025-04-01T09:55:00.693485Z",
     "start_time": "2025-04-01T09:55:00.684783Z"
    }
   },
   "cell_type": "code",
   "source": [
    "### 分组\n",
    "## 可以查看图片images里的介绍\n",
    "## https://zhuanlan.zhihu.com/p/101284491 --group\n",
    "## https://zhuanlan.zhihu.com/p/100064394 --map apply applymap\n",
    "## https://zhuanlan.zhihu.com/p/102274476 --merge\n",
    "\n",
    "company=[\"A\",\"B\",\"C\"]\n",
    "data=pd.DataFrame({\n",
    "    \"company\":[company[x] for x in np.random.randint(0,len(company),10)],\n",
    "    \"salary\":np.random.randint(5,50,10),\n",
    "    \"age\":np.random.randint(15,50,10)\n",
    "})\n",
    "groupObj = data.groupby('company')\n",
    "### groupBy后 需要转成list才能看懂存储的内容\n",
    "list(groupObj)"
   ],
   "id": "f5b0bd1623b0d709",
   "outputs": [
    {
     "data": {
      "text/plain": [
       "[('A',\n",
       "    company  salary  age\n",
       "  0       A      32   43),\n",
       " ('B',\n",
       "    company  salary  age\n",
       "  1       B      45   30\n",
       "  3       B      41   48\n",
       "  6       B      18   43),\n",
       " ('C',\n",
       "    company  salary  age\n",
       "  2       C      39   46\n",
       "  4       C      10   37\n",
       "  5       C      47   40\n",
       "  7       C      21   29\n",
       "  8       C       7   15\n",
       "  9       C      28   34)]"
      ]
     },
     "execution_count": 205,
     "metadata": {},
     "output_type": "execute_result"
    }
   ],
   "execution_count": 205
  },
  {
   "metadata": {},
   "cell_type": "code",
   "outputs": [],
   "execution_count": null,
   "source": "",
   "id": "f404c1b3b60caec9"
  },
  {
   "metadata": {},
   "cell_type": "code",
   "outputs": [],
   "execution_count": null,
   "source": "",
   "id": "2122f60f131ed803"
  }
 ],
 "metadata": {
  "kernelspec": {
   "display_name": "Python 3",
   "language": "python",
   "name": "python3"
  },
  "language_info": {
   "codemirror_mode": {
    "name": "ipython",
    "version": 2
   },
   "file_extension": ".py",
   "mimetype": "text/x-python",
   "name": "python",
   "nbconvert_exporter": "python",
   "pygments_lexer": "ipython2",
   "version": "2.7.6"
  }
 },
 "nbformat": 4,
 "nbformat_minor": 5
}
