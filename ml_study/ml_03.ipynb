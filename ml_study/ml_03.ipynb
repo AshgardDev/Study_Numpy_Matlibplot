{
 "cells": [
  {
   "cell_type": "code",
   "execution_count": null,
   "id": "initial_id",
   "metadata": {
    "collapsed": true
   },
   "outputs": [],
   "source": "### sklearn的线性回归"
  },
  {
   "metadata": {
    "ExecuteTime": {
     "end_time": "2025-04-09T06:34:48.757454Z",
     "start_time": "2025-04-09T06:34:48.706995Z"
    }
   },
   "cell_type": "code",
   "source": [
    "from sklearn.linear_model import LinearRegression\n",
    "import numpy as np\n",
    "import matplotlib.pyplot as plt\n",
    "import sklearn.metrics as sm\n",
    "\n",
    "xs = np.array([0.5, 0.6, 0.8, 1.1, 1.4]).reshape(-1, 1)\n",
    "ys = np.array([5.0, 5.5, 6.0, 6.8, 7.0]).reshape(-1, 1)\n",
    "\n",
    "model = LinearRegression()\n",
    "model.fit(xs, ys)\n",
    "\n",
    "print(model.coef_, model.intercept_)\n",
    "y_pred = model.predict(xs)\n",
    "\n",
    "print(\"均方误差:\", sm.mean_squared_error(ys, y_pred))\n",
    "print(\"均值绝对值误差:\", sm.mean_absolute_error(ys, y_pred))\n",
    "print(\"中值绝对值误差:\", sm.median_absolute_error(ys, y_pred))\n",
    "print(\"R2得分 (0. 1]区间, 分数越高,误差越小.):\", sm.r2_score(ys, y_pred))\n",
    "\n",
    "\n",
    "plt.figure()\n",
    "plt.scatter(xs, ys, label=\"data\")\n",
    "plt.plot(xs, model.predict(xs), c='orangered', label=\"prediction\")\n",
    "plt.xlabel('x')\n",
    "plt.ylabel('y')\n",
    "plt.show()"
   ],
   "id": "b0438721f71277e7",
   "outputs": [
    {
     "name": "stdout",
     "output_type": "stream",
     "text": [
      "[[2.2189781]] [4.10729927]\n",
      "均方误差: 0.034744525547445136\n",
      "均值绝对值误差: 0.17226277372262738\n",
      "中值绝对值误差: 0.21386861313868621\n",
      "R2得分 (0. 1]区间, 分数越高,误差越小.): 0.9395116198686541\n"
     ]
    },
    {
     "data": {
      "text/plain": [
       "<Figure size 640x480 with 1 Axes>"
      ],
      "image/png": "[encoded data removed]"
     },
     "metadata": {},
     "output_type": "display_data"
    }
   ],
   "execution_count": 9
  },
  {
   "metadata": {
    "ExecuteTime": {
     "end_time": "2025-04-09T06:43:19.409717Z",
     "start_time": "2025-04-09T06:43:19.399683Z"
    }
   },
   "cell_type": "code",
   "source": [
    "### 模型的保存和加载\n",
    "import pickle\n",
    "\n",
    "with open(\"ml_03_model.pkl\", \"wb\") as f:\n",
    "    pickle.dump(model, f)\n"
   ],
   "id": "4d54f099f38b7bfe",
   "outputs": [],
   "execution_count": 10
  },
  {
   "metadata": {
    "ExecuteTime": {
     "end_time": "2025-04-09T06:44:34.766810Z",
     "start_time": "2025-04-09T06:44:34.763370Z"
    }
   },
   "cell_type": "code",
   "source": [
    "with open(\"ml_03_model.pkl\", \"rb\") as f:\n",
    "    model = pickle.load(f)\n",
    "    print(model.coef_, model.intercept_)\n",
    "    print(model.predict(xs))"
   ],
   "id": "193cac7a54b231c1",
   "outputs": [
    {
     "name": "stdout",
     "output_type": "stream",
     "text": [
      "[[2.2189781]] [4.10729927]\n",
      "[[5.21678832]\n",
      " [5.43868613]\n",
      " [5.88248175]\n",
      " [6.54817518]\n",
      " [7.21386861]]\n"
     ]
    }
   ],
   "execution_count": 12
  },
  {
   "metadata": {},
   "cell_type": "code",
   "outputs": [],
   "execution_count": null,
   "source": "",
   "id": "abbf762fb78ac8db"
  },
  {
   "metadata": {},
   "cell_type": "code",
   "outputs": [],
   "execution_count": null,
   "source": "",
   "id": "d17b1cfa62fb1511"
  },
  {
   "metadata": {},
   "cell_type": "code",
   "outputs": [],
   "execution_count": null,
   "source": "",
   "id": "74f27c1414e4aa96"
  },
  {
   "metadata": {},
   "cell_type": "code",
   "outputs": [],
   "execution_count": null,
   "source": "",
   "id": "6807c623dabe5983"
  },
  {
   "metadata": {},
   "cell_type": "code",
   "outputs": [],
   "execution_count": null,
   "source": "",
   "id": "f1ae029c9f399155"
  },
  {
   "metadata": {},
   "cell_type": "code",
   "outputs": [],
   "execution_count": null,
   "source": "",
   "id": "adacb2a23f883691"
  },
  {
   "metadata": {},
   "cell_type": "code",
   "outputs": [],
   "execution_count": null,
   "source": "",
   "id": "5d1afd2311d1b37"
  },
  {
   "metadata": {},
   "cell_type": "markdown",
   "source": [
    "## 回归模型中常用的评估指标 **R² 分数**（决定系数，Coefficient of Determination)\n",
    "\n",
    "---\n",
    "\n",
    "### R² 分数的定义\n",
    "R² 分数衡量回归模型对数据的拟合程度，表示模型解释的因变量方差占总方差的比例。它的取值范围通常在 \\(-\\infty\\) 到 1 之间：\n",
    "- **R² = 1**：模型完美预测所有数据点。\n",
    "- **R² = 0**：模型的预测能力等同于简单取均值（即没有解释任何方差）。\n",
    "- **R² < 0**：模型比简单均值预测还差（可能是过拟合或模型不合适）。\n",
    "\n",
    "---\n",
    "\n",
    "### R² 分数的公式\n",
    "R² 分数的数学公式如下：\n",
    "\n",
    "\n",
    "$\n",
    " R^2 = 1 - \\frac{\\text{SS}_{\\text{res}}}{\\text{SS}_{\\text{tot}}}\n",
    "$\n",
    "\n",
    "\n",
    "其中：\n",
    "- $**\\(\\text{SS}_{\\text{res}}\\)**（残差平方和，Sum of Squared Residuals）：模型预测值与真实值之间的差的平方和。$\n",
    "  $\\[ \\text{SS}_{\\text{res}} = \\sum_{i=1}^{n} (y_i - \\hat{y}_i)^2 \\]$\n",
    "  - $\\(y_i\\)：第 \\(i\\) 个样本的真实值。$\n",
    "  - $\\(\\hat{y}_i\\)：第 \\(i\\) 个样本的预测值。$\n",
    "- **$\\(\\text{SS}_{\\text{tot}}\\)**（总平方和，Total Sum of Squares）：真实值与均值之间的差的平方和，表示数据的总方差。$\n",
    "  $\\[ \\text{SS}_{\\text{tot}} = \\sum_{i=1}^{n} (y_i - \\bar{y})^2 \\]$\n",
    "  - $\\(\\bar{y}\\)：真实值的均值。$\n",
    "\n",
    "\n",
    "#### 直观理解\n",
    "- \\(\\text{SS}_{\\text{res}}\\) 表示模型未解释的误差。\n",
    "- \\(\\text{SS}_{\\text{tot}}\\) 表示数据的总变异性。\n",
    "- \\(R^2\\) 是 1 减去未解释方差与总方差的比率，因此 \\(R^2\\) 越高，模型解释的方差越多。\n",
    "\n",
    "---\n",
    "\n",
    "### 特点\n",
    "1. **范围**：\n",
    "   - \\(R^2 \\leq 1\\)，上限为 1。\n",
    "   - 如果模型很差（例如预测值完全偏离真实值），\\(R^2\\) 可以为负数，因为 \\(\\text{SS}_{\\text{res}}\\) 可能大于 \\(\\text{SS}_{\\text{tot}}\\)。\n",
    "2. **解释**：\n",
    "   - \\(R^2 = 0.8\\) 表示模型解释了 80% 的数据方差。\n",
    "   - \\(R^2 = 0\\) 表示模型没有比均值预测更好。\n",
    "3. **局限性**：\n",
    "   - \\(R^2\\) 不会告诉你模型是否过拟合。\n",
    "   - 添加无关特征可能人为提高 \\(R^2\\)，因此需要结合调整后的 \\(R^2\\)（Adjusted R²）或交叉验证。\n",
    "\n",
    "---\n",
    "\n",
    "### 在 Python 中计算 R² 分数\n",
    "使用 scikit-learn 的 `r2_score` 函数可以直接计算 R² 分数。以下是一个简单示例：\n",
    "\n",
    "```python\n",
    "from sklearn.linear_model import LinearRegression\n",
    "from sklearn.metrics import r2_score\n",
    "from sklearn.datasets import make_regression\n",
    "\n",
    "# 生成模拟回归数据集\n",
    "X, y = make_regression(n_samples=100, n_features=1, noise=10, random_state=42)\n",
    "\n",
    "# 训练线性回归模型\n",
    "model = LinearRegression()\n",
    "model.fit(X, y)\n",
    "\n",
    "# 预测\n",
    "y_pred = model.predict(X)\n",
    "\n",
    "# 计算 R² 分数\n",
    "r2 = r2_score(y, y_pred)\n",
    "print(\"R² 分数:\", r2)\n",
    "\n",
    "# 手动计算 R²（验证公式）\n",
    "y_mean = y.mean()\n",
    "ss_tot = sum((y - y_mean) ** 2)  # 总平方和\n",
    "ss_res = sum((y - y_pred) ** 2)  # 残差平方和\n",
    "r2_manual = 1 - (ss_res / ss_tot)\n",
    "print(\"手动计算 R²:\", r2_manual)\n",
    "```\n",
    "\n",
    "#### 输出示例\n",
    "```\n",
    "R² 分数: 0.925\n",
    "手动计算 R²: 0.925\n",
    "```\n",
    "- \\(R^2 = 0.925\\) 表示模型解释了 92.5% 的数据方差，拟合效果很好。\n",
    "- 手动计算结果与 `r2_score` 一致，验证了公式的正确性。\n",
    "\n",
    "---\n",
    "\n",
    "### 手动计算示例\n",
    "假设有以下数据：\n",
    "- 真实值 \\(y = [2, 4, 5, 4, 5]\\)\n",
    "- 预测值 \\(\\hat{y} = [2.2, 3.8, 4.9, 4.1, 4.8]\\)\n",
    "\n",
    "1. **计算均值**：\n",
    "   \\[ \\bar{y} = \\frac{2 + 4 + 5 + 4 + 5}{5} = 4 \\]\n",
    "\n",
    "2. **计算 \\(\\text{SS}_{\\text{tot}}\\)**：\n",
    "   \\[ \\text{SS}_{\\text{tot}} = (2-4)^2 + (4-4)^2 + (5-4)^2 + (4-4)^2 + (5-4)^2 = 4 + 0 + 1 + 0 + 1 = 6 \\]\n",
    "\n",
    "3. **计算 \\(\\text{SS}_{\\text{res}}\\)**：\n",
    "   \\[ \\text{SS}_{\\text{res}} = (2-2.2)^2 + (4-3.8)^2 + (5-4.9)^2 + (4-4.1)^2 + (5-4.8)^2 \\]\n",
    "   \\[ = 0.04 + 0.04 + 0.01 + 0.01 + 0.04 = 0.14 \\]\n",
    "\n",
    "4. **计算 R²**：\n",
    "   \\[ R^2 = 1 - \\frac{0.14}{6} = 1 - 0.0233 = 0.9767 \\]\n",
    "\n",
    "- \\(R^2 \\approx 0.977\\)，表示模型拟合非常好。\n",
    "\n",
    "---\n",
    "\n",
    "### 注意事项\n",
    "1. **负值情况**：\n",
    "   - 如果 \\(\\text{SS}_{\\text{res}} > \\text{SS}_{\\text{tot}}\\)（例如预测值偏离很大），\\(R^2\\) 会小于 0。\n",
    "2. **与分类指标的区别**：\n",
    "   - \\(R^2\\) 用于回归任务，而 F1、AUC、ROC 用于分类任务。\n",
    "3. **局限性**：\n",
    "   - \\(R^2\\) 不反映预测的绝对误差大小（可以用 MSE 或 MAE 补充）。\n",
    "\n",
    "---\n",
    "\n",
    "如果你有具体问题（比如想手动实现公式、解释某个 \\(R^2\\) 值，或结合特定数据集计算），请告诉我，我会进一步帮你解答！"
   ],
   "id": "ee2111cc91e37a2e"
  },
  {
   "metadata": {},
   "cell_type": "code",
   "outputs": [],
   "execution_count": null,
   "source": "",
   "id": "252d93bb59c15c42"
  }
 ],
 "metadata": {
  "kernelspec": {
   "display_name": "Python 3",
   "language": "python",
   "name": "python3"
  },
  "language_info": {
   "codemirror_mode": {
    "name": "ipython",
    "version": 2
   },
   "file_extension": ".py",
   "mimetype": "text/x-python",
   "name": "python",
   "nbconvert_exporter": "python",
   "pygments_lexer": "ipython2",
   "version": "2.7.6"
  }
 },
 "nbformat": 4,
 "nbformat_minor": 5
}
